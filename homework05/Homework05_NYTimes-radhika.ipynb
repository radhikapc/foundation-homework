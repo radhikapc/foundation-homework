{
 "cells": [
  {
   "cell_type": "code",
   "execution_count": 1,
   "metadata": {
    "collapsed": true
   },
   "outputs": [],
   "source": [
    "import requests"
   ]
  },
  {
   "cell_type": "code",
   "execution_count": 2,
   "metadata": {
    "collapsed": false
   },
   "outputs": [],
   "source": [
    "response = requests.get('http://api.nytimes.com/svc/books/v2/lists/2010-05-09/hardcover-fiction.json?api-key=3880684abea14d86b6280c6dbd80a793')\n",
    "data = response.json()\n",
    "#print(data)"
   ]
  },
  {
   "cell_type": "code",
   "execution_count": 5,
   "metadata": {
    "collapsed": false
   },
   "outputs": [],
   "source": [
    "#print(data.keys())"
   ]
  },
  {
   "cell_type": "code",
   "execution_count": 6,
   "metadata": {
    "collapsed": false
   },
   "outputs": [],
   "source": [
    "#print(data['results'])"
   ]
  },
  {
   "cell_type": "markdown",
   "metadata": {},
   "source": [
    "### 1a) What books topped the Hardcover Fiction NYT best-sellers list on Mother's Day in 2009 and 2010? How about Father's Day?"
   ]
  },
  {
   "cell_type": "code",
   "execution_count": 3,
   "metadata": {
    "collapsed": false
   },
   "outputs": [
    {
     "name": "stdout",
     "output_type": "stream",
     "text": [
      "The hardcover Fiction NYT best-sellers on mothers day in 2010 are:\n",
      "- DELIVER US FROM EVIL\n",
      "- THE HELP\n",
      "- THE DOUBLE COMFORT SAFARI CLUB\n",
      "- THIS BODY OF DEATH\n",
      "- LUCID INTERVALS\n",
      "- THE SHADOW OF YOUR SMILE\n",
      "- BURNING LAMP\n",
      "- EVERY LAST ONE\n",
      "- EIGHT DAYS TO LIVE\n",
      "- CHANGES\n",
      "- CAUGHT\n",
      "- HOUSE RULES\n",
      "- MATTERHORN\n",
      "- THE WALK\n",
      "- DECEPTION\n",
      "- BEATRICE AND VIRGIL\n",
      "- WRECKED\n",
      "- SILVER BORNE\n",
      "- ABRAHAM LINCOLN: VAMPIRE HUNTER\n",
      "- A RIVER IN THE SKY\n"
     ]
    }
   ],
   "source": [
    "#What books topped the Hardcover Fiction NYT best-sellers list on Mother's Day in 2009 and 2010? How about Father's Day?\n",
    "#mothers day in 2010\n",
    "book_result = data['results']\n",
    "\n",
    "#print(book_result)\n",
    "\n",
    "print(\"The hardcover Fiction NYT best-sellers on mothers day in 2010 are:\")\n",
    "\n",
    "for i in book_result:\n",
    "    #print(i['book_details'])\n",
    "    for item in i['book_details']:\n",
    "        print(\"-\", item['title'])\n",
    "    \n",
    "\n",
    "    "
   ]
  },
  {
   "cell_type": "markdown",
   "metadata": {},
   "source": [
    "### 1b) What books topped the Hardcover Fiction NYT best-sellers list on Mother's Day in 2009 and 2010? How about Father's Day?"
   ]
  },
  {
   "cell_type": "code",
   "execution_count": 13,
   "metadata": {
    "collapsed": false
   },
   "outputs": [
    {
     "name": "stdout",
     "output_type": "stream",
     "text": [
      "The hardcover Fiction NYT best-sellers on mothers day in 2009 are:\n",
      "- FIRST FAMILY\n",
      "- TEA TIME FOR THE TRADITIONALLY BUILT\n",
      "- LOITERING WITH INTENT\n",
      "- JUST TAKE MY HEART\n",
      "- THE PERFECT POISON\n",
      "- THE HOST\n",
      "- LOOK AGAIN\n",
      "- DEADLOCK\n",
      "- LONG LOST\n",
      "- TURN COAT\n",
      "- THE ASSOCIATE\n",
      "- HANDLE WITH CARE\n",
      "- THE HELP\n",
      "- THE GUERNSEY LITERARY AND POTATO PEEL PIE SOCIETY\n",
      "- FATALLY FLAKY\n",
      "- ARTHAS\n",
      "- A RELIABLE WIFE\n",
      "- BORDERLINE\n",
      "- ONE SECOND AFTER\n",
      "- BONEMAN'S DAUGHTERS\n"
     ]
    }
   ],
   "source": [
    "#mothers day in 2009\n",
    "response = requests.get('http://api.nytimes.com/svc/books/v2/lists/2009-05-10/hardcover-fiction.json?api-key=3880684abea14d86b6280c6dbd80a793')\n",
    "data = response.json()\n",
    "#print(data)\n",
    "\n",
    "print(\"The hardcover Fiction NYT best-sellers on mothers day in 2009 are:\")\n",
    "book_result = data['results']\n",
    "\n",
    "#print(book_result)\n",
    "\n",
    "for i in book_result:\n",
    "    #print(i['book_details'])\n",
    "    for item in i['book_details']:\n",
    "        print(\"-\",item['title'])\n",
    "    "
   ]
  },
  {
   "cell_type": "markdown",
   "metadata": {},
   "source": [
    "### 1c) What books topped the Hardcover Fiction NYT best-sellers list on Mother's Day in 2009 and 2010? How about Father's Day?"
   ]
  },
  {
   "cell_type": "code",
   "execution_count": 5,
   "metadata": {
    "collapsed": false
   },
   "outputs": [
    {
     "name": "stdout",
     "output_type": "stream",
     "text": [
      "The hardcover Fiction NYT best-sellers on fathers day in 2010 are:\n",
      "- THE GIRL WHO KICKED THE HORNET’S NEST\n",
      "- BULLET\n",
      "- THE SPY\n",
      "- THE HELP\n",
      "- DEAD IN THE FAMILY\n",
      "- 61 HOURS\n",
      "- THE BURNING WIRE\n",
      "- STORM PREY\n",
      "- THE BOURNE OBJECTIVE\n",
      "- INNOCENT\n",
      "- HEART OF THE MATTER\n",
      "- THE 9TH JUDGMENT\n",
      "- BLOCKADE BILLY\n",
      "- ALLIES\n",
      "- THE RULE OF NINE\n",
      "- FEVER DREAM\n",
      "- DELIVER US FROM EVIL\n",
      "- MATTERHORN\n",
      "- THE PARTICULAR SADNESS OF LEMON CAKE\n",
      "- DANGEROUS\n"
     ]
    }
   ],
   "source": [
    "#fathers day in 2010\n",
    "response = requests.get('http://api.nytimes.com/svc/books/v2/lists/2010-06-20/hardcover-fiction.json?api-key=3880684abea14d86b6280c6dbd80a793')\n",
    "data = response.json()\n",
    "#print(data)\n",
    "print(\"The hardcover Fiction NYT best-sellers on fathers day in 2010 are:\")\n",
    "book_result = data['results']\n",
    "\n",
    "#print(book_result)\n",
    "\n",
    "for i in book_result:\n",
    "    #print(i['book_details'])\n",
    "    for item in i['book_details']:\n",
    "        print(\"-\", item['title'])\n",
    "    "
   ]
  },
  {
   "cell_type": "markdown",
   "metadata": {},
   "source": [
    "### 1d) What books topped the Hardcover Fiction NYT best-sellers list on Mother's Day in 2009 and 2010? How about Father's Day?"
   ]
  },
  {
   "cell_type": "code",
   "execution_count": 6,
   "metadata": {
    "collapsed": false
   },
   "outputs": [
    {
     "name": "stdout",
     "output_type": "stream",
     "text": [
      "The hardcover Fiction NYT best-sellers on fathers day in 2009 are:\n",
      "- SKIN TRADE\n",
      "- MEDUSA\n",
      "- THE SCARECROW\n",
      "- SHANGHAI GIRLS\n",
      "- MATTERS OF THE HEART\n",
      "- GONE TOMORROW\n",
      "- DEAD AND GONE\n",
      "- THE 8TH CONFESSION\n",
      "- THE STRAIN\n",
      "- WICKED PREY\n",
      "- THE HOST\n",
      "- FIRST FAMILY\n",
      "- CEMETERY DANCE\n",
      "- UNDEAD AND UNWELCOME\n",
      "- THE HELP\n",
      "- PYGMY\n",
      "- MY FATHER'S TEARS AND OTHER STORIES\n",
      "- ROAD DOGS\n",
      "- THE STORY SISTERS\n",
      "- HEARTLESS\n"
     ]
    }
   ],
   "source": [
    "#fathers day in 2009\n",
    "response = requests.get('http://api.nytimes.com/svc/books/v2/lists/2009-06-21/hardcover-fiction.json?api-key=3880684abea14d86b6280c6dbd80a793')\n",
    "data = response.json()\n",
    "#print(data)\n",
    "book_result = data['results']\n",
    "print(\"The hardcover Fiction NYT best-sellers on fathers day in 2009 are:\")\n",
    "\n",
    "#print(book_result)\n",
    "\n",
    "for i in book_result:\n",
    "    #print(i['book_details'])\n",
    "    for item in i['book_details']:\n",
    "        print(\"-\", item['title'])"
   ]
  },
  {
   "cell_type": "markdown",
   "metadata": {},
   "source": [
    "### 2a) What are all the different book categories the NYT ranked in June 6, 2009? How about June 6, 2015?"
   ]
  },
  {
   "cell_type": "code",
   "execution_count": 7,
   "metadata": {
    "collapsed": false
   },
   "outputs": [],
   "source": [
    "#What are all the different book categories the NYT ranked in June 6, 2009? How about June 6, 2015?\n",
    "\n",
    "response = requests.get('http://api.nytimes.com/svc/books/v2/lists/names.json?date=2009-06-06&api-key=3880684abea14d86b6280c6dbd80a793')\n",
    "data = response.json()\n",
    "#print(data)"
   ]
  },
  {
   "cell_type": "code",
   "execution_count": 8,
   "metadata": {
    "collapsed": false
   },
   "outputs": [
    {
     "name": "stdout",
     "output_type": "stream",
     "text": [
      "The following are the different book categories the NYT ranked in June 6, 2009:\n",
      "- Hardcover Fiction\n",
      "- Hardcover Nonfiction\n",
      "- Paperback Trade Fiction\n",
      "- Paperback Mass-Market Fiction\n",
      "- Paperback Nonfiction\n",
      "- Hardcover Advice & Misc.\n",
      "- Paperback Advice & Misc.\n",
      "- Children’s Chapter Books\n",
      "- Children’s Paperback Books\n",
      "- Children’s Picture Books\n",
      "- Children’s Series\n",
      "- Hardcover Graphic Books\n",
      "- Paperback Graphic Books\n",
      "- Manga\n"
     ]
    }
   ],
   "source": [
    "#What are all the different book categories the NYT ranked in June 6, 2009\n",
    "book_result = data['results']\n",
    "print(\"The following are the different book categories the NYT ranked in June 6, 2009:\")\n",
    "\n",
    "#print(book_result)\n",
    "\n",
    "for i in book_result:\n",
    "    print(\"-\", i['display_name'])\n",
    "    "
   ]
  },
  {
   "cell_type": "markdown",
   "metadata": {},
   "source": [
    "### 2b) What are all the different book categories the NYT ranked in June 6, 2009? How about June 6, 2015?"
   ]
  },
  {
   "cell_type": "code",
   "execution_count": 9,
   "metadata": {
    "collapsed": false
   },
   "outputs": [
    {
     "name": "stdout",
     "output_type": "stream",
     "text": [
      "The following are the different book categories the NYT ranked in June 6, 2015:\n",
      "- Combined Print & E-Book Fiction\n",
      "- Combined Print & E-Book Nonfiction\n",
      "- Hardcover Fiction\n",
      "- Hardcover Nonfiction\n",
      "- Paperback Trade Fiction\n",
      "- Paperback Mass-Market Fiction\n",
      "- Paperback Nonfiction\n",
      "- E-Book Fiction\n",
      "- E-Book Nonfiction\n",
      "- Advice, How-To & Miscellaneous\n",
      "- Children’s Middle Grade\n",
      "- Children’s Picture Books\n",
      "- Children’s Series\n",
      "- Young Adult\n",
      "- Hardcover Graphic Books\n",
      "- Paperback Graphic Books\n",
      "- Manga\n",
      "- Animals\n",
      "- Business\n",
      "- Celebrities\n",
      "- Crime and Punishment\n",
      "- Culture\n",
      "- Education\n",
      "- Espionage\n",
      "- Expeditions\n",
      "- Fashion, Manners and Customs\n",
      "- Food and Diet\n",
      "- Games and Activities\n",
      "- Health\n",
      "- Humor\n",
      "- Indigenous Americans\n",
      "- Love and Relationships\n",
      "- Parenthood and Family\n",
      "- Politics and American History\n",
      "- Race and Civil Rights\n",
      "- Religion, Spirituality and Faith\n",
      "- Science\n",
      "- Sports and Fitness\n",
      "- Travel\n"
     ]
    }
   ],
   "source": [
    "#What are all the different book categories the NYT ranked in June 6, 2015?\n",
    "\n",
    "response = requests.get('http://api.nytimes.com/svc/books/v2/lists/names.json?date=2015-06-06&api-key=3880684abea14d86b6280c6dbd80a793')\n",
    "data = response.json()\n",
    "#print(data)\n",
    "book_result = data['results']\n",
    "print(\"The following are the different book categories the NYT ranked in June 6, 2015:\")\n",
    "\n",
    "#print(book_result)\n",
    "\n",
    "for i in book_result:\n",
    "    print(\"-\", i['display_name'])"
   ]
  },
  {
   "cell_type": "markdown",
   "metadata": {},
   "source": [
    "## 3) Finding the Total Occurrence of Muammar Gaddafi's ##\n",
    "\n",
    "Muammar Gaddafi's name can be transliterated many many ways. His last name is often a source of a million and one versions - Gadafi, Gaddafi, Kadafi, and Qaddafi to name a few. How many times has the New York Times referred to him by each of those names?\n",
    "Tip: Add \"Libya\" to your search to make sure (-ish) you're talking about the right guy."
   ]
  },
  {
   "cell_type": "code",
   "execution_count": 10,
   "metadata": {
    "collapsed": false
   },
   "outputs": [
    {
     "name": "stdout",
     "output_type": "stream",
     "text": [
      "Gadafi appears 0 times\n",
      "Gaddafi appears 1019 times\n",
      "Kadafi appears 3 times\n",
      "Qaddafi appears 5252 times\n"
     ]
    }
   ],
   "source": [
    "Gadafi_response = requests.get('https://api.nytimes.com/svc/search/v2/articlesearch.json?q=Gadafi&fq=Libya&api-key=3880684abea14d86b6280c6dbd80a793')\n",
    "Gadafi_data = Gadafi_response.json()\n",
    "Gadafi_data_result = Gadafi_data['response']['meta']['hits']\n",
    "print(\"Gadafi appears\", Gadafi_data_result, \"times\")\n",
    "Gaddafi_response = requests.get('https://api.nytimes.com/svc/search/v2/articlesearch.json?q=Gaddafi&fq=Libya&api-key=3880684abea14d86b6280c6dbd80a793')\n",
    "Gaddafi_data = Gaddafi_response.json()\n",
    "Gaddafi_data_result = Gaddafi_data['response']['meta']['hits']\n",
    "print(\"Gaddafi appears\", Gaddafi_data_result, \"times\")\n",
    "Kadafi_response = requests.get('https://api.nytimes.com/svc/search/v2/articlesearch.json?q=Kadafi&fq=Libya&api-key=3880684abea14d86b6280c6dbd80a793')\n",
    "Kadafi_data = Kadafi_response.json()\n",
    "Kadafi_data_result = Kadafi_data['response']['meta']['hits']\n",
    "print(\"Kadafi appears\", Kadafi_data_result, \"times\")\n",
    "Qaddafi_response = requests.get('https://api.nytimes.com/svc/search/v2/articlesearch.json?q=Qaddafi&fq=Libya&api-key=3880684abea14d86b6280c6dbd80a793')\n",
    "Qaddafi_data = Qaddafi_response.json()\n",
    "Qaddafi_data_result = Qaddafi_data['response']['meta']['hits']\n",
    "print(\"Qaddafi appears\", Qaddafi_data_result, \"times\")\n",
    "\n",
    "    "
   ]
  },
  {
   "cell_type": "markdown",
   "metadata": {},
   "source": [
    "## 4a) Hipster ##\n",
    "\n",
    "What's the title of the first story to mention the word 'hipster' in 1995? What's the first paragraph?"
   ]
  },
  {
   "cell_type": "code",
   "execution_count": 24,
   "metadata": {
    "collapsed": false
   },
   "outputs": [
    {
     "name": "stdout",
     "output_type": "stream",
     "text": [
      "hipster appears 3047 times\n"
     ]
    }
   ],
   "source": [
    "# testing it for count\n",
    "hipster_response = requests.get('https://api.nytimes.com/svc/search/v2/articlesearch.json?q=hipster&begin_date=19950101&end_date=19953112&sort=oldest&api-key=3880684abea14d86b6280c6dbd80a793')\n",
    "hipster_data = hipster_response.json()\n",
    "hipster_data_result = hipster_data['response']['meta']['hits']\n",
    "print(\"hipster appears\", hipster_data_result, \"times\")"
   ]
  },
  {
   "cell_type": "markdown",
   "metadata": {},
   "source": [
    "## 4b) Hipster ##\n",
    "\n",
    "What's the title of the first story to mention the word 'hipster' in 1995? What's the first paragraph?"
   ]
  },
  {
   "cell_type": "code",
   "execution_count": 25,
   "metadata": {
    "collapsed": false
   },
   "outputs": [
    {
     "name": "stdout",
     "output_type": "stream",
     "text": [
      "SOUND 1995-02-05T00:00:00Z\n",
      "The Revenge of the Un-Hip 1995-02-05T00:00:00Z\n",
      "For Actors, a Casting Call And a Cautionary Note 1995-02-12T00:00:00Z\n",
      "Terminal Kitsch 1995-02-12T00:00:00Z\n",
      "From Lumpy Blue Mass To Chic Blue Line 1995-03-05T00:00:00Z\n",
      "Guys' Stuff (for Guys?) 1995-03-19T00:00:00Z\n",
      "Mixed Results From 2 Designers 1995-04-06T00:00:00Z\n",
      "Reviews/Fashion; Cool Rises to Intimidating Heights 1995-04-07T00:00:00Z\n",
      "Oswald and Mailer: The Eternal Basic Questions 1995-04-25T00:00:00Z\n",
      "By Design; Westward Ho! 1995-04-25T00:00:00Z\n"
     ]
    }
   ],
   "source": [
    "#print(hipster_data)\n",
    "#print(hipster_data.keys())\n",
    "hipster_resp = hipster_data['response']\n",
    "hipster_resp = hipster_data['response']['docs']\n",
    "for item in hipster_resp:\n",
    "    print(item['headline']['main'], item['pub_date'])\n",
    "#print(\"The word, hipster, appears for the first time in the following article: \", hipster_resp)\n",
    "#hipster_para = hipster_data['response']['docs'][0]['lead_paragraph']\n",
    "#print(\"The word, hipster, appears for the first time in the following paragraph:\")\n",
    "#print(\"-------------------------------------------------------------------------\")\n",
    "#print(hipster_para)\n"
   ]
  },
  {
   "cell_type": "markdown",
   "metadata": {},
   "source": [
    "## 5) Gay Marriage ##\n",
    "\n",
    "5) How many times was gay marriage mentioned in the NYT between 1950-1959, 1960-1969, 1970-1978, 1980-1989, 1990-2099, 2000-2009, and 2010-present?\n",
    "\n",
    "Tip: You'll want to put quotes around the search term so it isn't just looking for \"gay\" and \"marriage\" in the same article.\n"
   ]
  },
  {
   "cell_type": "code",
   "execution_count": 19,
   "metadata": {
    "collapsed": false
   },
   "outputs": [
    {
     "name": "stdout",
     "output_type": "stream",
     "text": [
      "Gay Marriage appears 0 times in the period 1950-1959\n"
     ]
    }
   ],
   "source": [
    "gay50S_response = requests.get('https://api.nytimes.com/svc/search/v2/articlesearch.json?q=\"gay marriage\"&begin_date=19500101&end_date=19591231&api-key=3880684abea14d86b6280c6dbd80a793')\n",
    "gay50S_data = gay50S_response.json()\n",
    "gay50S_data_result = gay50S_data['response']['meta']['hits']\n",
    "print(\"Gay Marriage appears\", gay50S_data_result, \"times in the period 1950-1959\")"
   ]
  },
  {
   "cell_type": "code",
   "execution_count": 27,
   "metadata": {
    "collapsed": false
   },
   "outputs": [
    {
     "name": "stdout",
     "output_type": "stream",
     "text": [
      "Gay Marriage appears 7408 times in the period 1960-1969\n"
     ]
    }
   ],
   "source": [
    "gay60S_response = requests.get('https://api.nytimes.com/svc/search/v2/articlesearch.json?q=\"gay marriage\"&begin_date=19600101&end_date=19691231&api-key=3880684abea14d86b6280c6dbd80a793')\n",
    "gay60S_data = gay60S_response.json()\n",
    "gay60S_data_result = gay60S_data['response']['meta']['hits']\n",
    "print(\"Gay Marriage appears\", gay60S_data_result, \"times in the period 1960-1969\")"
   ]
  },
  {
   "cell_type": "code",
   "execution_count": 17,
   "metadata": {
    "collapsed": false
   },
   "outputs": [
    {
     "name": "stdout",
     "output_type": "stream",
     "text": [
      "Gay Marriage appears 0 times in the period 1950-1959\n",
      "Gay Marriage appears 0 times in the period 1960-1969\n",
      "Gay Marriage appears 0 times in the period 1970-1978\n",
      "Gay Marriage appears 3 times in the period 1980-1989\n",
      "Gay Marriage appears 137 times in the period 1990-1999\n",
      "Gay Marriage appears 2510 times in the period 2000-2009\n",
      "Gay Marriage appears 4758 times from the year 2010\n"
     ]
    }
   ],
   "source": [
    "#1950\n",
    "gay50S_response = requests.get('https://api.nytimes.com/svc/search/v2/articlesearch.json?q=%22gay%20marriage%22&begin_date=19500101&end_date=19591231&api-key=3880684abea14d86b6280c6dbd80a793')\n",
    "gay50S_data = gay50S_response.json()\n",
    "gay50S_data_result = gay50S_data['response']['meta']['hits']\n",
    "print(\"Gay Marriage appears\", gay50S_data_result, \"times in the period 1950-1959\")\n",
    "\n",
    "#1960\n",
    "\n",
    "gay60S_response = requests.get('https://api.nytimes.com/svc/search/v2/articlesearch.json?q=%22gay%20marriage%22&begin_date=19600101&end_date=19691231&api-key=3880684abea14d86b6280c6dbd80a793')\n",
    "gay60S_data = gay60S_response.json()\n",
    "gay60S_data_result = gay60S_data['response']['meta']['hits']\n",
    "print(\"Gay Marriage appears\", gay60S_data_result, \"times in the period 1960-1969\")\n",
    "\n",
    "#1970\n",
    "gay70S_response = requests.get('https://api.nytimes.com/svc/search/v2/articlesearch.json?q=%22gay%20marriage%22&begin_date=19700101&end_date=19781231&api-key=3880684abea14d86b6280c6dbd80a793')\n",
    "gay70S_data = gay70S_response.json()\n",
    "gay70S_data_result = gay70S_data['response']['meta']['hits']\n",
    "print(\"Gay Marriage appears\", gay70S_data_result, \"times in the period 1970-1978\")\n",
    "#1980\n",
    "gay80S_response = requests.get('https://api.nytimes.com/svc/search/v2/articlesearch.json?q=%22gay%20marriage%22&begin_date=19800101&end_date=19891231&api-key=3880684abea14d86b6280c6dbd80a793')\n",
    "gay80S_data = gay80S_response.json()\n",
    "gay80S_data_result = gay80S_data['response']['meta']['hits']\n",
    "print(\"Gay Marriage appears\", gay80S_data_result, \"times in the period 1980-1989\")\n",
    "#1990\n",
    "gay90S_response = requests.get('https://api.nytimes.com/svc/search/v2/articlesearch.json?q=%22gay%20marriage%22&begin_date=19900101&end_date=19991231&api-key=3880684abea14d86b6280c6dbd80a793')\n",
    "gay90S_data = gay90S_response.json()\n",
    "gay90S_data_result = gay90S_data['response']['meta']['hits']\n",
    "print(\"Gay Marriage appears\", gay90S_data_result, \"times in the period 1990-1999\")\n",
    "#2000\n",
    "gay00s_response = requests.get('https://api.nytimes.com/svc/search/v2/articlesearch.json?q=%22gay%20marriage%22&begin_date=20000101&end_date=20091231&api-key=3880684abea14d86b6280c6dbd80a793')\n",
    "gay00s_data = gay00s_response.json()\n",
    "gay00s_data_result = gay00s_data['response']['meta']['hits']\n",
    "print(\"Gay Marriage appears\", gay00s_data_result, \"times in the period 2000-2009\")\n",
    "# 2010\n",
    "gm_response = requests.get('https://api.nytimes.com/svc/search/v2/articlesearch.json?q=%22gay%20marriage%22&begin_date=20100101&api-key=3880684abea14d86b6280c6dbd80a793')\n",
    "gm_data = gm_response.json()\n",
    "gm_data_result = gm_data['response']['meta']['hits']\n",
    "print(\"Gay Marriage appears\", gm_data_result, \"times from the year 2010\")"
   ]
  },
  {
   "cell_type": "markdown",
   "metadata": {},
   "source": [
    "## 6) What section talks about motorcycles the most? ## \n",
    "\n",
    "Tip: You'll be using facets\n"
   ]
  },
  {
   "cell_type": "code",
   "execution_count": 139,
   "metadata": {
    "collapsed": false
   },
   "outputs": [
    {
     "name": "stdout",
     "output_type": "stream",
     "text": [
      "This input gives all the sections and count: [{'term': 'World', 'count': 1738}, {'term': 'U.S.', 'count': 1264}, {'term': 'Sports', 'count': 1110}, {'term': 'New York and Region', 'count': 1016}, {'term': 'Arts', 'count': 920}]\n",
      "Therefore, Motorcycles appear World section the most\n"
     ]
    }
   ],
   "source": [
    "motor_response = requests.get('https://api.nytimes.com/svc/search/v2/articlesearch.json?q=motorcycle&facet_field=section_name&api-key=3880684abea14d86b6280c6dbd80a793')\n",
    "motor_data = motor_response.json()\n",
    "#motor_data_result = motor_data['response']['meta']['hits']\n",
    "#print(\"Motorcycles appear\", motor_data_result, \"times\")\n",
    "motor_info = motor_data['response']['facets']['section_name']['terms']\n",
    "print(\"This input gives all the sections and count:\", motor_info)\n",
    "#for i in motor_info:\n",
    "    #print(i)\n",
    "print(\"Therefore, Motorcycles appear\", motor_info[0]['term'], \"section the most\")"
   ]
  },
  {
   "cell_type": "markdown",
   "metadata": {},
   "source": [
    "## 7) Critics's Picks ##\n",
    "\n",
    "How many of the last 20 movies reviewed by the NYT were Critics' Picks? How about the last 40? The last 60?\n",
    "\n",
    "Tip: You really don't want to do this 3 separate times (1-20, 21-40 and 41-60) and add them together. What if, perhaps, you were able to figure out how to combine two lists? Then you could have a 1-20 list, a 1-40 list, and a 1-60 list, and then just run similar code for each of them."
   ]
  },
  {
   "cell_type": "code",
   "execution_count": 172,
   "metadata": {
    "collapsed": false
   },
   "outputs": [
    {
     "name": "stdout",
     "output_type": "stream",
     "text": [
      "Out of last 20 movies 10 movies were critics picks\n",
      "Out of last 40 movies 14 movies were critics picks\n",
      "Out of last 60 movies 24 movies were critics picks\n"
     ]
    }
   ],
   "source": [
    "#first 20 movies\n",
    "movie_response = requests.get('https://api.nytimes.com/svc/movies/v2/reviews/search.json?&api-key=3880684abea14d86b6280c6dbd80a793')\n",
    "movie_data = movie_response.json()\n",
    "#print(movie_data)\n",
    "#print(movie_data.keys())\n",
    "count = 0\n",
    "movie_result = movie_data['results']\n",
    "for i in movie_result:\n",
    "    #print(i)\n",
    "    #print(i.keys())\n",
    "     #print(item)\n",
    "    if i['critics_pick']:\n",
    "        count = count + 1\n",
    "print(\"Out of last 20 movies\", count, \"movies were critics picks\")\n",
    "\n",
    "#first 40 movies\n",
    "movie_response = requests.get('https://api.nytimes.com/svc/movies/v2/reviews/search.json?&&offset=20&api-key=3880684abea14d86b6280c6dbd80a793')\n",
    "movie_data = movie_response.json()\n",
    "#print(movie_data)\n",
    "#print(movie_data.keys())\n",
    "count_40 = 0\n",
    "movie_result = movie_data['results']\n",
    "for i in movie_result:\n",
    "    #print(i)\n",
    "    #print(i.keys())\n",
    "     #print(item)\n",
    "    if i['critics_pick']:\n",
    "        count_40 = count_40 + 1\n",
    "#print(count_40)\n",
    "last_fourty = count + count_40\n",
    "print(\"Out of last 40 movies\", last_fourty, \"movies were critics picks\")\n",
    "\n",
    "#first 60 movies\n",
    "movie_response = requests.get('https://api.nytimes.com/svc/movies/v2/reviews/search.json?&offset=40&api-key=3880684abea14d86b6280c6dbd80a793')\n",
    "movie_data = movie_response.json()\n",
    "#print(movie_data)\n",
    "#print(movie_data.keys())\n",
    "count_60 = 0\n",
    "movie_result = movie_data['results']\n",
    "for i in movie_result:\n",
    "    #print(i)\n",
    "    #print(i.keys())\n",
    "     #print(item)\n",
    "    if i['critics_pick']:\n",
    "        count_60 = count_60 + 1\n",
    "#print(count_60)\n",
    "last_sixty = last_fourty + count_60\n",
    "print(\"Out of last 60 movies\", last_sixty, \"movies were critics picks\")"
   ]
  },
  {
   "cell_type": "markdown",
   "metadata": {},
   "source": [
    "## 8) Critics with Highest Reviews ##\n",
    "Out of the last 40 movie reviews from the NYT, which critic has written the most reviews?\n"
   ]
  },
  {
   "cell_type": "code",
   "execution_count": 31,
   "metadata": {
    "collapsed": false
   },
   "outputs": [
    {
     "name": "stdout",
     "output_type": "stream",
     "text": [
      "40\n"
     ]
    }
   ],
   "source": [
    "last_fourty = []\n",
    "offset = [0, 20]\n",
    "\n",
    "for n in offset:\n",
    "    url = \"https://api.nytimes.com/svc/movies/v2/reviews/search.json?api-key=a39223b33e0e46fd82dbddcc4972ff91&offset=\" + str(n)\n",
    "    movie_reviews_60 = requests.get(url)\n",
    "    movie_reviews_60 = movie_reviews_60.json()\n",
    "    last_fourty = last_fourty + movie_reviews_60['results']\n",
    "\n",
    "print(len(last_fourty))\n"
   ]
  },
  {
   "cell_type": "code",
   "execution_count": 45,
   "metadata": {
    "collapsed": false
   },
   "outputs": [
    {
     "name": "stdout",
     "output_type": "stream",
     "text": [
      "['STEPHEN HOLDEN', 'MANOHLA DARGIS', 'STEPHEN HOLDEN', 'A. O. SCOTT', 'STEPHEN HOLDEN', 'NEIL GENZLINGER', 'BEN KENIGSBERG', 'GLENN KENNY', 'NEIL GENZLINGER', 'HELEN T. VERONGOS', 'BEN KENIGSBERG', 'GLENN KENNY', 'JEANNETTE CATSOULIS', 'GLENN KENNY', 'ANDY WEBSTER', 'A. O. SCOTT', 'HELEN T. VERONGOS', 'JEANNETTE CATSOULIS', 'ANDY WEBSTER', 'GLENN KENNY', 'KEN JAWOROWSKI', 'ANDY WEBSTER', 'A. O. SCOTT', 'NICOLAS RAPOLD', 'STEPHEN HOLDEN', 'GLENN KENNY', 'STEPHEN HOLDEN', 'A. O. SCOTT', 'STEPHEN HOLDEN', 'A. O. SCOTT', 'KEN JAWOROWSKI', 'STEPHEN HOLDEN', 'GLENN KENNY', 'BEN KENIGSBERG', 'GLENN KENNY', 'ANDY WEBSTER', 'HELEN T. VERONGOS', 'NEIL GENZLINGER', 'JEANNETTE CATSOULIS', 'KEN JAWOROWSKI']\n"
     ]
    }
   ],
   "source": [
    "list_byline = []\n",
    "for i in last_fourty:\n",
    "    list_byline.append(i['byline'])\n",
    "print(list_byline)\n",
    "max_occ = max(list_byline)\n"
   ]
  },
  {
   "cell_type": "code",
   "execution_count": 44,
   "metadata": {
    "collapsed": false
   },
   "outputs": [
    {
     "name": "stdout",
     "output_type": "stream",
     "text": [
      "The author with the highest number of reviews to his credit is STEPHEN HOLDEN\n"
     ]
    }
   ],
   "source": [
    "print(\"The author with the highest number of reviews to his credit is\", max_occ)"
   ]
  },
  {
   "cell_type": "code",
   "execution_count": null,
   "metadata": {
    "collapsed": true
   },
   "outputs": [],
   "source": []
  }
 ],
 "metadata": {
  "kernelspec": {
   "display_name": "Python 3",
   "language": "python",
   "name": "python3"
  },
  "language_info": {
   "codemirror_mode": {
    "name": "ipython",
    "version": 3
   },
   "file_extension": ".py",
   "mimetype": "text/x-python",
   "name": "python",
   "nbconvert_exporter": "python",
   "pygments_lexer": "ipython3",
   "version": "3.5.1"
  }
 },
 "nbformat": 4,
 "nbformat_minor": 0
}
