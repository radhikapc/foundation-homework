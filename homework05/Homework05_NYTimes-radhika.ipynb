{
 "cells": [
  {
   "cell_type": "code",
   "execution_count": 3,
   "metadata": {
    "collapsed": true
   },
   "outputs": [],
   "source": [
    "import requests"
   ]
  },
  {
   "cell_type": "code",
   "execution_count": 4,
   "metadata": {
    "collapsed": false
   },
   "outputs": [
    {
     "name": "stdout",
     "output_type": "stream",
     "text": [
      "{'last_modified': '2016-04-28T09:06:07-04:00', 'status': 'OK', 'num_results': 35, 'results': [{'list_image': '9780446564076.jpg', 'book_details': [{'book_image': 'https://s1.nyt.com/du/books/images/9780446564076.jpg', 'contributor': 'by David Baldacci', 'primary_isbn13': '9780446564083', 'author': 'David Baldacci', 'title': 'DELIVER US FROM EVIL', 'price': 27.99, 'age_group': '', 'primary_isbn10': '0446564087', 'contributor_note': '', 'amazon_product_url': 'http://www.amazon.com/Deliver-Us-Evil-David-Baldacci/dp/0446564079?tag=thenewyorktim-20', 'description': 'Two agents are tracking the same man, a human trafficker who is now dealing in nuclear arms.', 'publisher': 'Grand Central'}], 'normal_list_ends_at': 16, 'asterisk': 0, 'isbns': [{'isbn13': '9780446564076', 'isbn10': '0446564079'}, {'isbn13': '9780446576253', 'isbn10': '0446576255'}, {'isbn13': '9780892962617', 'isbn10': '0892962615'}, {'isbn13': '9780446564083', 'isbn10': '0446564087'}], 'dagger': 0, 'rank_last_week': 0, 'list_name': 'Hardcover Fiction', 'reviews': [{'sunday_review_link': '', 'book_review_link': '', 'first_chapter_link': '', 'article_chapter_link': ''}], 'published_date_range': '2008-06-08:2016-06-12', 'published_date': '2010-05-09', 'display_name': 'Hardcover Fiction', 'rank': 1, 'updated': 'WEEKLY', 'bestsellers_date': '2010-04-25', 'list_image_height': 500, 'weeks_on_list': 1, 'list_image_width': 279, 'list_name_encoded': 'hardcover-fiction'}, {'list_image': '9780446564076.jpg', 'book_details': [{'book_image': 'https://s1.nyt.com/du/books/images/9781440697661.jpg', 'contributor': 'by Kathryn Stockett', 'primary_isbn13': '9780399155345', 'author': 'Kathryn Stockett', 'title': 'THE HELP', 'price': 24.95, 'age_group': '', 'primary_isbn10': '0399155341', 'contributor_note': '', 'amazon_product_url': 'http://www.amazon.com/The-Help-Kathryn-Stockett/dp/0425232204?tag=thenewyorktim-20', 'description': 'A young white woman and two black maids in 1960s \\xadMississippi.', 'publisher': 'Amy Einhorn/Putnam'}], 'normal_list_ends_at': 16, 'asterisk': 0, 'isbns': [{'isbn13': '9780399155345', 'isbn10': '0399155341'}, {'isbn13': '9781440697661', 'isbn10': '1440697663'}, {'isbn13': '9780425232200', 'isbn10': '0425232204'}, {'isbn13': '9781594133886', 'isbn10': '1594133883'}, {'isbn13': '9780425245132', 'isbn10': '0425245136'}, {'isbn13': '9780399157912', 'isbn10': '0399157913'}], 'dagger': 0, 'rank_last_week': 2, 'list_name': 'Hardcover Fiction', 'reviews': [{'sunday_review_link': '', 'book_review_link': 'http://www.nytimes.com/2009/02/19/books/19masl.html', 'first_chapter_link': '', 'article_chapter_link': 'http://www.nytimes.com/2011/08/14/movies/black-and-white-struggle-through-hollywoods-rosy-glow.html'}], 'published_date_range': '2008-06-08:2016-06-12', 'published_date': '2010-05-09', 'display_name': 'Hardcover Fiction', 'rank': 2, 'updated': 'WEEKLY', 'bestsellers_date': '2010-04-25', 'list_image_height': 500, 'weeks_on_list': 56, 'list_image_width': 279, 'list_name_encoded': 'hardcover-fiction'}, {'list_image': '9780446564076.jpg', 'book_details': [{'book_image': 'https://s1.nyt.com/du/books/images/9780307277480.jpg', 'contributor': 'by Alexander McCall Smith', 'primary_isbn13': '9780375424502', 'author': 'Alexander McCall Smith', 'title': 'THE DOUBLE COMFORT SAFARI CLUB', 'price': 24.95, 'age_group': '', 'primary_isbn10': '0375424504', 'contributor_note': '', 'amazon_product_url': 'http://www.amazon.com/Double-Comfort-Safari-Ladies-Detective/dp/0375424504?tag=thenewyorktim-20', 'description': '\\nThe 11th novel in the No. 1 Ladies’ Detective Agency series.', 'publisher': 'Pantheon'}], 'normal_list_ends_at': 16, 'asterisk': 0, 'isbns': [{'isbn13': '9780375424502', 'isbn10': '0375424504'}, {'isbn13': '9780307277480', 'isbn10': '0307277488'}], 'dagger': 0, 'rank_last_week': 0, 'list_name': 'Hardcover Fiction', 'reviews': [{'sunday_review_link': '', 'book_review_link': '', 'first_chapter_link': '', 'article_chapter_link': ''}], 'published_date_range': '2008-06-08:2016-06-12', 'published_date': '2010-05-09', 'display_name': 'Hardcover Fiction', 'rank': 3, 'updated': 'WEEKLY', 'bestsellers_date': '2010-04-25', 'list_image_height': 500, 'weeks_on_list': 1, 'list_image_width': 279, 'list_name_encoded': 'hardcover-fiction'}, {'list_image': '9780446564076.jpg', 'book_details': [{'book_image': 'https://s1.nyt.com/du/books/images/9780061160882.jpg', 'contributor': 'by Elizabeth George', 'primary_isbn13': '9780061160882', 'author': 'Elizabeth George', 'title': 'THIS BODY OF DEATH', 'price': 28.99, 'age_group': '', 'primary_isbn10': '0061160881', 'contributor_note': '', 'amazon_product_url': 'http://www.amazon.com/This-Body-Death-Inspector-Lynley/dp/0061160881?tag=thenewyorktim-20', 'description': 'Detective Thomas Lynley becomes involved when a woman’s body is found in a London cemetery.', 'publisher': 'Harper/HarperCollins'}], 'normal_list_ends_at': 16, 'asterisk': 0, 'isbns': [{'isbn13': '9780061160912', 'isbn10': '0061160911'}, {'isbn13': '9780061160882', 'isbn10': '0061160881'}, {'isbn13': '9780061979545', 'isbn10': '0061979546'}], 'dagger': 0, 'rank_last_week': 0, 'list_name': 'Hardcover Fiction', 'reviews': [{'sunday_review_link': '', 'book_review_link': '', 'first_chapter_link': '', 'article_chapter_link': ''}], 'published_date_range': '2008-06-08:2016-06-12', 'published_date': '2010-05-09', 'display_name': 'Hardcover Fiction', 'rank': 4, 'updated': 'WEEKLY', 'bestsellers_date': '2010-04-25', 'list_image_height': 500, 'weeks_on_list': 1, 'list_image_width': 279, 'list_name_encoded': 'hardcover-fiction'}, {'list_image': '9780446564076.jpg', 'book_details': [{'book_image': 'https://s1.nyt.com/du/books/images/9780451229649.jpg', 'contributor': 'by Stuart Woods', 'primary_isbn13': '9780399156441', 'author': 'Stuart Woods', 'title': 'LUCID INTERVALS', 'price': 25.95, 'age_group': '', 'primary_isbn10': '0399156445', 'contributor_note': '', 'amazon_product_url': 'http://www.amazon.com/Lucid-Intervals-Stone-Barrington-Novel/dp/0399156445?tag=thenewyorktim-20', 'description': 'Stone Barrington, the New York cop turned lawyer, helps search for a former British intelligence operative.', 'publisher': 'Putnam'}], 'normal_list_ends_at': 16, 'asterisk': 0, 'isbns': [{'isbn13': '9780451229649', 'isbn10': '0451229649'}, {'isbn13': '9780399156441', 'isbn10': '0399156445'}], 'dagger': 0, 'rank_last_week': 0, 'list_name': 'Hardcover Fiction', 'reviews': [{'sunday_review_link': '', 'book_review_link': '', 'first_chapter_link': '', 'article_chapter_link': ''}], 'published_date_range': '2008-06-08:2016-06-12', 'published_date': '2010-05-09', 'display_name': 'Hardcover Fiction', 'rank': 5, 'updated': 'WEEKLY', 'bestsellers_date': '2010-04-25', 'list_image_height': 500, 'weeks_on_list': 1, 'list_image_width': 279, 'list_name_encoded': 'hardcover-fiction'}, {'list_image': '9780446564076.jpg', 'book_details': [{'book_image': 'https://s1.nyt.com/du/books/images/9781439180983.jpg', 'contributor': 'by Mary Higgins Clark', 'primary_isbn13': '9781439172261', 'author': 'Mary Higgins Clark', 'title': 'THE SHADOW OF YOUR SMILE', 'price': 25.99, 'age_group': '', 'primary_isbn10': '1439172269', 'contributor_note': '', 'amazon_product_url': 'http://www.amazon.com/Shadow-Your-Smile-Higgins-Clark/dp/1439172269?tag=thenewyorktim-20', 'description': 'An elderly woman must decide whether to reveal a family secret.', 'publisher': 'Simon & Schuster'}], 'normal_list_ends_at': 16, 'asterisk': 0, 'isbns': [{'isbn13': '9781439172261', 'isbn10': '1439172269'}, {'isbn13': '9781439180983', 'isbn10': '1439180989'}, {'isbn13': '9781439199879', 'isbn10': '1439199876'}], 'dagger': 0, 'rank_last_week': 1, 'list_name': 'Hardcover Fiction', 'reviews': [{'sunday_review_link': '', 'book_review_link': '', 'first_chapter_link': '', 'article_chapter_link': ''}], 'published_date_range': '2008-06-08:2016-06-12', 'published_date': '2010-05-09', 'display_name': 'Hardcover Fiction', 'rank': 6, 'updated': 'WEEKLY', 'bestsellers_date': '2010-04-25', 'list_image_height': 500, 'weeks_on_list': 2, 'list_image_width': 279, 'list_name_encoded': 'hardcover-fiction'}, {'list_image': '9780446564076.jpg', 'book_details': [{'book_image': 'https://s1.nyt.com/du/books/images/9780399156465.jpg', 'contributor': 'by Amanda Quick', 'primary_isbn13': '9780399156465', 'author': 'Amanda Quick', 'title': 'BURNING LAMP', 'price': 25.95, 'age_group': '', 'primary_isbn10': '0399156461', 'contributor_note': '', 'amazon_product_url': 'http://www.amazon.com/Burning-Lamp-Dreamlight-Trilogy-Society/dp/051514925X?tag=thenewyorktim-20', 'description': 'A Victorian crime lord fears he has fallen prey to an ancestral curse, and only a magical artifact can save him; an Arcane Society novel and the second book in the Dreamlight trilogy.', 'publisher': 'Putnam'}], 'normal_list_ends_at': 16, 'asterisk': 0, 'isbns': [{'isbn13': '9780399156465', 'isbn10': '0399156461'}, {'isbn13': '9780515149258', 'isbn10': '051514925X'}], 'dagger': 0, 'rank_last_week': 0, 'list_name': 'Hardcover Fiction', 'reviews': [{'sunday_review_link': '', 'book_review_link': '', 'first_chapter_link': '', 'article_chapter_link': ''}], 'published_date_range': '2008-06-08:2016-06-12', 'published_date': '2010-05-09', 'display_name': 'Hardcover Fiction', 'rank': 7, 'updated': 'WEEKLY', 'bestsellers_date': '2010-04-25', 'list_image_height': 500, 'weeks_on_list': 1, 'list_image_width': 279, 'list_name_encoded': 'hardcover-fiction'}, {'list_image': '9780446564076.jpg', 'book_details': [{'book_image': 'https://s1.nyt.com/du/books/images/9780812976885.jpg', 'contributor': 'by Anna Quindlen', 'primary_isbn13': '9781400065745', 'author': 'Anna Quindlen', 'title': 'EVERY LAST ONE', 'price': 26, 'age_group': '', 'primary_isbn10': '1400065747', 'contributor_note': '', 'amazon_product_url': 'http://www.amazon.com/Every-Last-One-A-Novel/dp/1400065747?tag=thenewyorktim-20', 'description': 'After a shocking assault on her family, a woman must discover how to live the rest of her life.', 'publisher': 'Random House'}], 'normal_list_ends_at': 16, 'asterisk': 0, 'isbns': [{'isbn13': '9781400065745', 'isbn10': '1400065747'}, {'isbn13': '9780812976885', 'isbn10': '0812976886'}], 'dagger': 0, 'rank_last_week': 5, 'list_name': 'Hardcover Fiction', 'reviews': [{'sunday_review_link': 'http://www.nytimes.com/2010/04/18/books/review/Scarf-t.html', 'book_review_link': '', 'first_chapter_link': '', 'article_chapter_link': ''}], 'published_date_range': '2008-06-08:2016-06-12', 'published_date': '2010-05-09', 'display_name': 'Hardcover Fiction', 'rank': 8, 'updated': 'WEEKLY', 'bestsellers_date': '2010-04-25', 'list_image_height': 500, 'weeks_on_list': 2, 'list_image_width': 279, 'list_name_encoded': 'hardcover-fiction'}, {'list_image': '9780446564076.jpg', 'book_details': [{'book_image': 'https://s1.nyt.com/du/books/images/9780312368159.jpg', 'contributor': 'by Iris Johansen', 'primary_isbn13': '9780312368159', 'author': 'Iris Johansen', 'title': 'EIGHT DAYS TO LIVE', 'price': 27.99, 'age_group': '', 'primary_isbn10': '0312368151', 'contributor_note': '', 'amazon_product_url': 'http://www.amazon.com/Eight-Days-Live-Forensics-Thriller/dp/0312368143?tag=thenewyorktim-20', 'description': '\\nA painting by Eve Duncan’s adopted daughter draws the ire of a religious cult.', 'publisher': 'St. Martin’s'}], 'normal_list_ends_at': 16, 'asterisk': 0, 'isbns': [{'isbn13': '9780312368142', 'isbn10': '0312368143'}, {'isbn13': '9780312368159', 'isbn10': '0312368151'}], 'dagger': 0, 'rank_last_week': 0, 'list_name': 'Hardcover Fiction', 'reviews': [{'sunday_review_link': '', 'book_review_link': '', 'first_chapter_link': '', 'article_chapter_link': ''}], 'published_date_range': '2008-06-08:2016-06-12', 'published_date': '2010-05-09', 'display_name': 'Hardcover Fiction', 'rank': 9, 'updated': 'WEEKLY', 'bestsellers_date': '2010-04-25', 'list_image_height': 500, 'weeks_on_list': 1, 'list_image_width': 279, 'list_name_encoded': 'hardcover-fiction'}, {'list_image': '9780446564076.jpg', 'book_details': [{'book_image': 'https://s1.nyt.com/du/books/images/9780451463173.jpg', 'contributor': 'by Jim Butcher', 'primary_isbn13': '9780451463173', 'author': 'Jim Butcher', 'title': 'CHANGES', 'price': 25.95, 'age_group': '', 'primary_isbn10': '045146317X', 'contributor_note': '', 'amazon_product_url': 'http://www.amazon.com/Changes-A-Novel-Dresden-Files/dp/0451463471?tag=thenewyorktim-20', 'description': 'Book 12 of the Dresden Files series about a wizard detective in Chicago.', 'publisher': 'Roc'}], 'normal_list_ends_at': 16, 'asterisk': 0, 'isbns': [{'isbn13': '9780451463173', 'isbn10': '045146317X'}, {'isbn13': '9780451463470', 'isbn10': '0451463471'}], 'dagger': 0, 'rank_last_week': 3, 'list_name': 'Hardcover Fiction', 'reviews': [{'sunday_review_link': '', 'book_review_link': '', 'first_chapter_link': '', 'article_chapter_link': ''}], 'published_date_range': '2008-06-08:2016-06-12', 'published_date': '2010-05-09', 'display_name': 'Hardcover Fiction', 'rank': 10, 'updated': 'WEEKLY', 'bestsellers_date': '2010-04-25', 'list_image_height': 500, 'weeks_on_list': 3, 'list_image_width': 279, 'list_name_encoded': 'hardcover-fiction'}, {'list_image': '9780446564076.jpg', 'book_details': [{'book_image': 'https://s1.nyt.com/du/books/images/9780451232700.jpg', 'contributor': 'by Harlan Coben', 'primary_isbn13': '9780525951582', 'author': 'Harlan Coben', 'title': 'CAUGHT', 'price': 27.95, 'age_group': '', 'primary_isbn10': '052595158X', 'contributor_note': '', 'amazon_product_url': 'http://www.amazon.com/Caught-Harlan-Coben/dp/0451232704?tag=thenewyorktim-20', 'description': 'A suburban girl goes missing.', 'publisher': 'Dutton'}], 'normal_list_ends_at': 16, 'asterisk': 0, 'isbns': [{'isbn13': '9780525951582', 'isbn10': '052595158X'}, {'isbn13': '9780451232700', 'isbn10': '0451232704'}], 'dagger': 0, 'rank_last_week': 4, 'list_name': 'Hardcover Fiction', 'reviews': [{'sunday_review_link': '', 'book_review_link': '', 'first_chapter_link': '', 'article_chapter_link': ''}], 'published_date_range': '2008-06-08:2016-06-12', 'published_date': '2010-05-09', 'display_name': 'Hardcover Fiction', 'rank': 11, 'updated': 'WEEKLY', 'bestsellers_date': '2010-04-25', 'list_image_height': 500, 'weeks_on_list': 5, 'list_image_width': 279, 'list_name_encoded': 'hardcover-fiction'}, {'list_image': '9780446564076.jpg', 'book_details': [{'book_image': 'https://s1.nyt.com/du/books/images/9780743296434.jpg', 'contributor': 'by Jodi Picoult', 'primary_isbn13': '9780743296434', 'author': 'Jodi Picoult', 'title': 'HOUSE RULES', 'price': 28, 'age_group': '', 'primary_isbn10': '0743296435', 'contributor_note': '', 'amazon_product_url': 'http://www.amazon.com/House-Rules-Novel-Jodi-Picoult/dp/0743296443?tag=thenewyorktim-20', 'description': 'A teenage boy with Asperger’s syndrome is accused of murder.', 'publisher': 'Atria'}], 'normal_list_ends_at': 16, 'asterisk': 0, 'isbns': [{'isbn13': '9780743296441', 'isbn10': '0743296443'}, {'isbn13': '9781439199312', 'isbn10': '1439199310'}, {'isbn13': '9780743296434', 'isbn10': '0743296435'}, {'isbn13': '9781602857100', 'isbn10': '1602857105'}], 'dagger': 0, 'rank_last_week': 6, 'list_name': 'Hardcover Fiction', 'reviews': [{'sunday_review_link': '', 'book_review_link': '', 'first_chapter_link': '', 'article_chapter_link': ''}], 'published_date_range': '2008-06-08:2016-06-12', 'published_date': '2010-05-09', 'display_name': 'Hardcover Fiction', 'rank': 12, 'updated': 'WEEKLY', 'bestsellers_date': '2010-04-25', 'list_image_height': 500, 'weeks_on_list': 8, 'list_image_width': 279, 'list_name_encoded': 'hardcover-fiction'}, {'list_image': '9780446564076.jpg', 'book_details': [{'book_image': 'https://s1.nyt.com/du/books/images/9780802119285.jpg', 'contributor': 'by Karl Marlantes', 'primary_isbn13': '9780802119285', 'author': 'Karl Marlantes', 'title': 'MATTERHORN', 'price': 24.95, 'age_group': '', 'primary_isbn10': '080211928X', 'contributor_note': '', 'amazon_product_url': 'http://www.amazon.com/Matterhorn-A-Novel-Vietnam-War/dp/0802145310?tag=thenewyorktim-20', 'description': 'Marines in Vietnam in 1969.', 'publisher': 'El León Literary Arts/Atlantic Monthly'}], 'normal_list_ends_at': 16, 'asterisk': 0, 'isbns': [{'isbn13': '9780802119285', 'isbn10': '080211928X'}, {'isbn13': '9780802145314', 'isbn10': '0802145310'}], 'dagger': 0, 'rank_last_week': 7, 'list_name': 'Hardcover Fiction', 'reviews': [{'sunday_review_link': 'http://www.nytimes.com/2010/04/04/books/review/Junger-t.html', 'book_review_link': '', 'first_chapter_link': '', 'article_chapter_link': ''}], 'published_date_range': '2008-06-08:2016-06-12', 'published_date': '2010-05-09', 'display_name': 'Hardcover Fiction', 'rank': 13, 'updated': 'WEEKLY', 'bestsellers_date': '2010-04-25', 'list_image_height': 500, 'weeks_on_list': 5, 'list_image_width': 279, 'list_name_encoded': 'hardcover-fiction'}, {'list_image': '9780446564076.jpg', 'book_details': [{'book_image': 'https://s1.nyt.com/du/books/images/9781439187319.jpg', 'contributor': 'by Richard Paul Evans', 'primary_isbn13': '9781439187319', 'author': 'Richard Paul Evans', 'title': 'THE WALK', 'price': 22, 'age_group': '', 'primary_isbn10': '1439187312', 'contributor_note': '', 'amazon_product_url': 'http://www.amazon.com/The-Walk-Novel-Series/dp/1439187312?tag=thenewyorktim-20', 'description': 'A Seattle ad executive loses everything and starts walking to Key West.', 'publisher': 'Simon & Schuster'}], 'normal_list_ends_at': 16, 'asterisk': 0, 'isbns': [{'isbn13': '9781439187319', 'isbn10': '1439187312'}], 'dagger': 0, 'rank_last_week': 10, 'list_name': 'Hardcover Fiction', 'reviews': [{'sunday_review_link': '', 'book_review_link': '', 'first_chapter_link': '', 'article_chapter_link': ''}], 'published_date_range': '2008-06-08:2016-06-12', 'published_date': '2010-05-09', 'display_name': 'Hardcover Fiction', 'rank': 14, 'updated': 'WEEKLY', 'bestsellers_date': '2010-04-25', 'list_image_height': 500, 'weeks_on_list': 3, 'list_image_width': 279, 'list_name_encoded': 'hardcover-fiction'}, {'list_image': '9780446564076.jpg', 'book_details': [{'book_image': 'https://s1.nyt.com/du/books/images/9780345505682.jpg', 'contributor': 'by Jonathan Kellerman', 'primary_isbn13': '9780345505675', 'author': 'Jonathan Kellerman', 'title': 'DECEPTION', 'price': 28, 'age_group': '', 'primary_isbn10': '0345505670', 'contributor_note': '', 'amazon_product_url': 'http://www.amazon.com/Deception-An-Alex-Delaware-Novel/dp/0345505689?tag=thenewyorktim-20', 'description': 'The Los Angeles psychologist-detective Alex Delaware and the detective Milo Sturgis work on a prep-school murder case.', 'publisher': 'Ballantine'}], 'normal_list_ends_at': 16, 'asterisk': 0, 'isbns': [{'isbn13': '9780345505675', 'isbn10': '0345505670'}, {'isbn13': '9780345505682', 'isbn10': '0345505689'}, {'isbn13': '9780345519238', 'isbn10': '034551923X'}], 'dagger': 0, 'rank_last_week': 12, 'list_name': 'Hardcover Fiction', 'reviews': [{'sunday_review_link': '', 'book_review_link': '', 'first_chapter_link': '', 'article_chapter_link': ''}], 'published_date_range': '2008-06-08:2016-06-12', 'published_date': '2010-05-09', 'display_name': 'Hardcover Fiction', 'rank': 15, 'updated': 'WEEKLY', 'bestsellers_date': '2010-04-25', 'list_image_height': 500, 'weeks_on_list': 4, 'list_image_width': 279, 'list_name_encoded': 'hardcover-fiction'}, {'list_image': '9780446564076.jpg', 'book_details': [{'book_image': 'https://s1.nyt.com/du/books/images/9781400069262.jpg', 'contributor': 'by Yann Martel', 'primary_isbn13': '9781400069262', 'author': 'Yann Martel', 'title': 'BEATRICE AND VIRGIL', 'price': 24, 'age_group': '', 'primary_isbn10': '1400069262', 'contributor_note': '', 'amazon_product_url': 'http://www.amazon.com/Beatrice-Virgil-Novel-Yann-Martel-ebook/dp/B0036S0F3K?tag=thenewyorktim-20', 'description': 'The fate of stuffed animals in a taxidermy shop is an allegory for the Holocaust; from the author of “The Life of Pi.”', 'publisher': 'Spiegel & Grau'}], 'normal_list_ends_at': 16, 'asterisk': 1, 'isbns': [{'isbn13': '9781400069262', 'isbn10': '1400069262'}], 'dagger': 0, 'rank_last_week': 13, 'list_name': 'Hardcover Fiction', 'reviews': [{'sunday_review_link': 'http://www.nytimes.com/2010/05/02/books/review/Hanks-t.html', 'book_review_link': 'http://www.nytimes.com/2010/04/13/books/13book.html', 'first_chapter_link': 'http://www.nytimes.com/2010/04/13/books/excerpt-beatrice-and-virgil.html', 'article_chapter_link': ''}], 'published_date_range': '2008-06-08:2016-06-12', 'published_date': '2010-05-09', 'display_name': 'Hardcover Fiction', 'rank': 16, 'updated': 'WEEKLY', 'bestsellers_date': '2010-04-25', 'list_image_height': 500, 'weeks_on_list': 2, 'list_image_width': 279, 'list_name_encoded': 'hardcover-fiction'}, {'list_image': '9780446564076.jpg', 'book_details': [{'book_image': 'https://s1.nyt.com/du/books/images/9781439170267.jpg', 'contributor': 'by Carol Higgins Clark', 'primary_isbn13': '9781439170250', 'author': 'Carol Higgins Clark', 'title': 'WRECKED', 'price': 0, 'age_group': '', 'primary_isbn10': '1439170258', 'contributor_note': '', 'amazon_product_url': 'http://www.amazon.com/Wrecked-A-Regan-Reilly-Mystery/dp/1439170266?tag=thenewyorktim-20', 'description': 'In the 13th mystery in this series, the suspicious disappearance of a neighbor interrupts a romantic weekend on Cape Cod for the P.I. Regan Reilly and her husband.', 'publisher': 'Scribner'}], 'normal_list_ends_at': 16, 'asterisk': 0, 'isbns': [{'isbn13': '9781439170250', 'isbn10': '1439170258'}, {'isbn13': '9781439170267', 'isbn10': '1439170266'}], 'dagger': 0, 'rank_last_week': 0, 'list_name': 'Hardcover Fiction', 'reviews': [{'sunday_review_link': '', 'book_review_link': '', 'first_chapter_link': '', 'article_chapter_link': ''}], 'published_date_range': '2008-06-08:2016-06-12', 'published_date': '2010-05-09', 'display_name': 'Hardcover Fiction', 'rank': 17, 'updated': 'WEEKLY', 'bestsellers_date': '2010-04-25', 'list_image_height': 500, 'weeks_on_list': 0, 'list_image_width': 279, 'list_name_encoded': 'hardcover-fiction'}, {'list_image': '9780446564076.jpg', 'book_details': [{'book_image': 'https://s1.nyt.com/du/books/images/9780441018192.jpg', 'contributor': 'by Patricia Briggs', 'primary_isbn13': '9780441018192', 'author': 'Patricia Briggs', 'title': 'SILVER BORNE', 'price': 0, 'age_group': '', 'primary_isbn10': '044101819X', 'contributor_note': '', 'amazon_product_url': 'http://www.amazon.com/Silver-Borne-Mercy-Thompson-Book/dp/044101996X?tag=thenewyorktim-20', 'description': 'The shapeshifter Mercy Thompson works on her relationship with the leader of the werewolf pack and helps a suicidal friend.', 'publisher': 'Ace'}], 'normal_list_ends_at': 16, 'asterisk': 0, 'isbns': [{'isbn13': '9780441019960', 'isbn10': '044101996X'}, {'isbn13': '9780441018192', 'isbn10': '044101819X'}], 'dagger': 0, 'rank_last_week': 0, 'list_name': 'Hardcover Fiction', 'reviews': [{'sunday_review_link': '', 'book_review_link': '', 'first_chapter_link': '', 'article_chapter_link': ''}], 'published_date_range': '2008-06-08:2016-06-12', 'published_date': '2010-05-09', 'display_name': 'Hardcover Fiction', 'rank': 18, 'updated': 'WEEKLY', 'bestsellers_date': '2010-04-25', 'list_image_height': 500, 'weeks_on_list': 0, 'list_image_width': 279, 'list_name_encoded': 'hardcover-fiction'}, {'list_image': '9780446564076.jpg', 'book_details': [{'book_image': 'https://s1.nyt.com/du/books/images/9780446563086.jpg', 'contributor': 'by Seth Grahame-Smith', 'primary_isbn13': '9780446563086', 'author': 'Seth Grahame-Smith', 'title': 'ABRAHAM LINCOLN: VAMPIRE HUNTER', 'price': 0, 'age_group': '', 'primary_isbn10': '0446563080', 'contributor_note': '', 'amazon_product_url': 'http://www.amazon.com/Abraham-Lincoln-Vampire-Seth-Grahame-Smith/dp/0446563072?tag=thenewyorktim-20', 'description': 'A journal reveals Lincoln’s fight against the undead; by the author of “Pride and Prejudice and Zombies.\"', 'publisher': 'Grand Central'}], 'normal_list_ends_at': 16, 'asterisk': 0, 'isbns': [{'isbn13': '9780446563086', 'isbn10': '0446563080'}, {'isbn13': '9780446563079', 'isbn10': '0446563072'}, {'isbn13': '9781455510177', 'isbn10': '1455510173'}, {'isbn13': '9781455510184', 'isbn10': '1455510181'}, {'isbn13': '9780446571852', 'isbn10': '0446571857'}, {'isbn13': '9781849014779', 'isbn10': '1849014779'}], 'dagger': 0, 'rank_last_week': 0, 'list_name': 'Hardcover Fiction', 'reviews': [{'sunday_review_link': '', 'book_review_link': '', 'first_chapter_link': '', 'article_chapter_link': ''}], 'published_date_range': '2008-06-08:2016-06-12', 'published_date': '2010-05-09', 'display_name': 'Hardcover Fiction', 'rank': 19, 'updated': 'WEEKLY', 'bestsellers_date': '2010-04-25', 'list_image_height': 500, 'weeks_on_list': 0, 'list_image_width': 279, 'list_name_encoded': 'hardcover-fiction'}, {'list_image': '9780446564076.jpg', 'book_details': [{'book_image': 'https://s1.nyt.com/du/books/images/9780061246265.jpg', 'contributor': 'by Elizabeth Peters', 'primary_isbn13': '9780061246265', 'author': 'Elizabeth Peters', 'title': 'A RIVER IN THE SKY', 'price': 0, 'age_group': '', 'primary_isbn10': '0061246263', 'contributor_note': '', 'amazon_product_url': 'http://www.amazon.com/River-Sky-Amelia-Peabody-Mysteries/dp/0061246263?tag=thenewyorktim-20', 'description': 'In 1910, the Peabody-Emerson clan tries to head off a holy war in Palestine; an Amelia Peabody mystery.', 'publisher': 'Morrow/HarperCollins'}], 'normal_list_ends_at': 16, 'asterisk': 0, 'isbns': [{'isbn13': '9780061246265', 'isbn10': '0061246263'}], 'dagger': 0, 'rank_last_week': 0, 'list_name': 'Hardcover Fiction', 'reviews': [{'sunday_review_link': '', 'book_review_link': '', 'first_chapter_link': '', 'article_chapter_link': ''}], 'published_date_range': '2008-06-08:2016-06-12', 'published_date': '2010-05-09', 'display_name': 'Hardcover Fiction', 'rank': 20, 'updated': 'WEEKLY', 'bestsellers_date': '2010-04-25', 'list_image_height': 500, 'weeks_on_list': 0, 'list_image_width': 279, 'list_name_encoded': 'hardcover-fiction'}], 'copyright': 'Copyright (c) 2016 The New York Times Company.  All Rights Reserved.'}\n"
     ]
    }
   ],
   "source": [
    "response = requests.get('http://api.nytimes.com/svc/books/v2/lists/2010-05-09/hardcover-fiction.json?api-key=3880684abea14d86b6280c6dbd80a793')\n",
    "data = response.json()\n",
    "print(data)"
   ]
  },
  {
   "cell_type": "code",
   "execution_count": 5,
   "metadata": {
    "collapsed": false
   },
   "outputs": [
    {
     "name": "stdout",
     "output_type": "stream",
     "text": [
      "dict_keys(['last_modified', 'status', 'num_results', 'results', 'copyright'])\n"
     ]
    }
   ],
   "source": [
    "print(data.keys())"
   ]
  },
  {
   "cell_type": "code",
   "execution_count": 6,
   "metadata": {
    "collapsed": false
   },
   "outputs": [
    {
     "name": "stdout",
     "output_type": "stream",
     "text": [
      "[{'list_image': '9780446564076.jpg', 'book_details': [{'book_image': 'https://s1.nyt.com/du/books/images/9780446564076.jpg', 'contributor': 'by David Baldacci', 'primary_isbn13': '9780446564083', 'author': 'David Baldacci', 'title': 'DELIVER US FROM EVIL', 'price': 27.99, 'age_group': '', 'primary_isbn10': '0446564087', 'contributor_note': '', 'amazon_product_url': 'http://www.amazon.com/Deliver-Us-Evil-David-Baldacci/dp/0446564079?tag=thenewyorktim-20', 'description': 'Two agents are tracking the same man, a human trafficker who is now dealing in nuclear arms.', 'publisher': 'Grand Central'}], 'normal_list_ends_at': 16, 'asterisk': 0, 'isbns': [{'isbn13': '9780446564076', 'isbn10': '0446564079'}, {'isbn13': '9780446576253', 'isbn10': '0446576255'}, {'isbn13': '9780892962617', 'isbn10': '0892962615'}, {'isbn13': '9780446564083', 'isbn10': '0446564087'}], 'dagger': 0, 'rank_last_week': 0, 'list_name': 'Hardcover Fiction', 'reviews': [{'sunday_review_link': '', 'book_review_link': '', 'first_chapter_link': '', 'article_chapter_link': ''}], 'published_date_range': '2008-06-08:2016-06-12', 'published_date': '2010-05-09', 'display_name': 'Hardcover Fiction', 'rank': 1, 'updated': 'WEEKLY', 'bestsellers_date': '2010-04-25', 'list_image_height': 500, 'weeks_on_list': 1, 'list_image_width': 279, 'list_name_encoded': 'hardcover-fiction'}, {'list_image': '9780446564076.jpg', 'book_details': [{'book_image': 'https://s1.nyt.com/du/books/images/9781440697661.jpg', 'contributor': 'by Kathryn Stockett', 'primary_isbn13': '9780399155345', 'author': 'Kathryn Stockett', 'title': 'THE HELP', 'price': 24.95, 'age_group': '', 'primary_isbn10': '0399155341', 'contributor_note': '', 'amazon_product_url': 'http://www.amazon.com/The-Help-Kathryn-Stockett/dp/0425232204?tag=thenewyorktim-20', 'description': 'A young white woman and two black maids in 1960s \\xadMississippi.', 'publisher': 'Amy Einhorn/Putnam'}], 'normal_list_ends_at': 16, 'asterisk': 0, 'isbns': [{'isbn13': '9780399155345', 'isbn10': '0399155341'}, {'isbn13': '9781440697661', 'isbn10': '1440697663'}, {'isbn13': '9780425232200', 'isbn10': '0425232204'}, {'isbn13': '9781594133886', 'isbn10': '1594133883'}, {'isbn13': '9780425245132', 'isbn10': '0425245136'}, {'isbn13': '9780399157912', 'isbn10': '0399157913'}], 'dagger': 0, 'rank_last_week': 2, 'list_name': 'Hardcover Fiction', 'reviews': [{'sunday_review_link': '', 'book_review_link': 'http://www.nytimes.com/2009/02/19/books/19masl.html', 'first_chapter_link': '', 'article_chapter_link': 'http://www.nytimes.com/2011/08/14/movies/black-and-white-struggle-through-hollywoods-rosy-glow.html'}], 'published_date_range': '2008-06-08:2016-06-12', 'published_date': '2010-05-09', 'display_name': 'Hardcover Fiction', 'rank': 2, 'updated': 'WEEKLY', 'bestsellers_date': '2010-04-25', 'list_image_height': 500, 'weeks_on_list': 56, 'list_image_width': 279, 'list_name_encoded': 'hardcover-fiction'}, {'list_image': '9780446564076.jpg', 'book_details': [{'book_image': 'https://s1.nyt.com/du/books/images/9780307277480.jpg', 'contributor': 'by Alexander McCall Smith', 'primary_isbn13': '9780375424502', 'author': 'Alexander McCall Smith', 'title': 'THE DOUBLE COMFORT SAFARI CLUB', 'price': 24.95, 'age_group': '', 'primary_isbn10': '0375424504', 'contributor_note': '', 'amazon_product_url': 'http://www.amazon.com/Double-Comfort-Safari-Ladies-Detective/dp/0375424504?tag=thenewyorktim-20', 'description': '\\nThe 11th novel in the No. 1 Ladies’ Detective Agency series.', 'publisher': 'Pantheon'}], 'normal_list_ends_at': 16, 'asterisk': 0, 'isbns': [{'isbn13': '9780375424502', 'isbn10': '0375424504'}, {'isbn13': '9780307277480', 'isbn10': '0307277488'}], 'dagger': 0, 'rank_last_week': 0, 'list_name': 'Hardcover Fiction', 'reviews': [{'sunday_review_link': '', 'book_review_link': '', 'first_chapter_link': '', 'article_chapter_link': ''}], 'published_date_range': '2008-06-08:2016-06-12', 'published_date': '2010-05-09', 'display_name': 'Hardcover Fiction', 'rank': 3, 'updated': 'WEEKLY', 'bestsellers_date': '2010-04-25', 'list_image_height': 500, 'weeks_on_list': 1, 'list_image_width': 279, 'list_name_encoded': 'hardcover-fiction'}, {'list_image': '9780446564076.jpg', 'book_details': [{'book_image': 'https://s1.nyt.com/du/books/images/9780061160882.jpg', 'contributor': 'by Elizabeth George', 'primary_isbn13': '9780061160882', 'author': 'Elizabeth George', 'title': 'THIS BODY OF DEATH', 'price': 28.99, 'age_group': '', 'primary_isbn10': '0061160881', 'contributor_note': '', 'amazon_product_url': 'http://www.amazon.com/This-Body-Death-Inspector-Lynley/dp/0061160881?tag=thenewyorktim-20', 'description': 'Detective Thomas Lynley becomes involved when a woman’s body is found in a London cemetery.', 'publisher': 'Harper/HarperCollins'}], 'normal_list_ends_at': 16, 'asterisk': 0, 'isbns': [{'isbn13': '9780061160912', 'isbn10': '0061160911'}, {'isbn13': '9780061160882', 'isbn10': '0061160881'}, {'isbn13': '9780061979545', 'isbn10': '0061979546'}], 'dagger': 0, 'rank_last_week': 0, 'list_name': 'Hardcover Fiction', 'reviews': [{'sunday_review_link': '', 'book_review_link': '', 'first_chapter_link': '', 'article_chapter_link': ''}], 'published_date_range': '2008-06-08:2016-06-12', 'published_date': '2010-05-09', 'display_name': 'Hardcover Fiction', 'rank': 4, 'updated': 'WEEKLY', 'bestsellers_date': '2010-04-25', 'list_image_height': 500, 'weeks_on_list': 1, 'list_image_width': 279, 'list_name_encoded': 'hardcover-fiction'}, {'list_image': '9780446564076.jpg', 'book_details': [{'book_image': 'https://s1.nyt.com/du/books/images/9780451229649.jpg', 'contributor': 'by Stuart Woods', 'primary_isbn13': '9780399156441', 'author': 'Stuart Woods', 'title': 'LUCID INTERVALS', 'price': 25.95, 'age_group': '', 'primary_isbn10': '0399156445', 'contributor_note': '', 'amazon_product_url': 'http://www.amazon.com/Lucid-Intervals-Stone-Barrington-Novel/dp/0399156445?tag=thenewyorktim-20', 'description': 'Stone Barrington, the New York cop turned lawyer, helps search for a former British intelligence operative.', 'publisher': 'Putnam'}], 'normal_list_ends_at': 16, 'asterisk': 0, 'isbns': [{'isbn13': '9780451229649', 'isbn10': '0451229649'}, {'isbn13': '9780399156441', 'isbn10': '0399156445'}], 'dagger': 0, 'rank_last_week': 0, 'list_name': 'Hardcover Fiction', 'reviews': [{'sunday_review_link': '', 'book_review_link': '', 'first_chapter_link': '', 'article_chapter_link': ''}], 'published_date_range': '2008-06-08:2016-06-12', 'published_date': '2010-05-09', 'display_name': 'Hardcover Fiction', 'rank': 5, 'updated': 'WEEKLY', 'bestsellers_date': '2010-04-25', 'list_image_height': 500, 'weeks_on_list': 1, 'list_image_width': 279, 'list_name_encoded': 'hardcover-fiction'}, {'list_image': '9780446564076.jpg', 'book_details': [{'book_image': 'https://s1.nyt.com/du/books/images/9781439180983.jpg', 'contributor': 'by Mary Higgins Clark', 'primary_isbn13': '9781439172261', 'author': 'Mary Higgins Clark', 'title': 'THE SHADOW OF YOUR SMILE', 'price': 25.99, 'age_group': '', 'primary_isbn10': '1439172269', 'contributor_note': '', 'amazon_product_url': 'http://www.amazon.com/Shadow-Your-Smile-Higgins-Clark/dp/1439172269?tag=thenewyorktim-20', 'description': 'An elderly woman must decide whether to reveal a family secret.', 'publisher': 'Simon & Schuster'}], 'normal_list_ends_at': 16, 'asterisk': 0, 'isbns': [{'isbn13': '9781439172261', 'isbn10': '1439172269'}, {'isbn13': '9781439180983', 'isbn10': '1439180989'}, {'isbn13': '9781439199879', 'isbn10': '1439199876'}], 'dagger': 0, 'rank_last_week': 1, 'list_name': 'Hardcover Fiction', 'reviews': [{'sunday_review_link': '', 'book_review_link': '', 'first_chapter_link': '', 'article_chapter_link': ''}], 'published_date_range': '2008-06-08:2016-06-12', 'published_date': '2010-05-09', 'display_name': 'Hardcover Fiction', 'rank': 6, 'updated': 'WEEKLY', 'bestsellers_date': '2010-04-25', 'list_image_height': 500, 'weeks_on_list': 2, 'list_image_width': 279, 'list_name_encoded': 'hardcover-fiction'}, {'list_image': '9780446564076.jpg', 'book_details': [{'book_image': 'https://s1.nyt.com/du/books/images/9780399156465.jpg', 'contributor': 'by Amanda Quick', 'primary_isbn13': '9780399156465', 'author': 'Amanda Quick', 'title': 'BURNING LAMP', 'price': 25.95, 'age_group': '', 'primary_isbn10': '0399156461', 'contributor_note': '', 'amazon_product_url': 'http://www.amazon.com/Burning-Lamp-Dreamlight-Trilogy-Society/dp/051514925X?tag=thenewyorktim-20', 'description': 'A Victorian crime lord fears he has fallen prey to an ancestral curse, and only a magical artifact can save him; an Arcane Society novel and the second book in the Dreamlight trilogy.', 'publisher': 'Putnam'}], 'normal_list_ends_at': 16, 'asterisk': 0, 'isbns': [{'isbn13': '9780399156465', 'isbn10': '0399156461'}, {'isbn13': '9780515149258', 'isbn10': '051514925X'}], 'dagger': 0, 'rank_last_week': 0, 'list_name': 'Hardcover Fiction', 'reviews': [{'sunday_review_link': '', 'book_review_link': '', 'first_chapter_link': '', 'article_chapter_link': ''}], 'published_date_range': '2008-06-08:2016-06-12', 'published_date': '2010-05-09', 'display_name': 'Hardcover Fiction', 'rank': 7, 'updated': 'WEEKLY', 'bestsellers_date': '2010-04-25', 'list_image_height': 500, 'weeks_on_list': 1, 'list_image_width': 279, 'list_name_encoded': 'hardcover-fiction'}, {'list_image': '9780446564076.jpg', 'book_details': [{'book_image': 'https://s1.nyt.com/du/books/images/9780812976885.jpg', 'contributor': 'by Anna Quindlen', 'primary_isbn13': '9781400065745', 'author': 'Anna Quindlen', 'title': 'EVERY LAST ONE', 'price': 26, 'age_group': '', 'primary_isbn10': '1400065747', 'contributor_note': '', 'amazon_product_url': 'http://www.amazon.com/Every-Last-One-A-Novel/dp/1400065747?tag=thenewyorktim-20', 'description': 'After a shocking assault on her family, a woman must discover how to live the rest of her life.', 'publisher': 'Random House'}], 'normal_list_ends_at': 16, 'asterisk': 0, 'isbns': [{'isbn13': '9781400065745', 'isbn10': '1400065747'}, {'isbn13': '9780812976885', 'isbn10': '0812976886'}], 'dagger': 0, 'rank_last_week': 5, 'list_name': 'Hardcover Fiction', 'reviews': [{'sunday_review_link': 'http://www.nytimes.com/2010/04/18/books/review/Scarf-t.html', 'book_review_link': '', 'first_chapter_link': '', 'article_chapter_link': ''}], 'published_date_range': '2008-06-08:2016-06-12', 'published_date': '2010-05-09', 'display_name': 'Hardcover Fiction', 'rank': 8, 'updated': 'WEEKLY', 'bestsellers_date': '2010-04-25', 'list_image_height': 500, 'weeks_on_list': 2, 'list_image_width': 279, 'list_name_encoded': 'hardcover-fiction'}, {'list_image': '9780446564076.jpg', 'book_details': [{'book_image': 'https://s1.nyt.com/du/books/images/9780312368159.jpg', 'contributor': 'by Iris Johansen', 'primary_isbn13': '9780312368159', 'author': 'Iris Johansen', 'title': 'EIGHT DAYS TO LIVE', 'price': 27.99, 'age_group': '', 'primary_isbn10': '0312368151', 'contributor_note': '', 'amazon_product_url': 'http://www.amazon.com/Eight-Days-Live-Forensics-Thriller/dp/0312368143?tag=thenewyorktim-20', 'description': '\\nA painting by Eve Duncan’s adopted daughter draws the ire of a religious cult.', 'publisher': 'St. Martin’s'}], 'normal_list_ends_at': 16, 'asterisk': 0, 'isbns': [{'isbn13': '9780312368142', 'isbn10': '0312368143'}, {'isbn13': '9780312368159', 'isbn10': '0312368151'}], 'dagger': 0, 'rank_last_week': 0, 'list_name': 'Hardcover Fiction', 'reviews': [{'sunday_review_link': '', 'book_review_link': '', 'first_chapter_link': '', 'article_chapter_link': ''}], 'published_date_range': '2008-06-08:2016-06-12', 'published_date': '2010-05-09', 'display_name': 'Hardcover Fiction', 'rank': 9, 'updated': 'WEEKLY', 'bestsellers_date': '2010-04-25', 'list_image_height': 500, 'weeks_on_list': 1, 'list_image_width': 279, 'list_name_encoded': 'hardcover-fiction'}, {'list_image': '9780446564076.jpg', 'book_details': [{'book_image': 'https://s1.nyt.com/du/books/images/9780451463173.jpg', 'contributor': 'by Jim Butcher', 'primary_isbn13': '9780451463173', 'author': 'Jim Butcher', 'title': 'CHANGES', 'price': 25.95, 'age_group': '', 'primary_isbn10': '045146317X', 'contributor_note': '', 'amazon_product_url': 'http://www.amazon.com/Changes-A-Novel-Dresden-Files/dp/0451463471?tag=thenewyorktim-20', 'description': 'Book 12 of the Dresden Files series about a wizard detective in Chicago.', 'publisher': 'Roc'}], 'normal_list_ends_at': 16, 'asterisk': 0, 'isbns': [{'isbn13': '9780451463173', 'isbn10': '045146317X'}, {'isbn13': '9780451463470', 'isbn10': '0451463471'}], 'dagger': 0, 'rank_last_week': 3, 'list_name': 'Hardcover Fiction', 'reviews': [{'sunday_review_link': '', 'book_review_link': '', 'first_chapter_link': '', 'article_chapter_link': ''}], 'published_date_range': '2008-06-08:2016-06-12', 'published_date': '2010-05-09', 'display_name': 'Hardcover Fiction', 'rank': 10, 'updated': 'WEEKLY', 'bestsellers_date': '2010-04-25', 'list_image_height': 500, 'weeks_on_list': 3, 'list_image_width': 279, 'list_name_encoded': 'hardcover-fiction'}, {'list_image': '9780446564076.jpg', 'book_details': [{'book_image': 'https://s1.nyt.com/du/books/images/9780451232700.jpg', 'contributor': 'by Harlan Coben', 'primary_isbn13': '9780525951582', 'author': 'Harlan Coben', 'title': 'CAUGHT', 'price': 27.95, 'age_group': '', 'primary_isbn10': '052595158X', 'contributor_note': '', 'amazon_product_url': 'http://www.amazon.com/Caught-Harlan-Coben/dp/0451232704?tag=thenewyorktim-20', 'description': 'A suburban girl goes missing.', 'publisher': 'Dutton'}], 'normal_list_ends_at': 16, 'asterisk': 0, 'isbns': [{'isbn13': '9780525951582', 'isbn10': '052595158X'}, {'isbn13': '9780451232700', 'isbn10': '0451232704'}], 'dagger': 0, 'rank_last_week': 4, 'list_name': 'Hardcover Fiction', 'reviews': [{'sunday_review_link': '', 'book_review_link': '', 'first_chapter_link': '', 'article_chapter_link': ''}], 'published_date_range': '2008-06-08:2016-06-12', 'published_date': '2010-05-09', 'display_name': 'Hardcover Fiction', 'rank': 11, 'updated': 'WEEKLY', 'bestsellers_date': '2010-04-25', 'list_image_height': 500, 'weeks_on_list': 5, 'list_image_width': 279, 'list_name_encoded': 'hardcover-fiction'}, {'list_image': '9780446564076.jpg', 'book_details': [{'book_image': 'https://s1.nyt.com/du/books/images/9780743296434.jpg', 'contributor': 'by Jodi Picoult', 'primary_isbn13': '9780743296434', 'author': 'Jodi Picoult', 'title': 'HOUSE RULES', 'price': 28, 'age_group': '', 'primary_isbn10': '0743296435', 'contributor_note': '', 'amazon_product_url': 'http://www.amazon.com/House-Rules-Novel-Jodi-Picoult/dp/0743296443?tag=thenewyorktim-20', 'description': 'A teenage boy with Asperger’s syndrome is accused of murder.', 'publisher': 'Atria'}], 'normal_list_ends_at': 16, 'asterisk': 0, 'isbns': [{'isbn13': '9780743296441', 'isbn10': '0743296443'}, {'isbn13': '9781439199312', 'isbn10': '1439199310'}, {'isbn13': '9780743296434', 'isbn10': '0743296435'}, {'isbn13': '9781602857100', 'isbn10': '1602857105'}], 'dagger': 0, 'rank_last_week': 6, 'list_name': 'Hardcover Fiction', 'reviews': [{'sunday_review_link': '', 'book_review_link': '', 'first_chapter_link': '', 'article_chapter_link': ''}], 'published_date_range': '2008-06-08:2016-06-12', 'published_date': '2010-05-09', 'display_name': 'Hardcover Fiction', 'rank': 12, 'updated': 'WEEKLY', 'bestsellers_date': '2010-04-25', 'list_image_height': 500, 'weeks_on_list': 8, 'list_image_width': 279, 'list_name_encoded': 'hardcover-fiction'}, {'list_image': '9780446564076.jpg', 'book_details': [{'book_image': 'https://s1.nyt.com/du/books/images/9780802119285.jpg', 'contributor': 'by Karl Marlantes', 'primary_isbn13': '9780802119285', 'author': 'Karl Marlantes', 'title': 'MATTERHORN', 'price': 24.95, 'age_group': '', 'primary_isbn10': '080211928X', 'contributor_note': '', 'amazon_product_url': 'http://www.amazon.com/Matterhorn-A-Novel-Vietnam-War/dp/0802145310?tag=thenewyorktim-20', 'description': 'Marines in Vietnam in 1969.', 'publisher': 'El León Literary Arts/Atlantic Monthly'}], 'normal_list_ends_at': 16, 'asterisk': 0, 'isbns': [{'isbn13': '9780802119285', 'isbn10': '080211928X'}, {'isbn13': '9780802145314', 'isbn10': '0802145310'}], 'dagger': 0, 'rank_last_week': 7, 'list_name': 'Hardcover Fiction', 'reviews': [{'sunday_review_link': 'http://www.nytimes.com/2010/04/04/books/review/Junger-t.html', 'book_review_link': '', 'first_chapter_link': '', 'article_chapter_link': ''}], 'published_date_range': '2008-06-08:2016-06-12', 'published_date': '2010-05-09', 'display_name': 'Hardcover Fiction', 'rank': 13, 'updated': 'WEEKLY', 'bestsellers_date': '2010-04-25', 'list_image_height': 500, 'weeks_on_list': 5, 'list_image_width': 279, 'list_name_encoded': 'hardcover-fiction'}, {'list_image': '9780446564076.jpg', 'book_details': [{'book_image': 'https://s1.nyt.com/du/books/images/9781439187319.jpg', 'contributor': 'by Richard Paul Evans', 'primary_isbn13': '9781439187319', 'author': 'Richard Paul Evans', 'title': 'THE WALK', 'price': 22, 'age_group': '', 'primary_isbn10': '1439187312', 'contributor_note': '', 'amazon_product_url': 'http://www.amazon.com/The-Walk-Novel-Series/dp/1439187312?tag=thenewyorktim-20', 'description': 'A Seattle ad executive loses everything and starts walking to Key West.', 'publisher': 'Simon & Schuster'}], 'normal_list_ends_at': 16, 'asterisk': 0, 'isbns': [{'isbn13': '9781439187319', 'isbn10': '1439187312'}], 'dagger': 0, 'rank_last_week': 10, 'list_name': 'Hardcover Fiction', 'reviews': [{'sunday_review_link': '', 'book_review_link': '', 'first_chapter_link': '', 'article_chapter_link': ''}], 'published_date_range': '2008-06-08:2016-06-12', 'published_date': '2010-05-09', 'display_name': 'Hardcover Fiction', 'rank': 14, 'updated': 'WEEKLY', 'bestsellers_date': '2010-04-25', 'list_image_height': 500, 'weeks_on_list': 3, 'list_image_width': 279, 'list_name_encoded': 'hardcover-fiction'}, {'list_image': '9780446564076.jpg', 'book_details': [{'book_image': 'https://s1.nyt.com/du/books/images/9780345505682.jpg', 'contributor': 'by Jonathan Kellerman', 'primary_isbn13': '9780345505675', 'author': 'Jonathan Kellerman', 'title': 'DECEPTION', 'price': 28, 'age_group': '', 'primary_isbn10': '0345505670', 'contributor_note': '', 'amazon_product_url': 'http://www.amazon.com/Deception-An-Alex-Delaware-Novel/dp/0345505689?tag=thenewyorktim-20', 'description': 'The Los Angeles psychologist-detective Alex Delaware and the detective Milo Sturgis work on a prep-school murder case.', 'publisher': 'Ballantine'}], 'normal_list_ends_at': 16, 'asterisk': 0, 'isbns': [{'isbn13': '9780345505675', 'isbn10': '0345505670'}, {'isbn13': '9780345505682', 'isbn10': '0345505689'}, {'isbn13': '9780345519238', 'isbn10': '034551923X'}], 'dagger': 0, 'rank_last_week': 12, 'list_name': 'Hardcover Fiction', 'reviews': [{'sunday_review_link': '', 'book_review_link': '', 'first_chapter_link': '', 'article_chapter_link': ''}], 'published_date_range': '2008-06-08:2016-06-12', 'published_date': '2010-05-09', 'display_name': 'Hardcover Fiction', 'rank': 15, 'updated': 'WEEKLY', 'bestsellers_date': '2010-04-25', 'list_image_height': 500, 'weeks_on_list': 4, 'list_image_width': 279, 'list_name_encoded': 'hardcover-fiction'}, {'list_image': '9780446564076.jpg', 'book_details': [{'book_image': 'https://s1.nyt.com/du/books/images/9781400069262.jpg', 'contributor': 'by Yann Martel', 'primary_isbn13': '9781400069262', 'author': 'Yann Martel', 'title': 'BEATRICE AND VIRGIL', 'price': 24, 'age_group': '', 'primary_isbn10': '1400069262', 'contributor_note': '', 'amazon_product_url': 'http://www.amazon.com/Beatrice-Virgil-Novel-Yann-Martel-ebook/dp/B0036S0F3K?tag=thenewyorktim-20', 'description': 'The fate of stuffed animals in a taxidermy shop is an allegory for the Holocaust; from the author of “The Life of Pi.”', 'publisher': 'Spiegel & Grau'}], 'normal_list_ends_at': 16, 'asterisk': 1, 'isbns': [{'isbn13': '9781400069262', 'isbn10': '1400069262'}], 'dagger': 0, 'rank_last_week': 13, 'list_name': 'Hardcover Fiction', 'reviews': [{'sunday_review_link': 'http://www.nytimes.com/2010/05/02/books/review/Hanks-t.html', 'book_review_link': 'http://www.nytimes.com/2010/04/13/books/13book.html', 'first_chapter_link': 'http://www.nytimes.com/2010/04/13/books/excerpt-beatrice-and-virgil.html', 'article_chapter_link': ''}], 'published_date_range': '2008-06-08:2016-06-12', 'published_date': '2010-05-09', 'display_name': 'Hardcover Fiction', 'rank': 16, 'updated': 'WEEKLY', 'bestsellers_date': '2010-04-25', 'list_image_height': 500, 'weeks_on_list': 2, 'list_image_width': 279, 'list_name_encoded': 'hardcover-fiction'}, {'list_image': '9780446564076.jpg', 'book_details': [{'book_image': 'https://s1.nyt.com/du/books/images/9781439170267.jpg', 'contributor': 'by Carol Higgins Clark', 'primary_isbn13': '9781439170250', 'author': 'Carol Higgins Clark', 'title': 'WRECKED', 'price': 0, 'age_group': '', 'primary_isbn10': '1439170258', 'contributor_note': '', 'amazon_product_url': 'http://www.amazon.com/Wrecked-A-Regan-Reilly-Mystery/dp/1439170266?tag=thenewyorktim-20', 'description': 'In the 13th mystery in this series, the suspicious disappearance of a neighbor interrupts a romantic weekend on Cape Cod for the P.I. Regan Reilly and her husband.', 'publisher': 'Scribner'}], 'normal_list_ends_at': 16, 'asterisk': 0, 'isbns': [{'isbn13': '9781439170250', 'isbn10': '1439170258'}, {'isbn13': '9781439170267', 'isbn10': '1439170266'}], 'dagger': 0, 'rank_last_week': 0, 'list_name': 'Hardcover Fiction', 'reviews': [{'sunday_review_link': '', 'book_review_link': '', 'first_chapter_link': '', 'article_chapter_link': ''}], 'published_date_range': '2008-06-08:2016-06-12', 'published_date': '2010-05-09', 'display_name': 'Hardcover Fiction', 'rank': 17, 'updated': 'WEEKLY', 'bestsellers_date': '2010-04-25', 'list_image_height': 500, 'weeks_on_list': 0, 'list_image_width': 279, 'list_name_encoded': 'hardcover-fiction'}, {'list_image': '9780446564076.jpg', 'book_details': [{'book_image': 'https://s1.nyt.com/du/books/images/9780441018192.jpg', 'contributor': 'by Patricia Briggs', 'primary_isbn13': '9780441018192', 'author': 'Patricia Briggs', 'title': 'SILVER BORNE', 'price': 0, 'age_group': '', 'primary_isbn10': '044101819X', 'contributor_note': '', 'amazon_product_url': 'http://www.amazon.com/Silver-Borne-Mercy-Thompson-Book/dp/044101996X?tag=thenewyorktim-20', 'description': 'The shapeshifter Mercy Thompson works on her relationship with the leader of the werewolf pack and helps a suicidal friend.', 'publisher': 'Ace'}], 'normal_list_ends_at': 16, 'asterisk': 0, 'isbns': [{'isbn13': '9780441019960', 'isbn10': '044101996X'}, {'isbn13': '9780441018192', 'isbn10': '044101819X'}], 'dagger': 0, 'rank_last_week': 0, 'list_name': 'Hardcover Fiction', 'reviews': [{'sunday_review_link': '', 'book_review_link': '', 'first_chapter_link': '', 'article_chapter_link': ''}], 'published_date_range': '2008-06-08:2016-06-12', 'published_date': '2010-05-09', 'display_name': 'Hardcover Fiction', 'rank': 18, 'updated': 'WEEKLY', 'bestsellers_date': '2010-04-25', 'list_image_height': 500, 'weeks_on_list': 0, 'list_image_width': 279, 'list_name_encoded': 'hardcover-fiction'}, {'list_image': '9780446564076.jpg', 'book_details': [{'book_image': 'https://s1.nyt.com/du/books/images/9780446563086.jpg', 'contributor': 'by Seth Grahame-Smith', 'primary_isbn13': '9780446563086', 'author': 'Seth Grahame-Smith', 'title': 'ABRAHAM LINCOLN: VAMPIRE HUNTER', 'price': 0, 'age_group': '', 'primary_isbn10': '0446563080', 'contributor_note': '', 'amazon_product_url': 'http://www.amazon.com/Abraham-Lincoln-Vampire-Seth-Grahame-Smith/dp/0446563072?tag=thenewyorktim-20', 'description': 'A journal reveals Lincoln’s fight against the undead; by the author of “Pride and Prejudice and Zombies.\"', 'publisher': 'Grand Central'}], 'normal_list_ends_at': 16, 'asterisk': 0, 'isbns': [{'isbn13': '9780446563086', 'isbn10': '0446563080'}, {'isbn13': '9780446563079', 'isbn10': '0446563072'}, {'isbn13': '9781455510177', 'isbn10': '1455510173'}, {'isbn13': '9781455510184', 'isbn10': '1455510181'}, {'isbn13': '9780446571852', 'isbn10': '0446571857'}, {'isbn13': '9781849014779', 'isbn10': '1849014779'}], 'dagger': 0, 'rank_last_week': 0, 'list_name': 'Hardcover Fiction', 'reviews': [{'sunday_review_link': '', 'book_review_link': '', 'first_chapter_link': '', 'article_chapter_link': ''}], 'published_date_range': '2008-06-08:2016-06-12', 'published_date': '2010-05-09', 'display_name': 'Hardcover Fiction', 'rank': 19, 'updated': 'WEEKLY', 'bestsellers_date': '2010-04-25', 'list_image_height': 500, 'weeks_on_list': 0, 'list_image_width': 279, 'list_name_encoded': 'hardcover-fiction'}, {'list_image': '9780446564076.jpg', 'book_details': [{'book_image': 'https://s1.nyt.com/du/books/images/9780061246265.jpg', 'contributor': 'by Elizabeth Peters', 'primary_isbn13': '9780061246265', 'author': 'Elizabeth Peters', 'title': 'A RIVER IN THE SKY', 'price': 0, 'age_group': '', 'primary_isbn10': '0061246263', 'contributor_note': '', 'amazon_product_url': 'http://www.amazon.com/River-Sky-Amelia-Peabody-Mysteries/dp/0061246263?tag=thenewyorktim-20', 'description': 'In 1910, the Peabody-Emerson clan tries to head off a holy war in Palestine; an Amelia Peabody mystery.', 'publisher': 'Morrow/HarperCollins'}], 'normal_list_ends_at': 16, 'asterisk': 0, 'isbns': [{'isbn13': '9780061246265', 'isbn10': '0061246263'}], 'dagger': 0, 'rank_last_week': 0, 'list_name': 'Hardcover Fiction', 'reviews': [{'sunday_review_link': '', 'book_review_link': '', 'first_chapter_link': '', 'article_chapter_link': ''}], 'published_date_range': '2008-06-08:2016-06-12', 'published_date': '2010-05-09', 'display_name': 'Hardcover Fiction', 'rank': 20, 'updated': 'WEEKLY', 'bestsellers_date': '2010-04-25', 'list_image_height': 500, 'weeks_on_list': 0, 'list_image_width': 279, 'list_name_encoded': 'hardcover-fiction'}]\n"
     ]
    }
   ],
   "source": [
    "print(data['results'])"
   ]
  },
  {
   "cell_type": "code",
   "execution_count": 12,
   "metadata": {
    "collapsed": false
   },
   "outputs": [
    {
     "name": "stdout",
     "output_type": "stream",
     "text": [
      "The hardcover Fiction NYT best-sellers on mothers day in 2010 are:\n",
      "- SKIN TRADE\n",
      "- MEDUSA\n",
      "- THE SCARECROW\n",
      "- SHANGHAI GIRLS\n",
      "- MATTERS OF THE HEART\n",
      "- GONE TOMORROW\n",
      "- DEAD AND GONE\n",
      "- THE 8TH CONFESSION\n",
      "- THE STRAIN\n",
      "- WICKED PREY\n",
      "- THE HOST\n",
      "- FIRST FAMILY\n",
      "- CEMETERY DANCE\n",
      "- UNDEAD AND UNWELCOME\n",
      "- THE HELP\n",
      "- PYGMY\n",
      "- MY FATHER'S TEARS AND OTHER STORIES\n",
      "- ROAD DOGS\n",
      "- THE STORY SISTERS\n",
      "- HEARTLESS\n"
     ]
    }
   ],
   "source": [
    "#What books topped the Hardcover Fiction NYT best-sellers list on Mother's Day in 2009 and 2010? How about Father's Day?\n",
    "#mothers day in 2010\n",
    "book_result = data['results']\n",
    "\n",
    "#print(book_result)\n",
    "\n",
    "print(\"The hardcover Fiction NYT best-sellers on mothers day in 2010 are:\")\n",
    "\n",
    "for i in book_result:\n",
    "    #print(i['book_details'])\n",
    "    for item in i['book_details']:\n",
    "        print(\"-\", item['title'])\n",
    "    \n",
    "\n",
    "    "
   ]
  },
  {
   "cell_type": "code",
   "execution_count": 13,
   "metadata": {
    "collapsed": false
   },
   "outputs": [
    {
     "name": "stdout",
     "output_type": "stream",
     "text": [
      "The hardcover Fiction NYT best-sellers on mothers day in 2009 are:\n",
      "- FIRST FAMILY\n",
      "- TEA TIME FOR THE TRADITIONALLY BUILT\n",
      "- LOITERING WITH INTENT\n",
      "- JUST TAKE MY HEART\n",
      "- THE PERFECT POISON\n",
      "- THE HOST\n",
      "- LOOK AGAIN\n",
      "- DEADLOCK\n",
      "- LONG LOST\n",
      "- TURN COAT\n",
      "- THE ASSOCIATE\n",
      "- HANDLE WITH CARE\n",
      "- THE HELP\n",
      "- THE GUERNSEY LITERARY AND POTATO PEEL PIE SOCIETY\n",
      "- FATALLY FLAKY\n",
      "- ARTHAS\n",
      "- A RELIABLE WIFE\n",
      "- BORDERLINE\n",
      "- ONE SECOND AFTER\n",
      "- BONEMAN'S DAUGHTERS\n"
     ]
    }
   ],
   "source": [
    "#mothers day in 2009\n",
    "response = requests.get('http://api.nytimes.com/svc/books/v2/lists/2009-05-10/hardcover-fiction.json?api-key=3880684abea14d86b6280c6dbd80a793')\n",
    "data = response.json()\n",
    "#print(data)\n",
    "\n",
    "print(\"The hardcover Fiction NYT best-sellers on mothers day in 2009 are:\")\n",
    "book_result = data['results']\n",
    "\n",
    "#print(book_result)\n",
    "\n",
    "for i in book_result:\n",
    "    #print(i['book_details'])\n",
    "    for item in i['book_details']:\n",
    "        print(\"-\",item['title'])\n",
    "    "
   ]
  },
  {
   "cell_type": "code",
   "execution_count": 14,
   "metadata": {
    "collapsed": false
   },
   "outputs": [
    {
     "name": "stdout",
     "output_type": "stream",
     "text": [
      "The hardcover Fiction NYT best-sellers on fathers day in 2010 are:\n",
      "- THE GIRL WHO KICKED THE HORNET’S NEST\n",
      "- BULLET\n",
      "- THE SPY\n",
      "- THE HELP\n",
      "- DEAD IN THE FAMILY\n",
      "- 61 HOURS\n",
      "- THE BURNING WIRE\n",
      "- STORM PREY\n",
      "- THE BOURNE OBJECTIVE\n",
      "- INNOCENT\n",
      "- HEART OF THE MATTER\n",
      "- THE 9TH JUDGMENT\n",
      "- BLOCKADE BILLY\n",
      "- ALLIES\n",
      "- THE RULE OF NINE\n",
      "- FEVER DREAM\n",
      "- DELIVER US FROM EVIL\n",
      "- MATTERHORN\n",
      "- THE PARTICULAR SADNESS OF LEMON CAKE\n",
      "- DANGEROUS\n"
     ]
    }
   ],
   "source": [
    "#fathers day in 2010\n",
    "response = requests.get('http://api.nytimes.com/svc/books/v2/lists/2010-06-20/hardcover-fiction.json?api-key=3880684abea14d86b6280c6dbd80a793')\n",
    "data = response.json()\n",
    "#print(data)\n",
    "print(\"The hardcover Fiction NYT best-sellers on fathers day in 2010 are:\")\n",
    "book_result = data['results']\n",
    "\n",
    "#print(book_result)\n",
    "\n",
    "for i in book_result:\n",
    "    #print(i['book_details'])\n",
    "    for item in i['book_details']:\n",
    "        print(\"-\", item['title'])\n",
    "    "
   ]
  },
  {
   "cell_type": "code",
   "execution_count": 15,
   "metadata": {
    "collapsed": false
   },
   "outputs": [
    {
     "name": "stdout",
     "output_type": "stream",
     "text": [
      "The hardcover Fiction NYT best-sellers on fathers day in 2009 are:\n",
      "- SKIN TRADE\n",
      "- MEDUSA\n",
      "- THE SCARECROW\n",
      "- SHANGHAI GIRLS\n",
      "- MATTERS OF THE HEART\n",
      "- GONE TOMORROW\n",
      "- DEAD AND GONE\n",
      "- THE 8TH CONFESSION\n",
      "- THE STRAIN\n",
      "- WICKED PREY\n",
      "- THE HOST\n",
      "- FIRST FAMILY\n",
      "- CEMETERY DANCE\n",
      "- UNDEAD AND UNWELCOME\n",
      "- THE HELP\n",
      "- PYGMY\n",
      "- MY FATHER'S TEARS AND OTHER STORIES\n",
      "- ROAD DOGS\n",
      "- THE STORY SISTERS\n",
      "- HEARTLESS\n"
     ]
    }
   ],
   "source": [
    "#fathers day in 2009\n",
    "response = requests.get('http://api.nytimes.com/svc/books/v2/lists/2009-06-21/hardcover-fiction.json?api-key=3880684abea14d86b6280c6dbd80a793')\n",
    "data = response.json()\n",
    "#print(data)\n",
    "book_result = data['results']\n",
    "print(\"The hardcover Fiction NYT best-sellers on fathers day in 2009 are:\")\n",
    "\n",
    "#print(book_result)\n",
    "\n",
    "for i in book_result:\n",
    "    #print(i['book_details'])\n",
    "    for item in i['book_details']:\n",
    "        print(\"-\", item['title'])"
   ]
  },
  {
   "cell_type": "code",
   "execution_count": 29,
   "metadata": {
    "collapsed": false
   },
   "outputs": [],
   "source": [
    "#What are all the different book categories the NYT ranked in June 6, 2009? How about June 6, 2015?\n",
    "\n",
    "response = requests.get('http://api.nytimes.com/svc/books/v2/lists/names.json?date=2009-06-06&api-key=3880684abea14d86b6280c6dbd80a793')\n",
    "data = response.json()\n",
    "#print(data)"
   ]
  },
  {
   "cell_type": "code",
   "execution_count": 26,
   "metadata": {
    "collapsed": false
   },
   "outputs": [
    {
     "name": "stdout",
     "output_type": "stream",
     "text": [
      "The following are the different book categories the NYT ranked in June 6, 2009:\n",
      "- Hardcover Fiction\n",
      "- Hardcover Nonfiction\n",
      "- Paperback Trade Fiction\n",
      "- Paperback Mass-Market Fiction\n",
      "- Paperback Nonfiction\n",
      "- Hardcover Advice & Misc.\n",
      "- Paperback Advice & Misc.\n",
      "- Children’s Chapter Books\n",
      "- Children’s Paperback Books\n",
      "- Children’s Picture Books\n",
      "- Children’s Series\n",
      "- Hardcover Graphic Books\n",
      "- Paperback Graphic Books\n",
      "- Manga\n"
     ]
    }
   ],
   "source": [
    "#What are all the different book categories the NYT ranked in June 6, 2009\n",
    "book_result = data['results']\n",
    "print(\"The following are the different book categories the NYT ranked in June 6, 2009:\")\n",
    "\n",
    "#print(book_result)\n",
    "\n",
    "for i in book_result:\n",
    "    print(\"-\", i['display_name'])\n",
    "    "
   ]
  },
  {
   "cell_type": "code",
   "execution_count": 28,
   "metadata": {
    "collapsed": false
   },
   "outputs": [
    {
     "name": "stdout",
     "output_type": "stream",
     "text": [
      "The following are the different book categories the NYT ranked in June 6, 2015:\n",
      "- Combined Print & E-Book Fiction\n",
      "- Combined Print & E-Book Nonfiction\n",
      "- Hardcover Fiction\n",
      "- Hardcover Nonfiction\n",
      "- Paperback Trade Fiction\n",
      "- Paperback Mass-Market Fiction\n",
      "- Paperback Nonfiction\n",
      "- E-Book Fiction\n",
      "- E-Book Nonfiction\n",
      "- Advice, How-To & Miscellaneous\n",
      "- Children’s Middle Grade\n",
      "- Children’s Picture Books\n",
      "- Children’s Series\n",
      "- Young Adult\n",
      "- Hardcover Graphic Books\n",
      "- Paperback Graphic Books\n",
      "- Manga\n",
      "- Animals\n",
      "- Business\n",
      "- Celebrities\n",
      "- Crime and Punishment\n",
      "- Culture\n",
      "- Education\n",
      "- Espionage\n",
      "- Expeditions\n",
      "- Fashion, Manners and Customs\n",
      "- Food and Diet\n",
      "- Games and Activities\n",
      "- Health\n",
      "- Humor\n",
      "- Indigenous Americans\n",
      "- Love and Relationships\n",
      "- Parenthood and Family\n",
      "- Politics and American History\n",
      "- Race and Civil Rights\n",
      "- Religion, Spirituality and Faith\n",
      "- Science\n",
      "- Sports and Fitness\n",
      "- Travel\n"
     ]
    }
   ],
   "source": [
    "#What are all the different book categories the NYT ranked in June 6, 2015?\n",
    "\n",
    "response = requests.get('http://api.nytimes.com/svc/books/v2/lists/names.json?date=2015-06-06&api-key=3880684abea14d86b6280c6dbd80a793')\n",
    "data = response.json()\n",
    "#print(data)\n",
    "book_result = data['results']\n",
    "print(\"The following are the different book categories the NYT ranked in June 6, 2015:\")\n",
    "\n",
    "#print(book_result)\n",
    "\n",
    "for i in book_result:\n",
    "    print(\"-\", i['display_name'])"
   ]
  },
  {
   "cell_type": "markdown",
   "metadata": {},
   "source": [
    "## Finding the Total Occurrence of Muammar Gaddafi's ##\n",
    "\n",
    "Muammar Gaddafi's name can be transliterated many many ways. His last name is often a source of a million and one versions - Gadafi, Gaddafi, Kadafi, and Qaddafi to name a few. How many times has the New York Times referred to him by each of those names?\n",
    "Tip: Add \"Libya\" to your search to make sure (-ish) you're talking about the right guy."
   ]
  },
  {
   "cell_type": "code",
   "execution_count": 55,
   "metadata": {
    "collapsed": false
   },
   "outputs": [
    {
     "name": "stdout",
     "output_type": "stream",
     "text": [
      "Gadafi appears 0 times\n",
      "Gaddafi appears 1016 times\n",
      "Kadafi appears 3 times\n",
      "Qaddafi appears 5251 times\n"
     ]
    }
   ],
   "source": [
    "Gadafi_response = requests.get('https://api.nytimes.com/svc/search/v2/articlesearch.json?q=Gadafi&fq=Libya&api-key=3880684abea14d86b6280c6dbd80a793')\n",
    "Gadafi_data = Gadafi_response.json()\n",
    "Gadafi_data_result = Gadafi_data['response']['meta']['hits']\n",
    "print(\"Gadafi appears\", Gadafi_data_result, \"times\")\n",
    "Gaddafi_response = requests.get('https://api.nytimes.com/svc/search/v2/articlesearch.json?q=Gaddafi&fq=Libya&api-key=3880684abea14d86b6280c6dbd80a793')\n",
    "Gaddafi_data = Gaddafi_response.json()\n",
    "Gaddafi_data_result = Gaddafi_data['response']['meta']['hits']\n",
    "print(\"Gaddafi appears\", Gaddafi_data_result, \"times\")\n",
    "Kadafi_response = requests.get('https://api.nytimes.com/svc/search/v2/articlesearch.json?q=Kadafi&fq=Libya&api-key=3880684abea14d86b6280c6dbd80a793')\n",
    "Kadafi_data = Kadafi_response.json()\n",
    "Kadafi_data_result = Kadafi_data['response']['meta']['hits']\n",
    "print(\"Kadafi appears\", Kadafi_data_result, \"times\")\n",
    "Qaddafi_response = requests.get('https://api.nytimes.com/svc/search/v2/articlesearch.json?q=Qaddafi&fq=Libya&api-key=3880684abea14d86b6280c6dbd80a793')\n",
    "Qaddafi_data = Qaddafi_response.json()\n",
    "Qaddafi_data_result = Qaddafi_data['response']['meta']['hits']\n",
    "print(\"Qaddafi appears\", Qaddafi_data_result, \"times\")\n",
    "\n",
    "    "
   ]
  },
  {
   "cell_type": "markdown",
   "metadata": {},
   "source": [
    "## Hipster ##\n",
    "\n",
    "What's the title of the first story to mention the word 'hipster' in 1995? What's the first paragraph?"
   ]
  },
  {
   "cell_type": "code",
   "execution_count": 57,
   "metadata": {
    "collapsed": false
   },
   "outputs": [
    {
     "name": "stdout",
     "output_type": "stream",
     "text": [
      "hipster appears 3430 times\n"
     ]
    }
   ],
   "source": [
    "# testing it for count\n",
    "hipster_response = requests.get('https://api.nytimes.com/svc/search/v2/articlesearch.json?q=hipster&pub_year=1995&api-key=3880684abea14d86b6280c6dbd80a793')\n",
    "hipster_data = hipster_response.json()\n",
    "hipster_data_result = hipster_data['response']['meta']['hits']\n",
    "print(\"hipster appears\", hipster_data_result, \"times\")"
   ]
  },
  {
   "cell_type": "code",
   "execution_count": 93,
   "metadata": {
    "collapsed": false
   },
   "outputs": [
    {
     "name": "stdout",
     "output_type": "stream",
     "text": [
      "The word, hipster, appears for the first time in the following article:  A Start-Up Offers $10,000, and Beer\n",
      "The word, hipster, appears for the first time in the following paragraph:\n",
      "-------------------------------------------------------------------------\n",
      "Earlier this year, my colleague Claire Cain Miller and I reported on the fierce recruiting wars among tech companies as they competed to hire and retain talented software developers and engineers. We wrote about some of the perks that start-ups were offering to potential employees to convince them to join their companies, including free meals, haircuts and even iPads. Now, Hipster, a start-up in San Francisco that lets people post queries and answers to others in their geographic area using the Web and a mobile phone, is trying to attract fresh faces to its company with a particularly attention-getting offer -- $10,000 and a year's supply of beer. The company is also offering a bicycle, pair of oversized glasses, skinny jeans, a bowtie, mustache-grooming services and a pair of boots. The prize was designed to resonate with the company's name. The beer, of course, is PBR (Pabst Blue Ribbon, for those who are not hip).\n"
     ]
    }
   ],
   "source": [
    "#print(hipster_data)\n",
    "#print(hipster_data.keys())\n",
    "hipster_resp = hipster_data['response']\n",
    "hipster_resp = hipster_data['response']['docs'][0]['headline']['main']\n",
    "print(\"The word, hipster, appears for the first time in the following article: \", hipster_resp)\n",
    "hipster_para = hipster_data['response']['docs'][0]['lead_paragraph']\n",
    "print(\"The word, hipster, appears for the first time in the following paragraph:\")\n",
    "print(\"-------------------------------------------------------------------------\")\n",
    "print(hipster_para)\n"
   ]
  },
  {
   "cell_type": "markdown",
   "metadata": {},
   "source": [
    "## Gay Marriage ##\n",
    "\n",
    "5) How many times was gay marriage mentioned in the NYT between 1950-1959, 1960-1969, 1970-1978, 1980-1989, 1990-2099, 2000-2009, and 2010-present?\n",
    "\n",
    "Tip: You'll want to put quotes around the search term so it isn't just looking for \"gay\" and \"marriage\" in the same article.\n"
   ]
  },
  {
   "cell_type": "code",
   "execution_count": 95,
   "metadata": {
    "collapsed": false
   },
   "outputs": [
    {
     "name": "stdout",
     "output_type": "stream",
     "text": [
      "Gay Marriage appears 0 times in the period 1950-1959\n",
      "Gay Marriage appears 0 times in the period 1960-1969\n",
      "Gay Marriage appears 0 times in the period 1970-1978\n",
      "Gay Marriage appears 0 times in the period 1980-1989\n",
      "Gay Marriage appears 0 times in the period 1990-1999\n",
      "Gay Marriage appears 399 times in the period 2000-2009\n",
      "Gay Marriage appears 4748 times from the year 2010\n"
     ]
    }
   ],
   "source": [
    "#1950\n",
    "gay50S_response = requests.get('https://api.nytimes.com/svc/search/v2/articlesearch.json?q=%22gay%20marriage%22&begin_date=19590101&end_date=19501231&api-key=3880684abea14d86b6280c6dbd80a793')\n",
    "gay50S_data = gay50S_response.json()\n",
    "gay50S_data_result = gay50S_data['response']['meta']['hits']\n",
    "print(\"Gay Marriage appears\", gay50S_data_result, \"times in the period 1950-1959\")\n",
    "\n",
    "#1960\n",
    "\n",
    "gay60S_response = requests.get('https://api.nytimes.com/svc/search/v2/articlesearch.json?q=%22gay%20marriage%22&begin_date=19690101&end_date=19601231&api-key=3880684abea14d86b6280c6dbd80a793')\n",
    "gay60S_data = gay60S_response.json()\n",
    "gay60S_data_result = gay60S_data['response']['meta']['hits']\n",
    "print(\"Gay Marriage appears\", gay60S_data_result, \"times in the period 1960-1969\")\n",
    "\n",
    "#1970\n",
    "gay70S_response = requests.get('https://api.nytimes.com/svc/search/v2/articlesearch.json?q=%22gay%20marriage%22&begin_date=19780101&end_date=19701231&api-key=3880684abea14d86b6280c6dbd80a793')\n",
    "gay70S_data = gay70S_response.json()\n",
    "gay70S_data_result = gay70S_data['response']['meta']['hits']\n",
    "print(\"Gay Marriage appears\", gay70S_data_result, \"times in the period 1970-1978\")\n",
    "#1980\n",
    "gay80S_response = requests.get('https://api.nytimes.com/svc/search/v2/articlesearch.json?q=%22gay%20marriage%22&begin_date=19890101&end_date=19801231&api-key=3880684abea14d86b6280c6dbd80a793')\n",
    "gay80S_data = gay80S_response.json()\n",
    "gay80S_data_result = gay80S_data['response']['meta']['hits']\n",
    "print(\"Gay Marriage appears\", gay80S_data_result, \"times in the period 1980-1989\")\n",
    "#1990\n",
    "gay90S_response = requests.get('https://api.nytimes.com/svc/search/v2/articlesearch.json?q=%22gay%20marriage%22&begin_date=19990101&end_date=19901231&api-key=3880684abea14d86b6280c6dbd80a793')\n",
    "gay90S_data = gay90S_response.json()\n",
    "gay90S_data_result = gay90S_data['response']['meta']['hits']\n",
    "print(\"Gay Marriage appears\", gay90S_data_result, \"times in the period 1990-1999\")\n",
    "#2000\n",
    "gay00s_response = requests.get('https://api.nytimes.com/svc/search/v2/articlesearch.json?q=%22gay%20marriage%22&begin_date=20090101&end_date=20091231&api-key=3880684abea14d86b6280c6dbd80a793')\n",
    "gay00s_data = gay00s_response.json()\n",
    "gay00s_data_result = gay00s_data['response']['meta']['hits']\n",
    "print(\"Gay Marriage appears\", gay00s_data_result, \"times in the period 2000-2009\")\n",
    "# 2010\n",
    "gm_response = requests.get('https://api.nytimes.com/svc/search/v2/articlesearch.json?q=%22gay%20marriage%22&begin_date=20100101&api-key=3880684abea14d86b6280c6dbd80a793')\n",
    "gm_data = gm_response.json()\n",
    "gm_data_result = gm_data['response']['meta']['hits']\n",
    "print(\"Gay Marriage appears\", gm_data_result, \"times from the year 2010\")"
   ]
  },
  {
   "cell_type": "markdown",
   "metadata": {},
   "source": [
    "## What section talks about motorcycles the most? ## \n",
    "\n",
    "Tip: You'll be using facets\n"
   ]
  },
  {
   "cell_type": "code",
   "execution_count": 139,
   "metadata": {
    "collapsed": false
   },
   "outputs": [
    {
     "name": "stdout",
     "output_type": "stream",
     "text": [
      "This input gives all the sections and count: [{'term': 'World', 'count': 1738}, {'term': 'U.S.', 'count': 1264}, {'term': 'Sports', 'count': 1110}, {'term': 'New York and Region', 'count': 1016}, {'term': 'Arts', 'count': 920}]\n",
      "Therefore, Motorcycles appear World section the most\n"
     ]
    }
   ],
   "source": [
    "motor_response = requests.get('https://api.nytimes.com/svc/search/v2/articlesearch.json?q=motorcycle&facet_field=section_name&api-key=3880684abea14d86b6280c6dbd80a793')\n",
    "motor_data = motor_response.json()\n",
    "#motor_data_result = motor_data['response']['meta']['hits']\n",
    "#print(\"Motorcycles appear\", motor_data_result, \"times\")\n",
    "motor_info = motor_data['response']['facets']['section_name']['terms']\n",
    "print(\"This input gives all the sections and count:\", motor_info)\n",
    "#for i in motor_info:\n",
    "    #print(i)\n",
    "print(\"Therefore, Motorcycles appear\", motor_info[0]['term'], \"section the most\")"
   ]
  },
  {
   "cell_type": "markdown",
   "metadata": {},
   "source": [
    "## Critics's Picks ##\n",
    "\n",
    "How many of the last 20 movies reviewed by the NYT were Critics' Picks? How about the last 40? The last 60?\n",
    "\n",
    "Tip: You really don't want to do this 3 separate times (1-20, 21-40 and 41-60) and add them together. What if, perhaps, you were able to figure out how to combine two lists? Then you could have a 1-20 list, a 1-40 list, and a 1-60 list, and then just run similar code for each of them."
   ]
  },
  {
   "cell_type": "code",
   "execution_count": 172,
   "metadata": {
    "collapsed": false
   },
   "outputs": [
    {
     "name": "stdout",
     "output_type": "stream",
     "text": [
      "Out of last 20 movies 10 movies were critics picks\n",
      "Out of last 40 movies 14 movies were critics picks\n",
      "Out of last 60 movies 24 movies were critics picks\n"
     ]
    }
   ],
   "source": [
    "#first 20 movies\n",
    "movie_response = requests.get('https://api.nytimes.com/svc/movies/v2/reviews/search.json?&api-key=3880684abea14d86b6280c6dbd80a793')\n",
    "movie_data = movie_response.json()\n",
    "#print(movie_data)\n",
    "#print(movie_data.keys())\n",
    "count = 0\n",
    "movie_result = movie_data['results']\n",
    "for i in movie_result:\n",
    "    #print(i)\n",
    "    #print(i.keys())\n",
    "     #print(item)\n",
    "    if i['critics_pick']:\n",
    "        count = count + 1\n",
    "print(\"Out of last 20 movies\", count, \"movies were critics picks\")\n",
    "\n",
    "#first 40 movies\n",
    "movie_response = requests.get('https://api.nytimes.com/svc/movies/v2/reviews/search.json?&&offset=20&api-key=3880684abea14d86b6280c6dbd80a793')\n",
    "movie_data = movie_response.json()\n",
    "#print(movie_data)\n",
    "#print(movie_data.keys())\n",
    "count_40 = 0\n",
    "movie_result = movie_data['results']\n",
    "for i in movie_result:\n",
    "    #print(i)\n",
    "    #print(i.keys())\n",
    "     #print(item)\n",
    "    if i['critics_pick']:\n",
    "        count_40 = count_40 + 1\n",
    "#print(count_40)\n",
    "last_fourty = count + count_40\n",
    "print(\"Out of last 40 movies\", last_fourty, \"movies were critics picks\")\n",
    "\n",
    "#first 60 movies\n",
    "movie_response = requests.get('https://api.nytimes.com/svc/movies/v2/reviews/search.json?&offset=40&api-key=3880684abea14d86b6280c6dbd80a793')\n",
    "movie_data = movie_response.json()\n",
    "#print(movie_data)\n",
    "#print(movie_data.keys())\n",
    "count_60 = 0\n",
    "movie_result = movie_data['results']\n",
    "for i in movie_result:\n",
    "    #print(i)\n",
    "    #print(i.keys())\n",
    "     #print(item)\n",
    "    if i['critics_pick']:\n",
    "        count_60 = count_60 + 1\n",
    "#print(count_60)\n",
    "last_sixty = last_fourty + count_60\n",
    "print(\"Out of last 60 movies\", last_sixty, \"movies were critics picks\")"
   ]
  },
  {
   "cell_type": "markdown",
   "metadata": {},
   "source": [
    "## Critics with Highest Reviews ##\n",
    "Out of the last 40 movie reviews from the NYT, which critic has written the most reviews?\n"
   ]
  },
  {
   "cell_type": "code",
   "execution_count": 192,
   "metadata": {
    "collapsed": false
   },
   "outputs": [
    {
     "name": "stdout",
     "output_type": "stream",
     "text": [
      "[('GLENN KENNY', 3), ('JEANNETTE CATSOULIS', 2), ('STEPHEN HOLDEN', 2)] has written the most reviews in the first 20 search results\n",
      "[('STEPHEN HOLDEN', 2), ('A. O. SCOTT', 1), ('GLENN KENNY', 1)] has written the most reviews in the next 20 result\n"
     ]
    }
   ],
   "source": [
    "#first 20 movies trying\n",
    "movie_response = requests.get('https://api.nytimes.com/svc/movies/v2/reviews/search.json?&api-key=3880684abea14d86b6280c6dbd80a793')\n",
    "movie_data = movie_response.json()\n",
    "count = 0\n",
    "byline =[]\n",
    "movie_result = movie_data['results']\n",
    "for i in movie_result:\n",
    "    #print(i)\n",
    "    #print(i.keys())\n",
    "     #print(item)\n",
    "    if i['critics_pick']:\n",
    "        count = count + 1\n",
    "        byline.append(i['byline'])\n",
    "#print(byline)\n",
    "from collections import Counter\n",
    "count = Counter(byline)\n",
    "most_count = count.most_common(3)\n",
    "print(most_count, \"has written the most reviews in the first 20 search results\")\n",
    "        \n",
    "#first 20 movies trying\n",
    "movie40_response = requests.get('https://api.nytimes.com/svc/movies/v2/reviews/search.json?&offset=20&api-key=3880684abea14d86b6280c6dbd80a793')\n",
    "movie40_data = movie40_response.json()\n",
    "count40 = 0\n",
    "byline40 =[]\n",
    "movie40_result = movie40_data['results']\n",
    "for i in movie40_result:\n",
    "    #print(i)\n",
    "    #print(i.keys())\n",
    "     #print(item)\n",
    "    if i['critics_pick']:\n",
    "        count40 = count40 + 1\n",
    "        byline40.append(i['byline'])\n",
    "#print(byline)\n",
    "from collections import Counter\n",
    "count40 = Counter(byline40)\n",
    "most_count40 = count40.most_common(3)\n",
    "print(most_count40, \"has written the most reviews in the next 20 result\")"
   ]
  },
  {
   "cell_type": "code",
   "execution_count": null,
   "metadata": {
    "collapsed": true
   },
   "outputs": [],
   "source": []
  }
 ],
 "metadata": {
  "kernelspec": {
   "display_name": "Python 3",
   "language": "python",
   "name": "python3"
  },
  "language_info": {
   "codemirror_mode": {
    "name": "ipython",
    "version": 3
   },
   "file_extension": ".py",
   "mimetype": "text/x-python",
   "name": "python",
   "nbconvert_exporter": "python",
   "pygments_lexer": "ipython3",
   "version": "3.5.1"
  }
 },
 "nbformat": 4,
 "nbformat_minor": 0
}
