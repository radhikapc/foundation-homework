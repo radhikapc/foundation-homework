{
 "cells": [
  {
   "cell_type": "markdown",
   "metadata": {},
   "source": [
    "### Grade: 6 / 8 -- check for TA-COMMENTS"
   ]
  },
  {
   "cell_type": "code",
   "execution_count": 1,
   "metadata": {
    "collapsed": true
   },
   "outputs": [],
   "source": [
    "import requests\n"
   ]
  },
  {
   "cell_type": "code",
   "execution_count": 2,
   "metadata": {
    "collapsed": false
   },
   "outputs": [],
   "source": [
    "Lil_response = requests.get('https://api.spotify.com/v1/search?query=Lil&type=artist&limit=50&country=US')\n",
    "Lil_data = Lil_response.json()\n",
    "#Lil_data\n"
   ]
  },
  {
   "cell_type": "code",
   "execution_count": 3,
   "metadata": {
    "collapsed": false
   },
   "outputs": [
    {
     "data": {
      "text/plain": [
       "dict_keys(['artists'])"
      ]
     },
     "execution_count": 3,
     "metadata": {},
     "output_type": "execute_result"
    }
   ],
   "source": [
    "Lil_data.keys()"
   ]
  },
  {
   "cell_type": "code",
   "execution_count": 4,
   "metadata": {
    "collapsed": false
   },
   "outputs": [
    {
     "data": {
      "text/plain": [
       "dict_keys(['href', 'total', 'items', 'offset', 'limit', 'next', 'previous'])"
      ]
     },
     "execution_count": 4,
     "metadata": {},
     "output_type": "execute_result"
    }
   ],
   "source": [
    "Lil_data['artists'].keys()"
   ]
  },
  {
   "cell_type": "code",
   "execution_count": 5,
   "metadata": {
    "collapsed": true
   },
   "outputs": [],
   "source": [
    "Lil_artists = Lil_data['artists']['items']"
   ]
  },
  {
   "cell_type": "markdown",
   "metadata": {},
   "source": [
    "## 1.Searching and Printing a List of 50 'Lil' Musicians\n",
    "\n",
    "With \"Lil Wayne\" and \"Lil Kim\" there are a lot of \"Lil\" musicians. Do a search and print a list of 50 that are playable in the USA (or the country of your choice), along with their popularity score."
   ]
  },
  {
   "cell_type": "code",
   "execution_count": 6,
   "metadata": {
    "collapsed": false
   },
   "outputs": [
    {
     "name": "stdout",
     "output_type": "stream",
     "text": [
      "1 . Lil Wayne has the popularity of 86\n",
      "2 . Lil Yachty has the popularity of 72\n",
      "3 . Lil Uzi Vert has the popularity of 73\n",
      "4 . Lil Dicky has the popularity of 68\n",
      "5 . Boosie Badazz has the popularity of 67\n",
      "6 . Lil Jon has the popularity of 72\n",
      "7 . King Lil G has the popularity of 61\n",
      "8 . Lil Durk has the popularity of 60\n",
      "9 . Lil Jon & The East Side Boyz has the popularity of 60\n",
      "10 . Lil Bibby has the popularity of 54\n",
      "11 . G Herbo has the popularity of 53\n",
      "12 . Lil Rob has the popularity of 50\n",
      "13 . Lil Reese has the popularity of 50\n",
      "14 . Lil Keke has the popularity of 48\n",
      "15 . Bow Wow has the popularity of 57\n",
      "16 . Lil Scrappy has the popularity of 48\n",
      "17 . Lil Wyte has the popularity of 50\n",
      "18 . Lil Blood has the popularity of 45\n",
      "19 . Lil Snupe has the popularity of 45\n",
      "20 . Lil Mama has the popularity of 45\n",
      "21 . Lil B has the popularity of 44\n",
      "22 . Lil' Kim has the popularity of 62\n",
      "23 . Lil Cuete has the popularity of 40\n",
      "24 . Lil Phat has the popularity of 39\n",
      "25 . Lil Debbie has the popularity of 43\n",
      "26 . Lil Twist has the popularity of 39\n",
      "27 . Lil Trill has the popularity of 37\n",
      "28 . Lil Boom has the popularity of 39\n",
      "29 . Lil Twon has the popularity of 37\n",
      "30 . Lil AJ has the popularity of 37\n",
      "31 . Lil Lonnie has the popularity of 37\n",
      "32 . Lil Goofy has the popularity of 35\n",
      "33 . Lil Haiti has the popularity of 36\n",
      "34 . Mr. Lil One has the popularity of 36\n",
      "35 . Lil Cray has the popularity of 35\n",
      "36 . Lil Flash has the popularity of 38\n",
      "37 . Lil Silva has the popularity of 43\n",
      "38 . Lil Kesh has the popularity of 39\n",
      "39 . Lil Rue has the popularity of 34\n",
      "40 . Lil Yase has the popularity of 34\n",
      "41 . Lil Eddie has the popularity of 41\n",
      "42 . Lil Wayne, DJ Drama has the popularity of 35\n",
      "43 . Lil Suzy has the popularity of 34\n",
      "44 . Lil Mouse has the popularity of 34\n",
      "45 . Lil C has the popularity of 33\n",
      "46 . Lil Rick has the popularity of 39\n",
      "47 . Lil June has the popularity of 32\n",
      "48 . Lil E has the popularity of 34\n",
      "49 . Lil Fate has the popularity of 34\n",
      "50 . Lil' Flip has the popularity of 49\n"
     ]
    }
   ],
   "source": [
    "#With \"Lil Wayne\" and \"Lil Kim\" there are a lot of \"Lil\" musicians. Do a search and print a list of 50 \n",
    "#that are playable in the USA (or the country of your choice), along with their popularity score.\n",
    "\n",
    "count =0\n",
    "for artist in Lil_artists:\n",
    "    count += 1\n",
    "    print(count,\".\", artist['name'],\"has the popularity of\", artist['popularity'])"
   ]
  },
  {
   "cell_type": "markdown",
   "metadata": {},
   "source": [
    "## 2 Genres Most Represented in the Search Results\n",
    "\n",
    "What genres are most represented in the search results? Edit your previous printout to also display a list of their genres in the format \"GENRE_1, GENRE_2, GENRE_3\". If there are no genres, print \"No genres listed\"."
   ]
  },
  {
   "cell_type": "code",
   "execution_count": 79,
   "metadata": {
    "collapsed": false
   },
   "outputs": [
    {
     "name": "stdout",
     "output_type": "stream",
     "text": [
      "The genre most represented is ['dirty south rap']\n",
      "The genre most represented and the count are [('dirty south rap', 4)]\n",
      "-----------------------------------------------------\n",
      "Lil Wayne has the popularity of 86 , and has dirty south rap,pop rap,southern hip hop,trap music under genres\n",
      "Lil Yachty has the popularity of 72 , and has no genres listed under genres\n",
      "Lil Uzi Vert has the popularity of 72 , and has no genres listed under genres\n",
      "Lil Dicky has the popularity of 68 , and has no genres listed under genres\n",
      "Boosie Badazz has the popularity of 67 , and has no genres listed under genres\n",
      "Lil Jon has the popularity of 72 , and has crunk,dirty south rap,southern hip hop under genres\n",
      "King Lil G has the popularity of 61 , and has no genres listed under genres\n",
      "Lil Durk has the popularity of 60 , and has no genres listed under genres\n",
      "Lil Jon & The East Side Boyz has the popularity of 60 , and has no genres listed under genres\n",
      "Lil Bibby has the popularity of 54 , and has no genres listed under genres\n",
      "G Herbo has the popularity of 53 , and has no genres listed under genres\n",
      "Lil Rob has the popularity of 50 , and has chicano rap,latin hip hop under genres\n",
      "Lil Reese has the popularity of 50 , and has no genres listed under genres\n",
      "Lil Keke has the popularity of 48 , and has no genres listed under genres\n",
      "Bow Wow has the popularity of 57 , and has hip pop,pop rap under genres\n",
      "Lil Scrappy has the popularity of 48 , and has crunk,dirty south rap,southern hip hop,trap music under genres\n",
      "Lil Wyte has the popularity of 50 , and has juggalo under genres\n",
      "Lil Blood has the popularity of 45 , and has no genres listed under genres\n",
      "Lil Snupe has the popularity of 45 , and has no genres listed under genres\n",
      "Lil Mama has the popularity of 45 , and has hip pop under genres\n",
      "Lil B has the popularity of 44 , and has no genres listed under genres\n",
      "Lil' Kim has the popularity of 62 , and has hip pop under genres\n",
      "Lil Cuete has the popularity of 40 , and has chicano rap under genres\n",
      "Lil Phat has the popularity of 39 , and has no genres listed under genres\n",
      "Lil Debbie has the popularity of 43 , and has no genres listed under genres\n",
      "Lil Twist has the popularity of 39 , and has jerk under genres\n",
      "Lil Trill has the popularity of 37 , and has deep trap under genres\n",
      "Lil Twon has the popularity of 38 , and has no genres listed under genres\n",
      "Lil AJ has the popularity of 37 , and has no genres listed under genres\n",
      "Lil Lonnie has the popularity of 37 , and has no genres listed under genres\n",
      "Lil Boom has the popularity of 35 , and has no genres listed under genres\n",
      "Lil Goofy has the popularity of 35 , and has no genres listed under genres\n",
      "Mr. Lil One has the popularity of 36 , and has chicano rap under genres\n",
      "Lil Haiti has the popularity of 36 , and has no genres listed under genres\n",
      "Lil Flash has the popularity of 38 , and has no genres listed under genres\n",
      "Lil Kesh has the popularity of 39 , and has no genres listed under genres\n",
      "Lil Cray has the popularity of 35 , and has no genres listed under genres\n",
      "Lil Silva has the popularity of 43 , and has no genres listed under genres\n",
      "Lil Rue has the popularity of 34 , and has no genres listed under genres\n",
      "Lil Eddie has the popularity of 41 , and has no genres listed under genres\n",
      "Lil Yase has the popularity of 33 , and has no genres listed under genres\n",
      "Lil Wayne, DJ Drama has the popularity of 35 , and has no genres listed under genres\n",
      "Lil Suzy has the popularity of 34 , and has freestyle under genres\n",
      "Lil Mouse has the popularity of 34 , and has no genres listed under genres\n",
      "Lil C has the popularity of 33 , and has no genres listed under genres\n",
      "Lil Rick has the popularity of 39 , and has soca under genres\n",
      "Lil June has the popularity of 32 , and has no genres listed under genres\n",
      "Lil E has the popularity of 34 , and has no genres listed under genres\n",
      "Lil Fate has the popularity of 34 , and has no genres listed under genres\n",
      "Lil' Flip has the popularity of 49 , and has crunk,dirty south rap under genres\n"
     ]
    }
   ],
   "source": [
    "# What genres are most represented in the search results? Edit your previous printout to also display a list of their genres \n",
    "#in the format \"GENRE_1, GENRE_2, GENRE_3\". If there are no genres, print \"No genres listed\".\n",
    "#Tip: \"how to join a list Python\" might be a helpful search\n",
    "# if len(artist['genres']) == 0 )\n",
    "# print (\"no genres\")\n",
    "# else:\n",
    "#     genres = \", \".join(artist['genres'])\n",
    "\n",
    "genre_list = []\n",
    "genre_loop = Lil_data['artists']['items']\n",
    "\n",
    "for item in genre_loop:\n",
    "    #print(item['genres'])\n",
    "    item_gen = item['genres']\n",
    "    for i in item_gen:\n",
    "        genre_list.append(i)\n",
    "#print(sorted(genre_list))\n",
    "\n",
    "#COUNTING the most \n",
    "\n",
    "genre_counter = {}\n",
    "for word in genre_list:\n",
    "    if word in genre_counter:\n",
    "        genre_counter[word] += 1\n",
    "    else:\n",
    "        genre_counter[word] = 1\n",
    "popular_genre = sorted(genre_counter, key = genre_counter.get, reverse = True)\n",
    "top_genre = popular_genre[:1]\n",
    "print(\"The genre most represented is\", top_genre)\n",
    "\n",
    "#COUNTING the most with count to confirm\n",
    "\n",
    "from collections import Counter\n",
    "count = Counter(genre_list)\n",
    "most_count = count.most_common(1)\n",
    "print(\"The genre most represented and the count are\", most_count)\n",
    "\n",
    "\n",
    "print(\"-----------------------------------------------------\")\n",
    "    \n",
    "\n",
    "\n",
    "for artist in Lil_artists:\n",
    "    num_genres = 'no genres listed'\n",
    "    if len(artist['genres']) > 0:\n",
    "        num_genres= str.join(',', (artist['genres']))\n",
    "    print(artist['name'],\"has the popularity of\", artist['popularity'], \", and has\", num_genres, \"under genres\")"
   ]
  },
  {
   "cell_type": "markdown",
   "metadata": {},
   "source": [
    "## More Spotify - LIL' GRAPHICS ##\n",
    "\n",
    "Use Excel, Illustrator or something like https://infogr.am/ to make a graphic about the Lil's, or the Lil's vs. the Biggies. \n",
    "Just a simple bar graph of their various popularities sounds good to me.\n",
    "Link to the Line Graph of Lil's Popularity chart\n",
    "\n",
    "[Lil Popularity Graph](https://infogr.am/b4473739-b764-4a24-896f-c7878796d826)\n"
   ]
  },
  {
   "cell_type": "code",
   "execution_count": 7,
   "metadata": {
    "collapsed": false
   },
   "outputs": [],
   "source": [
    "Lil_response = requests.get('https://api.spotify.com/v1/search?query=Lil&type=artist&limit=50&country=US')\n",
    "Lil_data = Lil_response.json()\n",
    "#Lil_data"
   ]
  },
  {
   "cell_type": "markdown",
   "metadata": {},
   "source": [
    "## The Second Highest Popular Artist\n",
    "\n",
    "Use a for loop to determine who BESIDES Lil Wayne has the highest popularity rating. Is it the same artist who has the largest number of followers?"
   ]
  },
  {
   "cell_type": "code",
   "execution_count": 9,
   "metadata": {
    "collapsed": false
   },
   "outputs": [
    {
     "name": "stdout",
     "output_type": "stream",
     "text": [
      "Lil Yachty has the second highest popularity, which is 72\n",
      "Lil Wayne has the highest number of followers: 2623705\n"
     ]
    }
   ],
   "source": [
    "#Use a for loop to determine who BESIDES Lil Wayne has the highest popularity rating. \n",
    "#Is it the same artist who has the largest number of followers?\n",
    "name_highest = \"\"\n",
    "name_follow =\"\"\n",
    "second_high_pop = 0\n",
    "highest_pop = 0\n",
    "high_follow = 0\n",
    "for artist in Lil_artists:\n",
    "    if (highest_pop < artist['popularity']) & (artist['name'] != \"Lil Wayne\"):\n",
    "        #second_high_pop = highest_pop\n",
    "        #name_second = artist['name']\n",
    "        highest_pop = artist['popularity']\n",
    "        name_highest = artist['name']\n",
    "\n",
    "    if (high_follow < artist['followers']['total']):\n",
    "        high_follow = artist ['followers']['total']\n",
    "        name_follow = artist['name']\n",
    "    \n",
    "    #print(artist['followers']['total'])\n",
    "\n",
    "print(name_highest, \"has the second highest popularity, which is\", highest_pop)\n",
    "print(name_follow, \"has the highest number of followers:\", high_follow)\n",
    "#print(\"the second highest popularity is\", second_high_pop)"
   ]
  },
  {
   "cell_type": "code",
   "execution_count": 8,
   "metadata": {
    "collapsed": false
   },
   "outputs": [],
   "source": [
    "Lil_response = requests.get('https://api.spotify.com/v1/search?query=Lil&type=artist&limit=50&country=US')\n",
    "Lil_data = Lil_response.json()\n",
    "#Lil_data"
   ]
  },
  {
   "cell_type": "markdown",
   "metadata": {},
   "source": [
    "## 4. List of Lil's Popular Than Lil' Kim"
   ]
  },
  {
   "cell_type": "code",
   "execution_count": 9,
   "metadata": {
    "collapsed": false
   },
   "outputs": [
    {
     "name": "stdout",
     "output_type": "stream",
     "text": [
      "1 Lil Wayne has the popularity of 86\n",
      "2 Lil Yachty has the popularity of 72\n",
      "3 Lil Uzi Vert has the popularity of 73\n",
      "4 Lil Dicky has the popularity of 68\n",
      "5 Boosie Badazz has the popularity of 67\n",
      "6 Lil Jon has the popularity of 72\n"
     ]
    }
   ],
   "source": [
    "\n",
    "Lil_artists = Lil_data['artists']['items']\n",
    "#Print a list of Lil's that are more popular than Lil' Kim.\n",
    "count = 0\n",
    "for artist in Lil_artists:\n",
    "    if artist['popularity'] > 62:\n",
    "        count+=1\n",
    "        print(count, artist['name'],\"has the popularity of\", artist['popularity'])\n",
    "        \n",
    "    #else:\n",
    "        #print(artist['name'], \"is less popular with a score of\", artist['popularity'])\n",
    "    "
   ]
  },
  {
   "cell_type": "markdown",
   "metadata": {},
   "source": [
    "## 5.Two Favorite Lils and Their Top Tracks"
   ]
  },
  {
   "cell_type": "code",
   "execution_count": 17,
   "metadata": {
    "collapsed": false
   },
   "outputs": [
    {
     "name": "stdout",
     "output_type": "stream",
     "text": [
      "Lil Wayne id is 55Aa2cqylxrFIXC767Z865\n",
      "Lil Yachty id is 6icQOAFXDZKsumw3YXyusw\n"
     ]
    }
   ],
   "source": [
    "response = requests.get(\"https://api.spotify.com/v1/search?query=Lil&type=artist&limit=2&country=US\")\n",
    "data = response.json()\n",
    "for artist in Lil_artists:\n",
    "    #print(artist['name'],artist['id'])\n",
    "    if artist['name'] == \"Lil Wayne\":\n",
    "        wayne = artist['id']\n",
    "        print(artist['name'], \"id is\",wayne) \n",
    "        \n",
    "    if artist['name'] == \"Lil Yachty\":\n",
    "        yachty = artist['id']\n",
    "        print(artist['name'], \"id is\", yachty)  "
   ]
  },
  {
   "cell_type": "code",
   "execution_count": 18,
   "metadata": {
    "collapsed": false
   },
   "outputs": [
    {
     "name": "stdout",
     "output_type": "stream",
     "text": [
      "Lil Wayne's top tracks are: \n",
      "- Forever\n",
      "- Nothing But Trouble - Instagram Models\n",
      "- 6 Foot 7 Foot\n",
      "- A Milli\n",
      "- Right Above It\n",
      "- Lollipop\n",
      "- Love Me\n",
      "- Rich As Fuck\n",
      "- Mirror\n",
      "- Believe Me\n",
      "-----------------------------------------------\n",
      "Lil Yachty 's top tracks are: \n",
      "- One Night (Extended)\n",
      "- Minnesota (Remix) [feat. Quavo, Skippa da Flippa & Young Thug]\n",
      "- Wanna Be Us (feat. Burberry Perry)\n",
      "- Intro (Just Keep Swimming)\n",
      "- Up Next 2 (feat. Big Brutha Chubba & Byou)\n",
      "- Good Day (feat. Skippa da Flippa)\n",
      "- Not My Bro\n",
      "- Fucked Over\n",
      "- Out Late\n",
      "- Interlude\n"
     ]
    }
   ],
   "source": [
    "#Pick two of your favorite Lils to fight it out, and use their IDs to print out their top tracks.\n",
    "#Tip: You're going to be making two separate requests, be sure you DO NOT save them into the same variable.\n",
    "response = requests.get(\"https://api.spotify.com/v1/artists/\" +wayne+ \"/top-tracks?country=US\")\n",
    "data = response.json()\n",
    "tracks = data['tracks']\n",
    "print(\"Lil Wayne's top tracks are: \")\n",
    "for track in tracks:\n",
    "    print(\"-\", track['name'])\n",
    "print(\"-----------------------------------------------\")\n",
    "\n",
    "response = requests.get(\"https://api.spotify.com/v1/artists/\" +yachty+ \"/top-tracks?country=US\")\n",
    "data = response.json()\n",
    "tracks = data['tracks']\n",
    "print(\"Lil Yachty 's top tracks are: \")\n",
    "for track in tracks:\n",
    "    print(\"-\", track['name'])\n"
   ]
  },
  {
   "cell_type": "markdown",
   "metadata": {},
   "source": [
    "## 6. Average Popularity of My Fav Musicians (Above) for Their explicit songs vs. their non-explicit songs\n",
    "Will the world explode if a musicians swears? Get an average popularity for their explicit songs vs. their non-explicit songs. How many minutes of explicit songs do they have? Non-explicit?"
   ]
  },
  {
   "cell_type": "code",
   "execution_count": 28,
   "metadata": {
    "collapsed": false
   },
   "outputs": [],
   "source": [
    "response = requests.get(\"https://api.spotify.com/v1/artists/\" +yachty+ \"/top-tracks?country=US\")\n",
    "data = response.json()\n",
    "tracks = data['tracks']\n",
    "#print(tracks)"
   ]
  },
  {
   "cell_type": "code",
   "execution_count": 29,
   "metadata": {
    "collapsed": false
   },
   "outputs": [],
   "source": [
    "#for track in tracks:\n",
    "    #print(track.keys())"
   ]
  },
  {
   "cell_type": "code",
   "execution_count": 27,
   "metadata": {
    "collapsed": false,
    "scrolled": true
   },
   "outputs": [
    {
     "name": "stdout",
     "output_type": "stream",
     "text": [
      "The track, One Night (Extended) , with the id 0l4EfZzVD0LyJhibHIIVxo is True for explicit content, and has the popularity of 77\n",
      "and has the duration of 243269 milli seconds.\n",
      "The track, Minnesota (Remix) [feat. Quavo, Skippa da Flippa & Young Thug] , with the id 7dTJQN1w1M79haPESIZ3zr is True for explicit content, and has the popularity of 68\n",
      "and has the duration of 268114 milli seconds.\n",
      "The track, Wanna Be Us (feat. Burberry Perry) , with the id 5xi6EyeIvVr6cCg44OZeEl is True for explicit content, and has the popularity of 63\n",
      "and has the duration of 171899 milli seconds.\n",
      "The track, Intro (Just Keep Swimming) , with the id 0cBD9mCJ3gFVNJdW2orLhz is True for explicit content, and has the popularity of 59\n",
      "and has the duration of 252369 milli seconds.\n",
      "The track, Up Next 2 (feat. Big Brutha Chubba & Byou) , with the id 2aJnTtI2KlV7Owx7tA63s8 is True for explicit content, and has the popularity of 57\n",
      "and has the duration of 178046 milli seconds.\n",
      "The track, Good Day (feat. Skippa da Flippa) , with the id 2e3oiurGwx1ueG0e18dGW6 is True for explicit content, and has the popularity of 56\n",
      "and has the duration of 198092 milli seconds.\n",
      "The track, Not My Bro , with the id 6K80Xw3GOaKguaHM0bQAzx is True for explicit content, and has the popularity of 56\n",
      "and has the duration of 143598 milli seconds.\n",
      "The track, Fucked Over , with the id 6U5OUBzrgftbUx1kVM4fH8 is True for explicit content, and has the popularity of 55\n",
      "and has the duration of 175262 milli seconds.\n",
      "The track, Out Late , with the id 3HIr5rowFdybrJxukOXlS5 is True for explicit content, and has the popularity of 55\n",
      "and has the duration of 160037 milli seconds.\n",
      "The track, Interlude , with the id 27dNwrgG4GoJrhloMrJMJJ is True for explicit content, and has the popularity of 54\n",
      "and has the duration of 78915 milli seconds.\n",
      "------------------------------------\n",
      "I have found 10 tracks, and has the average popularity of 60.0 and has the average duration of 31.160016666666667 minutes and 0 are clean\n"
     ]
    }
   ],
   "source": [
    "#Get an average popularity for their explicit songs vs. their non-explicit songs. \n",
    "#How many minutes of explicit songs do they have? Non-explicit?\n",
    "# How explicit is Lils?\n",
    "\n",
    "response = requests.get(\"https://api.spotify.com/v1/artists/\" +yachty+ \"/top-tracks?country=US\")\n",
    "data = response.json()\n",
    "tracks = data['tracks']\n",
    "# counter for tracks for explicit and clean\n",
    "track_count = 0 \n",
    "clean_count = 0\n",
    "#counter to find avg popularity\n",
    "popular_exp = 0\n",
    "popular_clean = 0\n",
    "#counter for avg time in minutes are below:\n",
    "timer = 0\n",
    "data_timer = 0\n",
    "timer_clean = 0\n",
    "\n",
    "for track in tracks:\n",
    "    print(\"The track,\", track['name'],\", with the id\",track['id'], \"is\", track['explicit'],\"for explicit content, and has the popularity of\", track['popularity'])\n",
    "    track_id = track['id']\n",
    "    time_ms = track['duration_ms']\n",
    "    \n",
    "    # TA-COMMENT: (-1) If what is true? \"if True\" will always evaluate to True.... \n",
    "    if True:\n",
    "        track_count = track_count + 1\n",
    "        popular_exp = popular_exp + track['popularity'] # TA-COMMENT: What is this supposed to capture? \n",
    "        # It HAPPENS to be the case that all the tracks are explicit, but if that were not true, would this be correct?\n",
    "        \n",
    "        response = requests.get(\"https://api.spotify.com/v1/tracks/\" + track_id)\n",
    "        data_track = response.json()\n",
    "        print(\"and has the duration of\", data_track['duration_ms'], \"milli seconds.\")\n",
    "        timer = timer + time_ms\n",
    "        timer_minutes = ((timer / (1000*60)) % 60)\n",
    "    if not track['explicit']:\n",
    "        clean_count = clean_count + 1\n",
    "        popular_clean = popular_clean + track['popularity']\n",
    "        response = requests.get(\"https://api.spotify.com/v1/tracks/\" + track_id)\n",
    "        data_tracks = response.json()\n",
    "        timer_clean = timer_clean + time_ms\n",
    "        timer_minutes_clean = ((data_timer / (1000*60)) % 60)\n",
    "        print(\", and has the duration of\", timer_minutes_clean, \"minutes\")\n",
    "        \n",
    "print(\"------------------------------------\")\n",
    "avg_pop =  popular_exp / track_count\n",
    "print(\"I have found\", track_count, \"tracks, and has the average popularity of\", avg_pop, \"and has the average duration of\", timer_minutes,\"minutes and\", clean_count, \"are clean\")\n",
    "\n",
    "#print(\"Overall, I discovered\", track_count, \"tracks\")\n",
    "#print(\"And\", clean_count, \"were non-explicit\")\n",
    "#print(\"Which means\", , \" percent were clean for Lil Wayne\")"
   ]
  },
  {
   "cell_type": "code",
   "execution_count": 1,
   "metadata": {
    "collapsed": false
   },
   "outputs": [
    {
     "name": "stdout",
     "output_type": "stream",
     "text": [
      "hello\n"
     ]
    }
   ],
   "source": [
    "# TA-COMMENT: example of what happens if you do just \"if True\" as in the code above. \n",
    "if True: \n",
    "    print(\"hello\")"
   ]
  },
  {
   "cell_type": "code",
   "execution_count": 30,
   "metadata": {
    "collapsed": false
   },
   "outputs": [
    {
     "name": "stdout",
     "output_type": "stream",
     "text": [
      "The track, One Night (Extended) , with the id 0l4EfZzVD0LyJhibHIIVxo is True for explicit content, and has the popularity of 77\n",
      "and has the duration of 243269 milli seconds.\n",
      "The track, Minnesota (Remix) [feat. Quavo, Skippa da Flippa & Young Thug] , with the id 7dTJQN1w1M79haPESIZ3zr is True for explicit content, and has the popularity of 68\n",
      "and has the duration of 268114 milli seconds.\n",
      "The track, Wanna Be Us (feat. Burberry Perry) , with the id 5xi6EyeIvVr6cCg44OZeEl is True for explicit content, and has the popularity of 63\n",
      "and has the duration of 171899 milli seconds.\n",
      "The track, Intro (Just Keep Swimming) , with the id 0cBD9mCJ3gFVNJdW2orLhz is True for explicit content, and has the popularity of 59\n",
      "and has the duration of 252369 milli seconds.\n",
      "The track, Up Next 2 (feat. Big Brutha Chubba & Byou) , with the id 2aJnTtI2KlV7Owx7tA63s8 is True for explicit content, and has the popularity of 57\n",
      "and has the duration of 178046 milli seconds.\n",
      "The track, Good Day (feat. Skippa da Flippa) , with the id 2e3oiurGwx1ueG0e18dGW6 is True for explicit content, and has the popularity of 56\n",
      "and has the duration of 198092 milli seconds.\n",
      "The track, Not My Bro , with the id 6K80Xw3GOaKguaHM0bQAzx is True for explicit content, and has the popularity of 56\n",
      "and has the duration of 143598 milli seconds.\n",
      "The track, Fucked Over , with the id 6U5OUBzrgftbUx1kVM4fH8 is True for explicit content, and has the popularity of 55\n",
      "and has the duration of 175262 milli seconds.\n",
      "The track, Out Late , with the id 3HIr5rowFdybrJxukOXlS5 is True for explicit content, and has the popularity of 55\n",
      "and has the duration of 160037 milli seconds.\n",
      "The track, Interlude , with the id 27dNwrgG4GoJrhloMrJMJJ is True for explicit content, and has the popularity of 54\n",
      "and has the duration of 78915 milli seconds.\n",
      "------------------------------------\n",
      "I have found 10 tracks, and has the average popularity of 60.0 and has the average duration of 31.160016666666667 minutes and 0 are clean\n"
     ]
    }
   ],
   "source": [
    "# TA-COMMENT: Same commends apply here. \n",
    "#Get an average popularity for their explicit songs vs. their non-explicit songs. \n",
    "#How many minutes of explicit songs do they have? Non-explicit?\n",
    "# How explicit is Lils?\n",
    "\n",
    "response = requests.get(\"https://api.spotify.com/v1/artists/\" +wayne+ \"/top-tracks?country=US\")\n",
    "data = response.json()\n",
    "# counter for tracks for explicit and clean\n",
    "track_count = 0 \n",
    "clean_count = 0\n",
    "#counter to find avg popularity\n",
    "popular_exp = 0\n",
    "popular_clean = 0\n",
    "#counter for avg time in minutes are below:\n",
    "timer = 0\n",
    "#data_timer = 0\n",
    "timer_clean = 0\n",
    "\n",
    "for track in tracks:\n",
    "    print(\"The track,\", track['name'],\", with the id\",track['id'], \"is\", track['explicit'],\"for explicit content, and has the popularity of\", track['popularity'])\n",
    "    track_id = track['id']\n",
    "    time_ms = data_track['duration_ms']\n",
    "    if True:\n",
    "        track_count = track_count + 1\n",
    "        popular_exp = popular_exp + track['popularity']\n",
    "        response = requests.get(\"https://api.spotify.com/v1/tracks/\" + track_id)\n",
    "        data_track = response.json()\n",
    "        print(\"and has the duration of\", data_track['duration_ms'], \"milli seconds.\")\n",
    "        timer = timer + time_ms\n",
    "        timer_minutes = ((timer / (1000*60)) % 60)\n",
    "    if not track['explicit']:\n",
    "        clean_count = clean_count + 1\n",
    "        popular_clean = popular_clean + track['popularity']\n",
    "        response = requests.get(\"https://api.spotify.com/v1/tracks/\" + track_id)\n",
    "        data_tracks = response.json()\n",
    "        timer_clean = timer_clean + time_ms\n",
    "        timer_minutes_clean = ((data_timer / (1000*60)) % 60)\n",
    "        print(\", and has the duration of\", timer_minutes_clean, \"minutes\")\n",
    "        \n",
    "print(\"------------------------------------\")\n",
    "avg_pop =  popular_exp / track_count\n",
    "print(\"I have found\", track_count, \"tracks, and has the average popularity of\", avg_pop, \"and has the average duration of\", timer_minutes,\"minutes and\", clean_count, \"are clean\")\n",
    "\n",
    "#print(\"Overall, I discovered\", track_count, \"tracks\")\n",
    "#print(\"And\", clean_count, \"were non-explicit\")\n",
    "#print(\"Which means\", , \" percent were clean for Lil Wayne\")"
   ]
  },
  {
   "cell_type": "markdown",
   "metadata": {},
   "source": [
    "## 7a.  Number of Biggies and Lils\n",
    "\n",
    "Since we're talking about Lils, what about Biggies? How many total \"Biggie\" artists are there? How many total \"Lil\"s? If you made 1 request every 5 seconds, how long would it take to download information on all the Lils vs the Biggies?"
   ]
  },
  {
   "cell_type": "code",
   "execution_count": 31,
   "metadata": {
    "collapsed": false
   },
   "outputs": [
    {
     "name": "stdout",
     "output_type": "stream",
     "text": [
      "Total number of Biggie artists are 50\n",
      "Total number of Lil artists are 4510\n"
     ]
    }
   ],
   "source": [
    "#How many total \"Biggie\" artists are there? How many total \"Lil\"s? \n",
    "#If you made 1 request every 5 seconds, how long would it take to download information on all the Lils vs the Biggies?\n",
    "\n",
    "biggie_response = requests.get('https://api.spotify.com/v1/search?query=biggie&type=artist&country=US')\n",
    "biggie_data = biggie_response.json()\n",
    "biggie_artists = biggie_data['artists']['total']\n",
    "print(\"Total number of Biggie artists are\", biggie_artists)\n",
    "\n",
    "lil_response = requests.get('https://api.spotify.com/v1/search?query=Lil&type=artist&country=US')\n",
    "lil_data = lil_response.json()\n",
    "lil_artists = lil_data['artists']['total']\n",
    "print(\"Total number of Lil artists are\", lil_artists)"
   ]
  },
  {
   "cell_type": "markdown",
   "metadata": {},
   "source": [
    "## 7b. Time to Download All Information on Lil and Biggies"
   ]
  },
  {
   "cell_type": "code",
   "execution_count": 22,
   "metadata": {
    "collapsed": false
   },
   "outputs": [
    {
     "name": "stdout",
     "output_type": "stream",
     "text": [
      "It would take 5.0 seconds for Biggies, where as it would take 451.0 seconds for Lils\n"
     ]
    }
   ],
   "source": [
    "#If you made 1 request every 5 seconds, how long would it take to download information on all the Lils vs the Biggies?\n",
    "\n",
    "limit_download = 50\n",
    "biggie_artists = biggie_data['artists']['total']\n",
    "Lil_artist = Lil_data['artists']['total']\n",
    "\n",
    "#1n 5 sec = 50\n",
    "#in 1 sec = 50 / 5 req = 10 no, for 1 no, 1/10 sec\n",
    "# for 4501 = 4501/10 sec\n",
    "# for 49 49/ 10 sec\n",
    "\n",
    "big_count = biggie_artists/10\n",
    "lil_count = Lil_artist / 10\n",
    "\n",
    "print(\"It would take\", big_count, \"seconds for Biggies, where as it would take\", lil_count,\"seconds for Lils\" )\n",
    "\n",
    "# TA-COMMENT: (-1) If one request takes 5 seconds, then 50 requests would take (50 * 5) seconds \n",
    "# (one request for each 'Biggie')\n",
    "# So, 4510 Lil artists would take 4510 * 5 seconds\n"
   ]
  },
  {
   "cell_type": "markdown",
   "metadata": {},
   "source": [
    "## 8. Highest Average Popular Lils and Biggies Out of The Top 50"
   ]
  },
  {
   "cell_type": "code",
   "execution_count": 19,
   "metadata": {
    "collapsed": false
   },
   "outputs": [
    {
     "name": "stdout",
     "output_type": "stream",
     "text": [
      "Biggie has a total popularity of  193\n",
      "Biggie is on an average 3.938775510204082 popular\n",
      "Lil is on an average 46.16 popular\n"
     ]
    }
   ],
   "source": [
    "#Out of the top 50 \"Lil\"s and the top 50 \"Biggie\"s, who is more popular on average?\n",
    "\n",
    "biggie_response = requests.get('https://api.spotify.com/v1/search?query=biggie&type=artist&limit=50&country=US')\n",
    "biggie_data = biggie_response.json()\n",
    "\n",
    "biggie_artists = biggie_data['artists']['items']\n",
    "big_count_pop = 0\n",
    "for artist in biggie_artists:\n",
    "    #count_pop = artist['popularity']\n",
    "    big_count_pop = big_count_pop + artist['popularity']\n",
    "print(\"Biggie has a total popularity of \", big_count_pop)\n",
    "big_pop = big_count_pop / 49\n",
    "print(\"Biggie is on an average\", big_pop,\"popular\")\n",
    "\n",
    "#Lil\n",
    "Lil_response = requests.get('https://api.spotify.com/v1/search?query=Lil&type=artist&limit=50&country=US')\n",
    "Lil_data = Lil_response.json()\n",
    "Lil_artists = Lil_data['artists']['items']\n",
    "lil_count_pop = 0\n",
    "for artist in Lil_artists:\n",
    "    count_pop_lil = artist['popularity']\n",
    "    lil_count_pop = lil_count_pop + count_pop_lil\n",
    "lil_pop = lil_count_pop / 50\n",
    "print(\"Lil is on an average\", lil_pop,\"popular\")\n"
   ]
  },
  {
   "cell_type": "code",
   "execution_count": null,
   "metadata": {
    "collapsed": true
   },
   "outputs": [],
   "source": []
  }
 ],
 "metadata": {
  "kernelspec": {
   "display_name": "Python 3",
   "language": "python",
   "name": "python3"
  },
  "language_info": {
   "codemirror_mode": {
    "name": "ipython",
    "version": 3
   },
   "file_extension": ".py",
   "mimetype": "text/x-python",
   "name": "python",
   "nbconvert_exporter": "python",
   "pygments_lexer": "ipython3",
   "version": "3.5.1"
  }
 },
 "nbformat": 4,
 "nbformat_minor": 0
}
