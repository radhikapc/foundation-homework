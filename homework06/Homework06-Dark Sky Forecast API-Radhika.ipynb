{
 "cells": [
  {
   "cell_type": "code",
   "execution_count": 2,
   "metadata": {
    "collapsed": true
   },
   "outputs": [],
   "source": [
    "import requests\n"
   ]
  },
  {
   "cell_type": "markdown",
   "metadata": {},
   "source": [
    "## 1 Make a request from the Forecast.io API for where you were born (or lived, or want to visit!) ##\n",
    "\n",
    "Tip: Once you've imported the JSON into a variable, check the timezone's name to make sure it seems like it got the right part of the world!\n",
    "Tip 2: How is north vs. south and east vs. west latitude/longitude represented? Is it the normal North/South/East/West?\n"
   ]
  },
  {
   "cell_type": "code",
   "execution_count": 4,
   "metadata": {
    "collapsed": false
   },
   "outputs": [
    {
     "name": "stdout",
     "output_type": "stream",
     "text": [
      "Bangalore is in Asia/Kolkata timezone\n"
     ]
    }
   ],
   "source": [
    "#https://api.forecast.io/forecast/APIKEY/LATITUDE,LONGITUDE,TIME\n",
    "response = requests.get('https://api.forecast.io/forecast/4da699cf85f9706ce50848a7e59591b7/12.971599,77.594563')\n",
    "data = response.json()\n",
    "#print(data)\n",
    "#print(data.keys())\n",
    "print(\"Bangalore is in\", data['timezone'], \"timezone\")\n",
    "timezone_find = data.keys()\n",
    "#find representation"
   ]
  },
  {
   "cell_type": "code",
   "execution_count": 11,
   "metadata": {
    "collapsed": false
   },
   "outputs": [
    {
     "name": "stdout",
     "output_type": "stream",
     "text": [
      "The longitude is 77.594563 The latitude is 12.971599\n"
     ]
    }
   ],
   "source": [
    "print(\"The longitude is\", data['longitude'], \"The latitude is\", data['latitude'])"
   ]
  },
  {
   "cell_type": "markdown",
   "metadata": {},
   "source": [
    "## 2. What's the current wind speed? How much warmer does it feel than it actually is?"
   ]
  },
  {
   "cell_type": "code",
   "execution_count": 27,
   "metadata": {
    "collapsed": false
   },
   "outputs": [
    {
     "name": "stdout",
     "output_type": "stream",
     "text": [
      "The current windspeed at New York is 6.31\n"
     ]
    }
   ],
   "source": [
    "response = requests.get('https://api.forecast.io/forecast/4da699cf85f9706ce50848a7e59591b7/40.712784,-74.005941, 2016-06-08T09:00:46-0400')\n",
    "data = response.json()\n",
    "#print(data.keys())\n",
    "print(\"The current windspeed at New York is\", data['currently']['windSpeed'])\n"
   ]
  },
  {
   "cell_type": "code",
   "execution_count": 30,
   "metadata": {
    "collapsed": false
   },
   "outputs": [
    {
     "name": "stdout",
     "output_type": "stream",
     "text": [
      "It is 64.26 warmer it feels than it actually is\n"
     ]
    }
   ],
   "source": [
    "#print(data['currently']) - find how much warmer\n",
    "print(\"It is\",data['currently']['apparentTemperature'], \"warmer it feels than it actually is\")"
   ]
  },
  {
   "cell_type": "markdown",
   "metadata": {},
   "source": [
    "## 3. Moon Visible in New York \n",
    "\n",
    "The first daily forecast is the forecast for today. For the place you decided on up above, how much of the moon is currently visible?"
   ]
  },
  {
   "cell_type": "code",
   "execution_count": 31,
   "metadata": {
    "collapsed": false
   },
   "outputs": [
    {
     "name": "stdout",
     "output_type": "stream",
     "text": [
      "The visibility of moon today in New York is 0.13 and is in the middle of new moon phase and the first quarter moon\n"
     ]
    }
   ],
   "source": [
    "response = requests.get('https://api.forecast.io/forecast/4da699cf85f9706ce50848a7e59591b7/40.712784,-74.005941, 2016-06-08T09:00:46-0400')\n",
    "data = response.json()\n",
    "#print(data.keys())\n",
    "#print(data['daily']['data'])\n",
    "\n",
    "now_moon = data['daily']['data']\n",
    "for i in now_moon:\n",
    "    print(\"The visibility of moon today in New York is\", i['moonPhase'], \"and is in the middle of new moon phase and the first quarter moon\")\n",
    "\n"
   ]
  },
  {
   "cell_type": "markdown",
   "metadata": {},
   "source": [
    "## 4. What's the difference between the high and low temperatures for today?"
   ]
  },
  {
   "cell_type": "code",
   "execution_count": 66,
   "metadata": {
    "collapsed": false
   },
   "outputs": [
    {
     "name": "stdout",
     "output_type": "stream",
     "text": [
      "The temparature difference for today approximately is 9\n"
     ]
    }
   ],
   "source": [
    "response = requests.get('https://api.forecast.io/forecast/4da699cf85f9706ce50848a7e59591b7/40.712784,-74.005941, 2016-06-08T09:00:46-0400')\n",
    "data = response.json()\n",
    "TemMax = data['daily']['data']\n",
    "for i in TemMax:\n",
    "    tem_diff = i['temperatureMax'] - i['temperatureMin']\n",
    "    print(\"The temparature difference for today approximately is\", round(tem_diff))"
   ]
  },
  {
   "cell_type": "markdown",
   "metadata": {},
   "source": [
    "## 5. Next Week's Prediction\n",
    "\n",
    "Loop through the daily forecast, printing out the next week's worth of predictions. I'd like to know the high temperature for each day, and whether it's hot, warm, or cold, based on what temperatures you think are hot, warm or cold."
   ]
  },
  {
   "cell_type": "code",
   "execution_count": 88,
   "metadata": {
    "collapsed": false
   },
   "outputs": [
    {
     "name": "stdout",
     "output_type": "stream",
     "text": [
      "The high temperature for the day 1 is 66.3 and the low temperature is 56.93\n",
      "It's a warm day!\n",
      "The high temperature for the day 2 is 74.47 and the low temperature is 53.1\n",
      "It's a warm day!\n",
      "The high temperature for the day 3 is 75.89 and the low temperature is 56.6\n",
      "It's a warm day!\n",
      "The high temperature for the day 4 is 75.17 and the low temperature is 59.3\n",
      "It's a warm day!\n",
      "The high temperature for the day 5 is 79.85 and the low temperature is 65.16\n",
      "It's very hot weather\n",
      "The high temperature for the day 6 is 68.26 and the low temperature is 60.65\n",
      "It's very hot weather\n",
      "The high temperature for the day 7 is 74.71 and the low temperature is 62.07\n",
      "It's very hot weather\n",
      "The high temperature for the day 8 is 76.22 and the low temperature is 61.69\n",
      "It's very hot weather\n"
     ]
    }
   ],
   "source": [
    "response = requests.get('https://api.forecast.io/forecast/4da699cf85f9706ce50848a7e59591b7/40.712784,-74.005941')\n",
    "data = response.json()\n",
    "temp = data['daily']['data']\n",
    "#print(temp)\n",
    "count = 0\n",
    "for i in temp:\n",
    "    count = count+1\n",
    "    print(\"The high temperature for the day\", count, \"is\", i['temperatureMax'], \"and the low temperature is\", i['temperatureMin'])\n",
    "    if float(i['temperatureMin']) < 40:\n",
    "        print(\"it's a cold weather\")\n",
    "    elif (float(i['temperatureMin']) > 40) & (float(i['temperatureMin']) < 60):\n",
    "        print(\"It's a warm day!\")\n",
    "    else:\n",
    "        print(\"It's very hot weather\")\n",
    "    "
   ]
  },
  {
   "cell_type": "markdown",
   "metadata": {},
   "source": [
    "## 6.Weather in Florida\n",
    "What's the weather looking like for the rest of today in Miami, Florida? I'd like to know the temperature for every hour, and if it's going to have cloud cover of more than 0.5 say \"{temperature} and cloudy\" instead of just the temperature."
   ]
  },
  {
   "cell_type": "code",
   "execution_count": 104,
   "metadata": {
    "collapsed": false
   },
   "outputs": [
    {
     "name": "stdout",
     "output_type": "stream",
     "text": [
      "The temperature in Miami, Florida on 9th June in the 1 hour is 77.52\n",
      "and is cloudy\n",
      "The temperature in Miami, Florida on 9th June in the 2 hour is 77.49\n",
      "and is cloudy\n",
      "The temperature in Miami, Florida on 9th June in the 3 hour is 77.69\n",
      "and is cloudy\n",
      "The temperature in Miami, Florida on 9th June in the 4 hour is 77.69\n",
      "and is cloudy\n",
      "The temperature in Miami, Florida on 9th June in the 5 hour is 77.83\n",
      "and is cloudy\n",
      "The temperature in Miami, Florida on 9th June in the 6 hour is 78.02\n",
      "and is cloudy\n",
      "The temperature in Miami, Florida on 9th June in the 7 hour is 77.77\n",
      "and is cloudy\n",
      "The temperature in Miami, Florida on 9th June in the 8 hour is 77.99\n",
      "and is cloudy\n",
      "The temperature in Miami, Florida on 9th June in the 9 hour is 78.94\n",
      "and is cloudy\n",
      "The temperature in Miami, Florida on 9th June in the 10 hour is 80.37\n",
      "and is cloudy\n",
      "The temperature in Miami, Florida on 9th June in the 11 hour is 82.11\n",
      "and is cloudy\n",
      "The temperature in Miami, Florida on 9th June in the 12 hour is 83.76\n",
      "and is cloudy\n",
      "The temperature in Miami, Florida on 9th June in the 13 hour is 84.98\n",
      "and is cloudy\n",
      "The temperature in Miami, Florida on 9th June in the 14 hour is 85.84\n",
      "and is cloudy\n",
      "The temperature in Miami, Florida on 9th June in the 15 hour is 86.27\n",
      "and is cloudy\n",
      "The temperature in Miami, Florida on 9th June in the 16 hour is 85.79\n",
      "and is cloudy\n",
      "The temperature in Miami, Florida on 9th June in the 17 hour is 85.37\n",
      "and is cloudy\n",
      "The temperature in Miami, Florida on 9th June in the 18 hour is 84.97\n",
      "and is cloudy\n",
      "The temperature in Miami, Florida on 9th June in the 19 hour is 84.2\n",
      "and is cloudy\n",
      "The temperature in Miami, Florida on 9th June in the 20 hour is 83.44\n",
      "and is cloudy\n",
      "The temperature in Miami, Florida on 9th June in the 21 hour is 82.71\n",
      "and is cloudy\n",
      "The temperature in Miami, Florida on 9th June in the 22 hour is 82.04\n",
      "and is cloudy\n",
      "The temperature in Miami, Florida on 9th June in the 23 hour is 81.28\n",
      "and is cloudy\n",
      "The temperature in Miami, Florida on 9th June in the 24 hour is 80.47\n",
      "and is cloudy\n"
     ]
    }
   ],
   "source": [
    "response = requests.get('https://api.forecast.io/forecast/4da699cf85f9706ce50848a7e59591b7/25.761680,-80.191790, 2016-06-09T12:01:00-0400')\n",
    "data = response.json()\n",
    "#print(data['hourly']['data'])\n",
    "Tem = data['hourly']['data']\n",
    "count = 0\n",
    "for i in Tem:\n",
    "    count = count +1\n",
    "    print(\"The temperature in Miami, Florida on 9th June in the\", count, \"hour is\", i['temperature'])\n",
    "    if float(i['cloudCover']) > 0.5:\n",
    "        print(\"and is cloudy\")"
   ]
  },
  {
   "cell_type": "markdown",
   "metadata": {},
   "source": [
    "## 7. Temperature in Central Park \n",
    "\n",
    "What was the temperature in Central Park on Christmas Day, 1980? How about 1990? 2000?"
   ]
  },
  {
   "cell_type": "code",
   "execution_count": 113,
   "metadata": {
    "collapsed": false
   },
   "outputs": [
    {
     "name": "stdout",
     "output_type": "stream",
     "text": [
      "The temperature in Central Park, NY on the Christmas Day of 1980 was 3.57\n",
      "The temperature in Central Park, NY on the Christmas Day of 1990 was 30.28\n",
      "The temperature in Central Park, NY on the Christmas Day of 2000 was 20.68\n"
     ]
    }
   ],
   "source": [
    "response = requests.get('https://api.forecast.io/forecast/4da699cf85f9706ce50848a7e59591b7/40.771133,-73.974187, 1980-12-25T12:01:00-0400')\n",
    "data = response.json()\n",
    "Temp = data['currently']['temperature']\n",
    "print(\"The temperature in Central Park, NY on the Christmas Day of 1980 was\", Temp)\n",
    "\n",
    "response = requests.get('https://api.forecast.io/forecast/4da699cf85f9706ce50848a7e59591b7/40.771133,-73.974187, 1990-12-25T12:01:00-0400')\n",
    "data = response.json()\n",
    "Temp = data['currently']['temperature']\n",
    "print(\"The temperature in Central Park, NY on the Christmas Day of 1990 was\", Temp)\n",
    "\n",
    "response = requests.get('https://api.forecast.io/forecast/4da699cf85f9706ce50848a7e59591b7/40.771133,-73.974187, 2000-12-25T12:01:00-0400')\n",
    "data = response.json()\n",
    "Temp = data['currently']['temperature']\n",
    "print(\"The temperature in Central Park, NY on the Christmas Day of 2000 was\", Temp)"
   ]
  },
  {
   "cell_type": "code",
   "execution_count": null,
   "metadata": {
    "collapsed": true
   },
   "outputs": [],
   "source": []
  }
 ],
 "metadata": {
  "kernelspec": {
   "display_name": "Python 3",
   "language": "python",
   "name": "python3"
  },
  "language_info": {
   "codemirror_mode": {
    "name": "ipython",
    "version": 3
   },
   "file_extension": ".py",
   "mimetype": "text/x-python",
   "name": "python",
   "nbconvert_exporter": "python",
   "pygments_lexer": "ipython3",
   "version": "3.5.1"
  }
 },
 "nbformat": 4,
 "nbformat_minor": 0
}
