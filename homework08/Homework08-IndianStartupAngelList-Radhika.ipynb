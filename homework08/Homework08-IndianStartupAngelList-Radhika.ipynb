{
 "cells": [
  {
   "cell_type": "code",
   "execution_count": 51,
   "metadata": {
    "collapsed": true
   },
   "outputs": [],
   "source": [
    "import pandas as pd\n",
    "import matplotlib.pyplot as plt\n",
    "%matplotlib inline"
   ]
  },
  {
   "cell_type": "markdown",
   "metadata": {},
   "source": [
    "### 1. Open your dataset up using pandas in a Jupyter notebook"
   ]
  },
  {
   "cell_type": "code",
   "execution_count": 52,
   "metadata": {
    "collapsed": false
   },
   "outputs": [],
   "source": [
    "df = pd.read_csv(\"India.csv\")"
   ]
  },
  {
   "cell_type": "code",
   "execution_count": 53,
   "metadata": {
    "collapsed": false
   },
   "outputs": [
    {
     "data": {
      "text/plain": [
       "Index(['id', 'name', 'company_type', 'locations', 'quality',\n",
       "       'company_size(upper limit)', 'follower_count', 'high_concept',\n",
       "       'markets', 'angellist_url'],\n",
       "      dtype='object')"
      ]
     },
     "execution_count": 53,
     "metadata": {},
     "output_type": "execute_result"
    }
   ],
   "source": [
    "df.columns"
   ]
  },
  {
   "cell_type": "markdown",
   "metadata": {},
   "source": [
    "### 2. Do a .head() to get a feel for your data"
   ]
  },
  {
   "cell_type": "code",
   "execution_count": 54,
   "metadata": {
    "collapsed": false
   },
   "outputs": [
    {
     "data": {
      "text/html": [
       "<div>\n",
       "<table border=\"1\" class=\"dataframe\">\n",
       "  <thead>\n",
       "    <tr style=\"text-align: right;\">\n",
       "      <th></th>\n",
       "      <th>id</th>\n",
       "      <th>name</th>\n",
       "      <th>company_type</th>\n",
       "      <th>locations</th>\n",
       "      <th>quality</th>\n",
       "      <th>company_size(upper limit)</th>\n",
       "      <th>follower_count</th>\n",
       "      <th>high_concept</th>\n",
       "      <th>markets</th>\n",
       "      <th>angellist_url</th>\n",
       "    </tr>\n",
       "  </thead>\n",
       "  <tbody>\n",
       "    <tr>\n",
       "      <th>0</th>\n",
       "      <td>1194302</td>\n",
       "      <td>Bhubaneswar Buzz</td>\n",
       "      <td>Marketing</td>\n",
       "      <td>Bhubaneswar</td>\n",
       "      <td>0</td>\n",
       "      <td>10</td>\n",
       "      <td>1</td>\n",
       "      <td>Social Media Marketing Startup with Odisha Focus</td>\n",
       "      <td>Social Media Marketing, Brand Marketing, Promo...</td>\n",
       "      <td>https://angel.co/bhubaneswar-buzz-1</td>\n",
       "    </tr>\n",
       "    <tr>\n",
       "      <th>1</th>\n",
       "      <td>1193791</td>\n",
       "      <td>Rice Bar</td>\n",
       "      <td>Food</td>\n",
       "      <td>Bangalore</td>\n",
       "      <td>0</td>\n",
       "      <td>10</td>\n",
       "      <td>1</td>\n",
       "      <td>Rice Bar ' An exotic Rice Adventure'</td>\n",
       "      <td>Food and Beverages, Specialty Foods, Organic Food</td>\n",
       "      <td>https://angel.co/rice-bar</td>\n",
       "    </tr>\n",
       "    <tr>\n",
       "      <th>2</th>\n",
       "      <td>1193420</td>\n",
       "      <td>vipra</td>\n",
       "      <td>Supply Chain</td>\n",
       "      <td>Bangalore</td>\n",
       "      <td>0</td>\n",
       "      <td>10</td>\n",
       "      <td>1</td>\n",
       "      <td>Creating an efficient supply chain for agricul...</td>\n",
       "      <td>Supply Chain Management</td>\n",
       "      <td>https://angel.co/vipra</td>\n",
       "    </tr>\n",
       "    <tr>\n",
       "      <th>3</th>\n",
       "      <td>1193385</td>\n",
       "      <td>Blackbuck Insights</td>\n",
       "      <td>Big Data</td>\n",
       "      <td>Chennai</td>\n",
       "      <td>0</td>\n",
       "      <td>10</td>\n",
       "      <td>3</td>\n",
       "      <td>Providing cost effective solutions using niche...</td>\n",
       "      <td>Business Intelligence, Big Data Analytics, Dat...</td>\n",
       "      <td>https://angel.co/blackbuck-insights</td>\n",
       "    </tr>\n",
       "    <tr>\n",
       "      <th>4</th>\n",
       "      <td>1193247</td>\n",
       "      <td>toto</td>\n",
       "      <td>Marketing</td>\n",
       "      <td>New Delhi</td>\n",
       "      <td>0</td>\n",
       "      <td>10</td>\n",
       "      <td>1</td>\n",
       "      <td>test</td>\n",
       "      <td>Private Social Networking</td>\n",
       "      <td>https://angel.co/toto-8</td>\n",
       "    </tr>\n",
       "  </tbody>\n",
       "</table>\n",
       "</div>"
      ],
      "text/plain": [
       "        id                name  company_type    locations  quality  \\\n",
       "0  1194302    Bhubaneswar Buzz     Marketing  Bhubaneswar        0   \n",
       "1  1193791            Rice Bar          Food    Bangalore        0   \n",
       "2  1193420               vipra  Supply Chain    Bangalore        0   \n",
       "3  1193385  Blackbuck Insights      Big Data      Chennai        0   \n",
       "4  1193247                toto     Marketing    New Delhi        0   \n",
       "\n",
       "   company_size(upper limit)  follower_count  \\\n",
       "0                         10               1   \n",
       "1                         10               1   \n",
       "2                         10               1   \n",
       "3                         10               3   \n",
       "4                         10               1   \n",
       "\n",
       "                                        high_concept  \\\n",
       "0   Social Media Marketing Startup with Odisha Focus   \n",
       "1               Rice Bar ' An exotic Rice Adventure'   \n",
       "2  Creating an efficient supply chain for agricul...   \n",
       "3  Providing cost effective solutions using niche...   \n",
       "4                                               test   \n",
       "\n",
       "                                             markets  \\\n",
       "0  Social Media Marketing, Brand Marketing, Promo...   \n",
       "1  Food and Beverages, Specialty Foods, Organic Food   \n",
       "2                            Supply Chain Management   \n",
       "3  Business Intelligence, Big Data Analytics, Dat...   \n",
       "4                          Private Social Networking   \n",
       "\n",
       "                         angellist_url  \n",
       "0  https://angel.co/bhubaneswar-buzz-1  \n",
       "1            https://angel.co/rice-bar  \n",
       "2               https://angel.co/vipra  \n",
       "3  https://angel.co/blackbuck-insights  \n",
       "4              https://angel.co/toto-8  "
      ]
     },
     "execution_count": 54,
     "metadata": {},
     "output_type": "execute_result"
    }
   ],
   "source": [
    "df.head()"
   ]
  },
  {
   "cell_type": "markdown",
   "metadata": {},
   "source": [
    "### 3. Write down 12 questions to ask your data, or 12 things to hunt for in the data"
   ]
  },
  {
   "cell_type": "markdown",
   "metadata": {},
   "source": [
    "1. Count the number of startups in each cities ?\n",
    "2. Find the city in which the highest number of startups in India.\n",
    "3. Find the domain in which the highest number of startups are from\n",
    "4. Find the domains in which the lowest number of startups are from\n",
    "5. How many startups are from the E-Commerce domain?\n",
    "6. How many startups are from media ?\n",
    "7. Count the number of startups with highest rating.\n",
    "8. Describe the company size of Bangalore-based startups\n",
    "9. Which company has the highest number of followers on Angel list ?\n",
    "10. Which company has the highest strength ?\n",
    "11. Count the strength of startups in Media domain\n",
    "12. What's the average size of a startup in India as given by this Angel list data set ?\n",
    "\n",
    "\n",
    "\n",
    " \n"
   ]
  },
  {
   "cell_type": "markdown",
   "metadata": {},
   "source": [
    "### 1. Count the number of startups in each cities ?"
   ]
  },
  {
   "cell_type": "code",
   "execution_count": 55,
   "metadata": {
    "collapsed": false
   },
   "outputs": [
    {
     "data": {
      "text/plain": [
       "Bangalore        30\n",
       "New Delhi        20\n",
       "Mumbai           14\n",
       "Pune              7\n",
       "Gurgaon           5\n",
       "Chennai           5\n",
       "Hyderabad         3\n",
       "Noida             3\n",
       "India             3\n",
       "Bhubaneswar       2\n",
       "Chandigarh        2\n",
       "Jodhpur           1\n",
       "Bhopal            1\n",
       "Ludhiana          1\n",
       "Delhi             1\n",
       "Jaipur            1\n",
       "Visakhapatnam     1\n",
       "Calcutta          1\n",
       "Kochi             1\n",
       "Name: locations, dtype: int64"
      ]
     },
     "execution_count": 55,
     "metadata": {},
     "output_type": "execute_result"
    }
   ],
   "source": [
    "df[\"locations\"].value_counts()"
   ]
  },
  {
   "cell_type": "markdown",
   "metadata": {},
   "source": [
    "### 2. Find the city in which the highest number of startups in India. "
   ]
  },
  {
   "cell_type": "code",
   "execution_count": 56,
   "metadata": {
    "collapsed": false
   },
   "outputs": [
    {
     "data": {
      "text/plain": [
       "Bangalore    30\n",
       "Name: locations, dtype: int64"
      ]
     },
     "execution_count": 56,
     "metadata": {},
     "output_type": "execute_result"
    }
   ],
   "source": [
    "df[\"locations\"].value_counts().head(1)"
   ]
  },
  {
   "cell_type": "markdown",
   "metadata": {},
   "source": [
    "### 3. Find the domain in which the highest number of startups are from"
   ]
  },
  {
   "cell_type": "code",
   "execution_count": 57,
   "metadata": {
    "collapsed": false
   },
   "outputs": [
    {
     "data": {
      "text/plain": [
       "E-Commerce               19\n",
       "Mobile                   10\n",
       "Marketing                10\n",
       "Healthcare Technology     5\n",
       "Web Development           4\n",
       "Education                 4\n",
       "Software                  4\n",
       "HR                        4\n",
       "Travel and Tourism        4\n",
       "Food                      4\n",
       "Services                  3\n",
       "Lifestyle                 3\n",
       "Finance                   3\n",
       "Games                     2\n",
       "Big Data                  2\n",
       "Housing                   2\n",
       "AI                        2\n",
       "Automotive                2\n",
       "Agriculture               2\n",
       "Media                     2\n",
       "Logistics                 2\n",
       "Pharmaceuticals           1\n",
       "IT                        1\n",
       "UI Design                 1\n",
       "Aerospace                 1\n",
       "Social Media              1\n",
       "Energy                    1\n",
       "Supply Chain              1\n",
       "Footwear                  1\n",
       "Legal Tech                1\n",
       "Name: company_type, dtype: int64"
      ]
     },
     "execution_count": 57,
     "metadata": {},
     "output_type": "execute_result"
    }
   ],
   "source": [
    "df['company_type'].value_counts()"
   ]
  },
  {
   "cell_type": "code",
   "execution_count": 58,
   "metadata": {
    "collapsed": false
   },
   "outputs": [
    {
     "data": {
      "text/plain": [
       "E-Commerce    19\n",
       "Name: company_type, dtype: int64"
      ]
     },
     "execution_count": 58,
     "metadata": {},
     "output_type": "execute_result"
    }
   ],
   "source": [
    "df['company_type'].value_counts().head(1)"
   ]
  },
  {
   "cell_type": "markdown",
   "metadata": {},
   "source": [
    "### 4. Find the domains in which the lowest number of startups are from"
   ]
  },
  {
   "cell_type": "code",
   "execution_count": 59,
   "metadata": {
    "collapsed": false
   },
   "outputs": [
    {
     "data": {
      "text/plain": [
       "Pharmaceuticals    1\n",
       "IT                 1\n",
       "UI Design          1\n",
       "Aerospace          1\n",
       "Social Media       1\n",
       "Energy             1\n",
       "Supply Chain       1\n",
       "Footwear           1\n",
       "Legal Tech         1\n",
       "Name: company_type, dtype: int64"
      ]
     },
     "execution_count": 59,
     "metadata": {},
     "output_type": "execute_result"
    }
   ],
   "source": [
    "df['company_type'].value_counts().tail(9)\n",
    "\n"
   ]
  },
  {
   "cell_type": "markdown",
   "metadata": {},
   "source": [
    "#### 5. How many startups are from the E-Commerce domain?"
   ]
  },
  {
   "cell_type": "code",
   "execution_count": 60,
   "metadata": {
    "collapsed": false
   },
   "outputs": [
    {
     "name": "stdout",
     "output_type": "stream",
     "text": [
      "There are 19 startups in E-commerce\n"
     ]
    }
   ],
   "source": [
    "print(\"There are\", len(df[df['company_type'] =='E-Commerce']),\"startups in E-commerce\")"
   ]
  },
  {
   "cell_type": "markdown",
   "metadata": {},
   "source": [
    "#### 6. How many startups are from media ?"
   ]
  },
  {
   "cell_type": "code",
   "execution_count": 61,
   "metadata": {
    "collapsed": false
   },
   "outputs": [
    {
     "name": "stdout",
     "output_type": "stream",
     "text": [
      "There are 2 startups in media\n"
     ]
    }
   ],
   "source": [
    "print(\"There are\", len(df[df['company_type'] =='Media']),\"startups in media\")"
   ]
  },
  {
   "cell_type": "markdown",
   "metadata": {},
   "source": [
    "#### 7. Count the number of startups with highest rating."
   ]
  },
  {
   "cell_type": "code",
   "execution_count": 62,
   "metadata": {
    "collapsed": false
   },
   "outputs": [
    {
     "data": {
      "text/html": [
       "<div>\n",
       "<table border=\"1\" class=\"dataframe\">\n",
       "  <thead>\n",
       "    <tr style=\"text-align: right;\">\n",
       "      <th></th>\n",
       "      <th>id</th>\n",
       "      <th>name</th>\n",
       "      <th>company_type</th>\n",
       "      <th>locations</th>\n",
       "      <th>quality</th>\n",
       "      <th>company_size(upper limit)</th>\n",
       "      <th>follower_count</th>\n",
       "      <th>high_concept</th>\n",
       "      <th>markets</th>\n",
       "      <th>angellist_url</th>\n",
       "    </tr>\n",
       "  </thead>\n",
       "  <tbody>\n",
       "    <tr>\n",
       "      <th>55</th>\n",
       "      <td>1185339</td>\n",
       "      <td>Compared</td>\n",
       "      <td>E-Commerce</td>\n",
       "      <td>Bangalore</td>\n",
       "      <td>4</td>\n",
       "      <td>50</td>\n",
       "      <td>2</td>\n",
       "      <td>Personal Shopping Assistant on Mobile</td>\n",
       "      <td>E-Commerce, Mobile Commerce</td>\n",
       "      <td>https://angel.co/compared</td>\n",
       "    </tr>\n",
       "    <tr>\n",
       "      <th>63</th>\n",
       "      <td>1185000</td>\n",
       "      <td>iamwire</td>\n",
       "      <td>Software</td>\n",
       "      <td>Gurgaon</td>\n",
       "      <td>4</td>\n",
       "      <td>10</td>\n",
       "      <td>1</td>\n",
       "      <td>A platform assisting technology innovations</td>\n",
       "      <td>Startups, Technology</td>\n",
       "      <td>https://angel.co/iamwire-3</td>\n",
       "    </tr>\n",
       "    <tr>\n",
       "      <th>90</th>\n",
       "      <td>1180544</td>\n",
       "      <td>SendThruMe</td>\n",
       "      <td>Logistics</td>\n",
       "      <td>Bangalore</td>\n",
       "      <td>4</td>\n",
       "      <td>10</td>\n",
       "      <td>1</td>\n",
       "      <td>Send goods with travelers and save on shipping...</td>\n",
       "      <td>Logistics</td>\n",
       "      <td>https://angel.co/sendthrume</td>\n",
       "    </tr>\n",
       "  </tbody>\n",
       "</table>\n",
       "</div>"
      ],
      "text/plain": [
       "         id        name company_type  locations  quality  \\\n",
       "55  1185339    Compared   E-Commerce  Bangalore        4   \n",
       "63  1185000     iamwire     Software    Gurgaon        4   \n",
       "90  1180544  SendThruMe    Logistics  Bangalore        4   \n",
       "\n",
       "    company_size(upper limit)  follower_count  \\\n",
       "55                         50               2   \n",
       "63                         10               1   \n",
       "90                         10               1   \n",
       "\n",
       "                                         high_concept  \\\n",
       "55              Personal Shopping Assistant on Mobile   \n",
       "63        A platform assisting technology innovations   \n",
       "90  Send goods with travelers and save on shipping...   \n",
       "\n",
       "                        markets                angellist_url  \n",
       "55  E-Commerce, Mobile Commerce    https://angel.co/compared  \n",
       "63         Startups, Technology   https://angel.co/iamwire-3  \n",
       "90                    Logistics  https://angel.co/sendthrume  "
      ]
     },
     "execution_count": 62,
     "metadata": {},
     "output_type": "execute_result"
    }
   ],
   "source": [
    "df[df['quality'] == 4]"
   ]
  },
  {
   "cell_type": "code",
   "execution_count": 63,
   "metadata": {
    "collapsed": false
   },
   "outputs": [
    {
     "name": "stdout",
     "output_type": "stream",
     "text": [
      "There are 3 startups with the highest rating.\n"
     ]
    }
   ],
   "source": [
    "print(\"There are\", len(df[df['quality'] == 4]),\"startups with the highest rating.\")"
   ]
  },
  {
   "cell_type": "markdown",
   "metadata": {},
   "source": [
    "#### 8. Describe the company size of Bangalore-based startups"
   ]
  },
  {
   "cell_type": "code",
   "execution_count": 64,
   "metadata": {
    "collapsed": false
   },
   "outputs": [
    {
     "data": {
      "text/html": [
       "<div>\n",
       "<table border=\"1\" class=\"dataframe\">\n",
       "  <thead>\n",
       "    <tr style=\"text-align: right;\">\n",
       "      <th></th>\n",
       "      <th>id</th>\n",
       "      <th>name</th>\n",
       "      <th>company_type</th>\n",
       "      <th>locations</th>\n",
       "      <th>quality</th>\n",
       "      <th>company_size(upper limit)</th>\n",
       "      <th>follower_count</th>\n",
       "      <th>high_concept</th>\n",
       "      <th>markets</th>\n",
       "      <th>angellist_url</th>\n",
       "    </tr>\n",
       "  </thead>\n",
       "  <tbody>\n",
       "    <tr>\n",
       "      <th>1</th>\n",
       "      <td>1193791</td>\n",
       "      <td>Rice Bar</td>\n",
       "      <td>Food</td>\n",
       "      <td>Bangalore</td>\n",
       "      <td>0</td>\n",
       "      <td>10</td>\n",
       "      <td>1</td>\n",
       "      <td>Rice Bar ' An exotic Rice Adventure'</td>\n",
       "      <td>Food and Beverages, Specialty Foods, Organic Food</td>\n",
       "      <td>https://angel.co/rice-bar</td>\n",
       "    </tr>\n",
       "    <tr>\n",
       "      <th>2</th>\n",
       "      <td>1193420</td>\n",
       "      <td>vipra</td>\n",
       "      <td>Supply Chain</td>\n",
       "      <td>Bangalore</td>\n",
       "      <td>0</td>\n",
       "      <td>10</td>\n",
       "      <td>1</td>\n",
       "      <td>Creating an efficient supply chain for agricul...</td>\n",
       "      <td>Supply Chain Management</td>\n",
       "      <td>https://angel.co/vipra</td>\n",
       "    </tr>\n",
       "    <tr>\n",
       "      <th>5</th>\n",
       "      <td>1192761</td>\n",
       "      <td>Hiteshi</td>\n",
       "      <td>Software</td>\n",
       "      <td>Bangalore</td>\n",
       "      <td>0</td>\n",
       "      <td>200</td>\n",
       "      <td>1</td>\n",
       "      <td>Turnkey IT Projects</td>\n",
       "      <td>Mobile, Enterprise Software, Web Design, Mobil...</td>\n",
       "      <td>https://angel.co/hiteshi-1</td>\n",
       "    </tr>\n",
       "    <tr>\n",
       "      <th>13</th>\n",
       "      <td>1192205</td>\n",
       "      <td>Smart Living Retail</td>\n",
       "      <td>E-Commerce</td>\n",
       "      <td>Bangalore</td>\n",
       "      <td>3</td>\n",
       "      <td>10</td>\n",
       "      <td>1</td>\n",
       "      <td>Storage Solutions for homes</td>\n",
       "      <td>Retail, E-Commerce Platforms, Trade Platform</td>\n",
       "      <td>https://angel.co/smart-living-retail</td>\n",
       "    </tr>\n",
       "    <tr>\n",
       "      <th>17</th>\n",
       "      <td>1191976</td>\n",
       "      <td>Aquagenics R&amp;D India</td>\n",
       "      <td>Lifestyle</td>\n",
       "      <td>Bangalore</td>\n",
       "      <td>2</td>\n",
       "      <td>100</td>\n",
       "      <td>1</td>\n",
       "      <td>Clean, healthy water for improved hair and skin.</td>\n",
       "      <td>Retail, Lifestyle Products, Health and Wellness</td>\n",
       "      <td>https://angel.co/aquagenics-r-d-india</td>\n",
       "    </tr>\n",
       "    <tr>\n",
       "      <th>21</th>\n",
       "      <td>1190665</td>\n",
       "      <td>Kaarvaan Solutions</td>\n",
       "      <td>E-Commerce</td>\n",
       "      <td>Bangalore</td>\n",
       "      <td>2</td>\n",
       "      <td>50</td>\n",
       "      <td>1</td>\n",
       "      <td>Creating value and bringing change by connecti...</td>\n",
       "      <td>Mobile, Social Media, E-Commerce</td>\n",
       "      <td>https://angel.co/kaarvaan-solutions</td>\n",
       "    </tr>\n",
       "    <tr>\n",
       "      <th>22</th>\n",
       "      <td>1190540</td>\n",
       "      <td>Geeks of Gaming</td>\n",
       "      <td>Games</td>\n",
       "      <td>Bangalore</td>\n",
       "      <td>3</td>\n",
       "      <td>50</td>\n",
       "      <td>1</td>\n",
       "      <td>An innovative gaming company aimed to introduc...</td>\n",
       "      <td>Games, Video Games, Mobile Games</td>\n",
       "      <td>https://angel.co/geeks-of-gaming</td>\n",
       "    </tr>\n",
       "    <tr>\n",
       "      <th>23</th>\n",
       "      <td>1189939</td>\n",
       "      <td>Phoenix Compliance</td>\n",
       "      <td>Healthcare Technology</td>\n",
       "      <td>Bangalore</td>\n",
       "      <td>2</td>\n",
       "      <td>200</td>\n",
       "      <td>1</td>\n",
       "      <td>Healthcare Entities can go paperless,Physician...</td>\n",
       "      <td>Health Care, Health Care Information Technolog...</td>\n",
       "      <td>https://angel.co/phoenix-compliance</td>\n",
       "    </tr>\n",
       "    <tr>\n",
       "      <th>27</th>\n",
       "      <td>1188814</td>\n",
       "      <td>Mean Metal Motors</td>\n",
       "      <td>Automotive</td>\n",
       "      <td>Bangalore</td>\n",
       "      <td>3</td>\n",
       "      <td>50</td>\n",
       "      <td>2</td>\n",
       "      <td>Premium Performance Electric Vehicles.</td>\n",
       "      <td>Clean Energy, Automotive, Electric Vehicles, H...</td>\n",
       "      <td>https://angel.co/mean-metal-motors-2</td>\n",
       "    </tr>\n",
       "    <tr>\n",
       "      <th>28</th>\n",
       "      <td>1188783</td>\n",
       "      <td>Jobs Galore</td>\n",
       "      <td>HR</td>\n",
       "      <td>Bangalore</td>\n",
       "      <td>2</td>\n",
       "      <td>10</td>\n",
       "      <td>1</td>\n",
       "      <td>One Stop Shop for Career Advice</td>\n",
       "      <td>Career Management, Career Planning</td>\n",
       "      <td>https://angel.co/jobs-galore-1</td>\n",
       "    </tr>\n",
       "    <tr>\n",
       "      <th>32</th>\n",
       "      <td>1188746</td>\n",
       "      <td>pumpkart</td>\n",
       "      <td>E-Commerce</td>\n",
       "      <td>Bangalore</td>\n",
       "      <td>2</td>\n",
       "      <td>50</td>\n",
       "      <td>1</td>\n",
       "      <td>Pumpkart has been envisioned to be the No.1 co...</td>\n",
       "      <td>E-Commerce Platforms</td>\n",
       "      <td>https://angel.co/pumpkart-1</td>\n",
       "    </tr>\n",
       "    <tr>\n",
       "      <th>33</th>\n",
       "      <td>1188665</td>\n",
       "      <td>Official Gates Technologies</td>\n",
       "      <td>Mobile</td>\n",
       "      <td>Bangalore</td>\n",
       "      <td>2</td>\n",
       "      <td>50</td>\n",
       "      <td>1</td>\n",
       "      <td>Mobile App Development</td>\n",
       "      <td>Mobile, Android, Web Development, Mobile Appli...</td>\n",
       "      <td>https://angel.co/official-gates-technologies</td>\n",
       "    </tr>\n",
       "    <tr>\n",
       "      <th>39</th>\n",
       "      <td>1188448</td>\n",
       "      <td>SecondScreen</td>\n",
       "      <td>Aerospace</td>\n",
       "      <td>Bangalore</td>\n",
       "      <td>3</td>\n",
       "      <td>10</td>\n",
       "      <td>1</td>\n",
       "      <td>Wireless Inflight Entertainment</td>\n",
       "      <td>Aerospace, Travel &amp; Tourism, Ecommerce, Mariti...</td>\n",
       "      <td>https://angel.co/secondscreen-1</td>\n",
       "    </tr>\n",
       "    <tr>\n",
       "      <th>42</th>\n",
       "      <td>1187616</td>\n",
       "      <td>Liveongo-Artivatic</td>\n",
       "      <td>AI</td>\n",
       "      <td>Bangalore</td>\n",
       "      <td>2</td>\n",
       "      <td>50</td>\n",
       "      <td>0</td>\n",
       "      <td>AI focused Instant, Predictive &amp; Personalize I...</td>\n",
       "      <td>Artificial Intelligence</td>\n",
       "      <td>https://angel.co/liveongo-artivatic</td>\n",
       "    </tr>\n",
       "    <tr>\n",
       "      <th>48</th>\n",
       "      <td>1185510</td>\n",
       "      <td>Artivatic Hiring</td>\n",
       "      <td>AI</td>\n",
       "      <td>Bangalore</td>\n",
       "      <td>2</td>\n",
       "      <td>10</td>\n",
       "      <td>0</td>\n",
       "      <td>AI focused Instant, Predictive &amp; Personalize I...</td>\n",
       "      <td>Intelligent Systems, Artificial Intelligence</td>\n",
       "      <td>https://angel.co/artivatic-hiring</td>\n",
       "    </tr>\n",
       "    <tr>\n",
       "      <th>50</th>\n",
       "      <td>1185475</td>\n",
       "      <td>MobiCollector</td>\n",
       "      <td>Mobile</td>\n",
       "      <td>Bangalore</td>\n",
       "      <td>2</td>\n",
       "      <td>10</td>\n",
       "      <td>1</td>\n",
       "      <td>We developed App like Cable TV Operators, EMI ...</td>\n",
       "      <td>Mobile, Mobile Payments</td>\n",
       "      <td>https://angel.co/mobicollector</td>\n",
       "    </tr>\n",
       "    <tr>\n",
       "      <th>51</th>\n",
       "      <td>1185461</td>\n",
       "      <td>www.plexcel.com</td>\n",
       "      <td>Software</td>\n",
       "      <td>Bangalore</td>\n",
       "      <td>2</td>\n",
       "      <td>10</td>\n",
       "      <td>1</td>\n",
       "      <td>We are web magicians who makes brands live up ...</td>\n",
       "      <td>Software</td>\n",
       "      <td>https://angel.co/www-plexcel-com</td>\n",
       "    </tr>\n",
       "    <tr>\n",
       "      <th>52</th>\n",
       "      <td>1185403</td>\n",
       "      <td>NXT International Trade</td>\n",
       "      <td>Energy</td>\n",
       "      <td>Bangalore</td>\n",
       "      <td>2</td>\n",
       "      <td>50</td>\n",
       "      <td>1</td>\n",
       "      <td>Enabling business in India</td>\n",
       "      <td>Specialty Foods, Waste Management, Renewable E...</td>\n",
       "      <td>https://angel.co/nxt-international-trade</td>\n",
       "    </tr>\n",
       "    <tr>\n",
       "      <th>55</th>\n",
       "      <td>1185339</td>\n",
       "      <td>Compared</td>\n",
       "      <td>E-Commerce</td>\n",
       "      <td>Bangalore</td>\n",
       "      <td>4</td>\n",
       "      <td>50</td>\n",
       "      <td>2</td>\n",
       "      <td>Personal Shopping Assistant on Mobile</td>\n",
       "      <td>E-Commerce, Mobile Commerce</td>\n",
       "      <td>https://angel.co/compared</td>\n",
       "    </tr>\n",
       "    <tr>\n",
       "      <th>61</th>\n",
       "      <td>1185040</td>\n",
       "      <td>Capsten Technologies</td>\n",
       "      <td>E-Commerce</td>\n",
       "      <td>Bangalore</td>\n",
       "      <td>2</td>\n",
       "      <td>10</td>\n",
       "      <td>1</td>\n",
       "      <td>Web and Mobile Application Development</td>\n",
       "      <td>E-Commerce, Android, Web Development, Mobile A...</td>\n",
       "      <td>https://angel.co/capsten-technologies</td>\n",
       "    </tr>\n",
       "    <tr>\n",
       "      <th>65</th>\n",
       "      <td>1184899</td>\n",
       "      <td>Provab Technosoft</td>\n",
       "      <td>Travel and Tourism</td>\n",
       "      <td>Bangalore</td>\n",
       "      <td>2</td>\n",
       "      <td>10</td>\n",
       "      <td>1</td>\n",
       "      <td>Travel Technology Solutions</td>\n",
       "      <td>Travel &amp; Tourism</td>\n",
       "      <td>https://angel.co/provab-technosoft-10</td>\n",
       "    </tr>\n",
       "    <tr>\n",
       "      <th>67</th>\n",
       "      <td>1184735</td>\n",
       "      <td>Story</td>\n",
       "      <td>Housing</td>\n",
       "      <td>Bangalore</td>\n",
       "      <td>3</td>\n",
       "      <td>10</td>\n",
       "      <td>1</td>\n",
       "      <td>Better Living Spaces in Urban Hotspots</td>\n",
       "      <td>Real Estate, Technology</td>\n",
       "      <td>https://angel.co/story-6</td>\n",
       "    </tr>\n",
       "    <tr>\n",
       "      <th>76</th>\n",
       "      <td>1182853</td>\n",
       "      <td>Pocketin</td>\n",
       "      <td>E-Commerce</td>\n",
       "      <td>Bangalore</td>\n",
       "      <td>3</td>\n",
       "      <td>10</td>\n",
       "      <td>3</td>\n",
       "      <td>Pocketin is an online platform to sell/buy qua...</td>\n",
       "      <td>E-Commerce, Consumer Electronics</td>\n",
       "      <td>https://angel.co/pocketin-1</td>\n",
       "    </tr>\n",
       "    <tr>\n",
       "      <th>84</th>\n",
       "      <td>1182289</td>\n",
       "      <td>Fermedicius Labs</td>\n",
       "      <td>Lifestyle</td>\n",
       "      <td>Bangalore</td>\n",
       "      <td>2</td>\n",
       "      <td>10</td>\n",
       "      <td>1</td>\n",
       "      <td>Ingenious products from real farms which are E...</td>\n",
       "      <td>Food and Beverages, Novelty Stores, Health and...</td>\n",
       "      <td>https://angel.co/fermedicius-labs</td>\n",
       "    </tr>\n",
       "    <tr>\n",
       "      <th>89</th>\n",
       "      <td>1180560</td>\n",
       "      <td>Easoftech Solutions</td>\n",
       "      <td>E-Commerce</td>\n",
       "      <td>Bangalore</td>\n",
       "      <td>2</td>\n",
       "      <td>10</td>\n",
       "      <td>1</td>\n",
       "      <td>Solutions that help our clients streamline ope...</td>\n",
       "      <td>B2B, Ecommerce</td>\n",
       "      <td>https://angel.co/easoftech-solutions</td>\n",
       "    </tr>\n",
       "    <tr>\n",
       "      <th>90</th>\n",
       "      <td>1180544</td>\n",
       "      <td>SendThruMe</td>\n",
       "      <td>Logistics</td>\n",
       "      <td>Bangalore</td>\n",
       "      <td>4</td>\n",
       "      <td>10</td>\n",
       "      <td>1</td>\n",
       "      <td>Send goods with travelers and save on shipping...</td>\n",
       "      <td>Logistics</td>\n",
       "      <td>https://angel.co/sendthrume</td>\n",
       "    </tr>\n",
       "    <tr>\n",
       "      <th>91</th>\n",
       "      <td>1180529</td>\n",
       "      <td>FuGenX Technologies</td>\n",
       "      <td>Mobile</td>\n",
       "      <td>Bangalore</td>\n",
       "      <td>2</td>\n",
       "      <td>10</td>\n",
       "      <td>1</td>\n",
       "      <td>mobile apps design development</td>\n",
       "      <td>Mobile Application</td>\n",
       "      <td>https://angel.co/fugenx-technologies-30</td>\n",
       "    </tr>\n",
       "    <tr>\n",
       "      <th>99</th>\n",
       "      <td>1180054</td>\n",
       "      <td>Blimps India aerial technologies</td>\n",
       "      <td>Marketing</td>\n",
       "      <td>Bangalore</td>\n",
       "      <td>2</td>\n",
       "      <td>10</td>\n",
       "      <td>1</td>\n",
       "      <td>aerial RC blimps which can be used for events,...</td>\n",
       "      <td>Advertising, Events</td>\n",
       "      <td>https://angel.co/blimps-india-aerial-technolog...</td>\n",
       "    </tr>\n",
       "    <tr>\n",
       "      <th>100</th>\n",
       "      <td>1179975</td>\n",
       "      <td>Awnics Tech.</td>\n",
       "      <td>Web Development</td>\n",
       "      <td>Bangalore</td>\n",
       "      <td>3</td>\n",
       "      <td>10</td>\n",
       "      <td>1</td>\n",
       "      <td>Create Solution to simplify Healthcare access ...</td>\n",
       "      <td>Web Development, Mobile Application</td>\n",
       "      <td>https://angel.co/awnics-tech</td>\n",
       "    </tr>\n",
       "    <tr>\n",
       "      <th>101</th>\n",
       "      <td>1179946</td>\n",
       "      <td>InnoCenter</td>\n",
       "      <td>Agriculture</td>\n",
       "      <td>Bangalore</td>\n",
       "      <td>2</td>\n",
       "      <td>10</td>\n",
       "      <td>1</td>\n",
       "      <td>Bringing mechanism to Farmers, Bringing farmin...</td>\n",
       "      <td>Retail, Industrial Automation, Organic, Home &amp;...</td>\n",
       "      <td>https://angel.co/innocenter</td>\n",
       "    </tr>\n",
       "  </tbody>\n",
       "</table>\n",
       "</div>"
      ],
      "text/plain": [
       "          id                              name           company_type  \\\n",
       "1    1193791                          Rice Bar                   Food   \n",
       "2    1193420                             vipra           Supply Chain   \n",
       "5    1192761                           Hiteshi               Software   \n",
       "13   1192205               Smart Living Retail             E-Commerce   \n",
       "17   1191976              Aquagenics R&D India              Lifestyle   \n",
       "21   1190665                Kaarvaan Solutions             E-Commerce   \n",
       "22   1190540                   Geeks of Gaming                  Games   \n",
       "23   1189939                Phoenix Compliance  Healthcare Technology   \n",
       "27   1188814                 Mean Metal Motors             Automotive   \n",
       "28   1188783                       Jobs Galore                     HR   \n",
       "32   1188746                          pumpkart             E-Commerce   \n",
       "33   1188665       Official Gates Technologies                 Mobile   \n",
       "39   1188448                      SecondScreen              Aerospace   \n",
       "42   1187616                Liveongo-Artivatic                     AI   \n",
       "48   1185510                 Artivatic Hiring                      AI   \n",
       "50   1185475                     MobiCollector                 Mobile   \n",
       "51   1185461                   www.plexcel.com               Software   \n",
       "52   1185403           NXT International Trade                 Energy   \n",
       "55   1185339                          Compared             E-Commerce   \n",
       "61   1185040              Capsten Technologies             E-Commerce   \n",
       "65   1184899                 Provab Technosoft     Travel and Tourism   \n",
       "67   1184735                             Story                Housing   \n",
       "76   1182853                          Pocketin             E-Commerce   \n",
       "84   1182289                  Fermedicius Labs              Lifestyle   \n",
       "89   1180560               Easoftech Solutions             E-Commerce   \n",
       "90   1180544                        SendThruMe              Logistics   \n",
       "91   1180529               FuGenX Technologies                 Mobile   \n",
       "99   1180054  Blimps India aerial technologies              Marketing   \n",
       "100  1179975                      Awnics Tech.        Web Development   \n",
       "101  1179946                        InnoCenter            Agriculture   \n",
       "\n",
       "     locations  quality  company_size(upper limit)  follower_count  \\\n",
       "1    Bangalore        0                         10               1   \n",
       "2    Bangalore        0                         10               1   \n",
       "5    Bangalore        0                        200               1   \n",
       "13   Bangalore        3                         10               1   \n",
       "17   Bangalore        2                        100               1   \n",
       "21   Bangalore        2                         50               1   \n",
       "22   Bangalore        3                         50               1   \n",
       "23   Bangalore        2                        200               1   \n",
       "27   Bangalore        3                         50               2   \n",
       "28   Bangalore        2                         10               1   \n",
       "32   Bangalore        2                         50               1   \n",
       "33   Bangalore        2                         50               1   \n",
       "39   Bangalore        3                         10               1   \n",
       "42   Bangalore        2                         50               0   \n",
       "48   Bangalore        2                         10               0   \n",
       "50   Bangalore        2                         10               1   \n",
       "51   Bangalore        2                         10               1   \n",
       "52   Bangalore        2                         50               1   \n",
       "55   Bangalore        4                         50               2   \n",
       "61   Bangalore        2                         10               1   \n",
       "65   Bangalore        2                         10               1   \n",
       "67   Bangalore        3                         10               1   \n",
       "76   Bangalore        3                         10               3   \n",
       "84   Bangalore        2                         10               1   \n",
       "89   Bangalore        2                         10               1   \n",
       "90   Bangalore        4                         10               1   \n",
       "91   Bangalore        2                         10               1   \n",
       "99   Bangalore        2                         10               1   \n",
       "100  Bangalore        3                         10               1   \n",
       "101  Bangalore        2                         10               1   \n",
       "\n",
       "                                          high_concept  \\\n",
       "1                 Rice Bar ' An exotic Rice Adventure'   \n",
       "2    Creating an efficient supply chain for agricul...   \n",
       "5                                  Turnkey IT Projects   \n",
       "13                         Storage Solutions for homes   \n",
       "17    Clean, healthy water for improved hair and skin.   \n",
       "21   Creating value and bringing change by connecti...   \n",
       "22   An innovative gaming company aimed to introduc...   \n",
       "23   Healthcare Entities can go paperless,Physician...   \n",
       "27              Premium Performance Electric Vehicles.   \n",
       "28                     One Stop Shop for Career Advice   \n",
       "32   Pumpkart has been envisioned to be the No.1 co...   \n",
       "33                              Mobile App Development   \n",
       "39                     Wireless Inflight Entertainment   \n",
       "42   AI focused Instant, Predictive & Personalize I...   \n",
       "48   AI focused Instant, Predictive & Personalize I...   \n",
       "50   We developed App like Cable TV Operators, EMI ...   \n",
       "51   We are web magicians who makes brands live up ...   \n",
       "52                          Enabling business in India   \n",
       "55               Personal Shopping Assistant on Mobile   \n",
       "61              Web and Mobile Application Development   \n",
       "65                         Travel Technology Solutions   \n",
       "67              Better Living Spaces in Urban Hotspots   \n",
       "76   Pocketin is an online platform to sell/buy qua...   \n",
       "84   Ingenious products from real farms which are E...   \n",
       "89   Solutions that help our clients streamline ope...   \n",
       "90   Send goods with travelers and save on shipping...   \n",
       "91                      mobile apps design development   \n",
       "99   aerial RC blimps which can be used for events,...   \n",
       "100  Create Solution to simplify Healthcare access ...   \n",
       "101  Bringing mechanism to Farmers, Bringing farmin...   \n",
       "\n",
       "                                               markets  \\\n",
       "1    Food and Beverages, Specialty Foods, Organic Food   \n",
       "2                              Supply Chain Management   \n",
       "5    Mobile, Enterprise Software, Web Design, Mobil...   \n",
       "13        Retail, E-Commerce Platforms, Trade Platform   \n",
       "17     Retail, Lifestyle Products, Health and Wellness   \n",
       "21                    Mobile, Social Media, E-Commerce   \n",
       "22                    Games, Video Games, Mobile Games   \n",
       "23   Health Care, Health Care Information Technolog...   \n",
       "27   Clean Energy, Automotive, Electric Vehicles, H...   \n",
       "28                  Career Management, Career Planning   \n",
       "32                                E-Commerce Platforms   \n",
       "33   Mobile, Android, Web Development, Mobile Appli...   \n",
       "39   Aerospace, Travel & Tourism, Ecommerce, Mariti...   \n",
       "42                             Artificial Intelligence   \n",
       "48        Intelligent Systems, Artificial Intelligence   \n",
       "50                             Mobile, Mobile Payments   \n",
       "51                                            Software   \n",
       "52   Specialty Foods, Waste Management, Renewable E...   \n",
       "55                         E-Commerce, Mobile Commerce   \n",
       "61   E-Commerce, Android, Web Development, Mobile A...   \n",
       "65                                    Travel & Tourism   \n",
       "67                             Real Estate, Technology   \n",
       "76                    E-Commerce, Consumer Electronics   \n",
       "84   Food and Beverages, Novelty Stores, Health and...   \n",
       "89                                      B2B, Ecommerce   \n",
       "90                                           Logistics   \n",
       "91                                  Mobile Application   \n",
       "99                                 Advertising, Events   \n",
       "100                Web Development, Mobile Application   \n",
       "101  Retail, Industrial Automation, Organic, Home &...   \n",
       "\n",
       "                                         angellist_url  \n",
       "1                            https://angel.co/rice-bar  \n",
       "2                               https://angel.co/vipra  \n",
       "5                           https://angel.co/hiteshi-1  \n",
       "13                https://angel.co/smart-living-retail  \n",
       "17               https://angel.co/aquagenics-r-d-india  \n",
       "21                 https://angel.co/kaarvaan-solutions  \n",
       "22                    https://angel.co/geeks-of-gaming  \n",
       "23                 https://angel.co/phoenix-compliance  \n",
       "27                https://angel.co/mean-metal-motors-2  \n",
       "28                      https://angel.co/jobs-galore-1  \n",
       "32                         https://angel.co/pumpkart-1  \n",
       "33        https://angel.co/official-gates-technologies  \n",
       "39                     https://angel.co/secondscreen-1  \n",
       "42                 https://angel.co/liveongo-artivatic  \n",
       "48                   https://angel.co/artivatic-hiring  \n",
       "50                      https://angel.co/mobicollector  \n",
       "51                    https://angel.co/www-plexcel-com  \n",
       "52            https://angel.co/nxt-international-trade  \n",
       "55                           https://angel.co/compared  \n",
       "61               https://angel.co/capsten-technologies  \n",
       "65               https://angel.co/provab-technosoft-10  \n",
       "67                            https://angel.co/story-6  \n",
       "76                         https://angel.co/pocketin-1  \n",
       "84                   https://angel.co/fermedicius-labs  \n",
       "89                https://angel.co/easoftech-solutions  \n",
       "90                         https://angel.co/sendthrume  \n",
       "91             https://angel.co/fugenx-technologies-30  \n",
       "99   https://angel.co/blimps-india-aerial-technolog...  \n",
       "100                       https://angel.co/awnics-tech  \n",
       "101                        https://angel.co/innocenter  "
      ]
     },
     "execution_count": 64,
     "metadata": {},
     "output_type": "execute_result"
    }
   ],
   "source": [
    "blr = df[df['locations'] =='Bangalore']\n",
    "blr"
   ]
  },
  {
   "cell_type": "markdown",
   "metadata": {},
   "source": [
    "#### 9. Which company has the highest strength ?"
   ]
  },
  {
   "cell_type": "code",
   "execution_count": 90,
   "metadata": {
    "collapsed": false
   },
   "outputs": [
    {
     "data": {
      "text/html": [
       "<div>\n",
       "<table border=\"1\" class=\"dataframe\">\n",
       "  <thead>\n",
       "    <tr style=\"text-align: right;\">\n",
       "      <th></th>\n",
       "      <th>name</th>\n",
       "      <th>company_size(upper limit)</th>\n",
       "      <th>company_type</th>\n",
       "    </tr>\n",
       "  </thead>\n",
       "  <tbody>\n",
       "    <tr>\n",
       "      <th>31</th>\n",
       "      <td>Travel Insurance - Policybazaar</td>\n",
       "      <td>1000</td>\n",
       "      <td>Finance</td>\n",
       "    </tr>\n",
       "    <tr>\n",
       "      <th>18</th>\n",
       "      <td>FundsIndia</td>\n",
       "      <td>500</td>\n",
       "      <td>E-Commerce</td>\n",
       "    </tr>\n",
       "  </tbody>\n",
       "</table>\n",
       "</div>"
      ],
      "text/plain": [
       "                               name  company_size(upper limit) company_type\n",
       "31  Travel Insurance - Policybazaar                       1000      Finance\n",
       "18                       FundsIndia                        500   E-Commerce"
      ]
     },
     "execution_count": 90,
     "metadata": {},
     "output_type": "execute_result"
    }
   ],
   "source": [
    "columns_want = df[['name','company_size(upper limit)','company_type']]\n",
    "columns_want\n",
    "columns_want.sort_values('company_size(upper limit)', ascending=False).head(2)"
   ]
  },
  {
   "cell_type": "markdown",
   "metadata": {},
   "source": [
    "#### 10. Which company has the highest number of followers on Angel list ?"
   ]
  },
  {
   "cell_type": "code",
   "execution_count": 72,
   "metadata": {
    "collapsed": false
   },
   "outputs": [
    {
     "data": {
      "text/html": [
       "<div>\n",
       "<table border=\"1\" class=\"dataframe\">\n",
       "  <thead>\n",
       "    <tr style=\"text-align: right;\">\n",
       "      <th></th>\n",
       "      <th>id</th>\n",
       "      <th>name</th>\n",
       "      <th>company_type</th>\n",
       "      <th>locations</th>\n",
       "      <th>quality</th>\n",
       "      <th>company_size(upper limit)</th>\n",
       "      <th>follower_count</th>\n",
       "      <th>high_concept</th>\n",
       "      <th>markets</th>\n",
       "      <th>angellist_url</th>\n",
       "    </tr>\n",
       "  </thead>\n",
       "  <tbody>\n",
       "    <tr>\n",
       "      <th>43</th>\n",
       "      <td>1186777</td>\n",
       "      <td>i&amp;We Engagements</td>\n",
       "      <td>Education</td>\n",
       "      <td>Calcutta</td>\n",
       "      <td>3</td>\n",
       "      <td>50</td>\n",
       "      <td>7</td>\n",
       "      <td>Education Technology with a Touch Of Human Lev...</td>\n",
       "      <td>Education, New Product Development, Skill Asse...</td>\n",
       "      <td>https://angel.co/i-we-engagements-1</td>\n",
       "    </tr>\n",
       "  </tbody>\n",
       "</table>\n",
       "</div>"
      ],
      "text/plain": [
       "         id               name company_type locations  quality  \\\n",
       "43  1186777  i&We Engagements     Education  Calcutta        3   \n",
       "\n",
       "    company_size(upper limit)  follower_count  \\\n",
       "43                         50               7   \n",
       "\n",
       "                                         high_concept  \\\n",
       "43  Education Technology with a Touch Of Human Lev...   \n",
       "\n",
       "                                              markets  \\\n",
       "43  Education, New Product Development, Skill Asse...   \n",
       "\n",
       "                          angellist_url  \n",
       "43  https://angel.co/i-we-engagements-1  "
      ]
     },
     "execution_count": 72,
     "metadata": {},
     "output_type": "execute_result"
    }
   ],
   "source": [
    "df.sort_values('follower_count', ascending=False).head(1)"
   ]
  },
  {
   "cell_type": "code",
   "execution_count": 83,
   "metadata": {
    "collapsed": false
   },
   "outputs": [
    {
     "name": "stdout",
     "output_type": "stream",
     "text": [
      "The company with the highest follower on Angel list is:\n"
     ]
    },
    {
     "data": {
      "text/plain": [
       "name\n",
       "i&We Engagements     7\n",
       "Name: follower_count, dtype: int64"
      ]
     },
     "execution_count": 83,
     "metadata": {},
     "output_type": "execute_result"
    }
   ],
   "source": [
    "print(\"The company with the highest follower on Angel list is:\")\n",
    "df.groupby('name')['follower_count'].sum().sort_values(ascending=False).head(1)"
   ]
  },
  {
   "cell_type": "markdown",
   "metadata": {},
   "source": [
    "#### 11. Count the strength of startups in Media domain"
   ]
  },
  {
   "cell_type": "code",
   "execution_count": 86,
   "metadata": {
    "collapsed": false
   },
   "outputs": [
    {
     "data": {
      "text/html": [
       "<div>\n",
       "<table border=\"1\" class=\"dataframe\">\n",
       "  <thead>\n",
       "    <tr style=\"text-align: right;\">\n",
       "      <th></th>\n",
       "      <th>id</th>\n",
       "      <th>name</th>\n",
       "      <th>company_type</th>\n",
       "      <th>locations</th>\n",
       "      <th>quality</th>\n",
       "      <th>company_size(upper limit)</th>\n",
       "      <th>follower_count</th>\n",
       "      <th>high_concept</th>\n",
       "      <th>markets</th>\n",
       "      <th>angellist_url</th>\n",
       "    </tr>\n",
       "  </thead>\n",
       "  <tbody>\n",
       "    <tr>\n",
       "      <th>7</th>\n",
       "      <td>1192747</td>\n",
       "      <td>WikiMonks</td>\n",
       "      <td>Media</td>\n",
       "      <td>Visakhapatnam</td>\n",
       "      <td>0</td>\n",
       "      <td>50</td>\n",
       "      <td>1</td>\n",
       "      <td>Multi Platform Media/News/Publishing</td>\n",
       "      <td>Digital Media, Publishing, News, Technology</td>\n",
       "      <td>https://angel.co/wikimonks</td>\n",
       "    </tr>\n",
       "    <tr>\n",
       "      <th>57</th>\n",
       "      <td>1185226</td>\n",
       "      <td>Dextra</td>\n",
       "      <td>Media</td>\n",
       "      <td>New Delhi</td>\n",
       "      <td>3</td>\n",
       "      <td>50</td>\n",
       "      <td>1</td>\n",
       "      <td>Find. Or be found.</td>\n",
       "      <td>Film, Musicians, Designers, Writers</td>\n",
       "      <td>https://angel.co/dextra</td>\n",
       "    </tr>\n",
       "  </tbody>\n",
       "</table>\n",
       "</div>"
      ],
      "text/plain": [
       "         id       name company_type      locations  quality  \\\n",
       "7   1192747  WikiMonks        Media  Visakhapatnam        0   \n",
       "57  1185226     Dextra        Media      New Delhi        3   \n",
       "\n",
       "    company_size(upper limit)  follower_count  \\\n",
       "7                          50               1   \n",
       "57                         50               1   \n",
       "\n",
       "                            high_concept  \\\n",
       "7   Multi Platform Media/News/Publishing   \n",
       "57                    Find. Or be found.   \n",
       "\n",
       "                                        markets               angellist_url  \n",
       "7   Digital Media, Publishing, News, Technology  https://angel.co/wikimonks  \n",
       "57          Film, Musicians, Designers, Writers     https://angel.co/dextra  "
      ]
     },
     "execution_count": 86,
     "metadata": {},
     "output_type": "execute_result"
    }
   ],
   "source": [
    "media = df[df['company_type'] =='Media']\n",
    "media"
   ]
  },
  {
   "cell_type": "code",
   "execution_count": 88,
   "metadata": {
    "collapsed": false
   },
   "outputs": [
    {
     "name": "stdout",
     "output_type": "stream",
     "text": [
      "The total strength of startups in media domain is 100\n"
     ]
    }
   ],
   "source": [
    "print(\"The total strength of startups in media domain is\", media['company_size(upper limit)'].sum())"
   ]
  },
  {
   "cell_type": "markdown",
   "metadata": {},
   "source": [
    "#### 12. What's the average size of a startup in India as given by this Angel list data set ?"
   ]
  },
  {
   "cell_type": "code",
   "execution_count": 89,
   "metadata": {
    "collapsed": false
   },
   "outputs": [
    {
     "data": {
      "text/plain": [
       "count     102.000000\n",
       "mean       47.843137\n",
       "std       121.211928\n",
       "min        10.000000\n",
       "25%        10.000000\n",
       "50%        10.000000\n",
       "75%        50.000000\n",
       "max      1000.000000\n",
       "Name: company_size(upper limit), dtype: float64"
      ]
     },
     "execution_count": 89,
     "metadata": {},
     "output_type": "execute_result"
    }
   ],
   "source": [
    "df['company_size(upper limit)'].describe()"
   ]
  },
  {
   "cell_type": "markdown",
   "metadata": {},
   "source": [
    "#### 13. Describe the number of startups in each domain based on location"
   ]
  },
  {
   "cell_type": "code",
   "execution_count": 75,
   "metadata": {
    "collapsed": false
   },
   "outputs": [
    {
     "data": {
      "text/plain": [
       "company_type        locations    \n",
       "AI                  Bangalore        2\n",
       "Aerospace           Bangalore        1\n",
       "Agriculture         Bangalore        1\n",
       "                    Pune             1\n",
       "Automotive          Bangalore        1\n",
       "                    New Delhi        1\n",
       "Big Data            Chennai          1\n",
       "                    Ludhiana         1\n",
       "E-Commerce          Bangalore        7\n",
       "                    New Delhi        3\n",
       "                    Chennai          2\n",
       "                    Mumbai           2\n",
       "                    Pune             2\n",
       "                    Bhopal           1\n",
       "                    Hyderabad        1\n",
       "                    Kochi            1\n",
       "Education           New Delhi        2\n",
       "                    Calcutta         1\n",
       "                    Hyderabad        1\n",
       "Energy              Bangalore        1\n",
       "Finance             Mumbai           2\n",
       "                    Gurgaon          1\n",
       "Food                Bangalore        1\n",
       "                    Hyderabad        1\n",
       "                    Mumbai           1\n",
       "                    New Delhi        1\n",
       "Footwear            Noida            1\n",
       "Games               Bangalore        1\n",
       "                    Noida            1\n",
       "HR                  New Delhi        2\n",
       "                                    ..\n",
       "Marketing           Gurgaon          1\n",
       "                    Mumbai           1\n",
       "                    Pune             1\n",
       "Media               New Delhi        1\n",
       "                    Visakhapatnam    1\n",
       "Mobile              Bangalore        3\n",
       "                    Mumbai           2\n",
       "                    Chennai          1\n",
       "                    Delhi            1\n",
       "                    Gurgaon          1\n",
       "                    India            1\n",
       "                    New Delhi        1\n",
       "Pharmaceuticals     New Delhi        1\n",
       "Services            Chennai          1\n",
       "                    India            1\n",
       "                    Mumbai           1\n",
       "Social Media        Jodhpur          1\n",
       "Software            Bangalore        2\n",
       "                    Gurgaon          1\n",
       "                    Pune             1\n",
       "Supply Chain        Bangalore        1\n",
       "Travel and Tourism  Bangalore        1\n",
       "                    India            1\n",
       "                    Mumbai           1\n",
       "                    Noida            1\n",
       "UI Design           Pune             1\n",
       "Web Development     Bangalore        1\n",
       "                    Chandigarh       1\n",
       "                    New Delhi        1\n",
       "                    Pune             1\n",
       "Name: locations, dtype: int64"
      ]
     },
     "execution_count": 75,
     "metadata": {},
     "output_type": "execute_result"
    }
   ],
   "source": [
    "df.groupby(\"company_type\")['locations'].value_counts()"
   ]
  },
  {
   "cell_type": "markdown",
   "metadata": {
    "collapsed": true
   },
   "source": [
    "### Graph 1 Location Plot"
   ]
  },
  {
   "cell_type": "code",
   "execution_count": 94,
   "metadata": {
    "collapsed": false
   },
   "outputs": [
    {
     "data": {
      "text/plain": [
       "<matplotlib.axes._subplots.AxesSubplot at 0x7941c30>"
      ]
     },
     "execution_count": 94,
     "metadata": {},
     "output_type": "execute_result"
    },
    {
     "data": {
      "image/png": "[encoded data removed]",
      "text/plain": [
       "<matplotlib.figure.Figure at 0x89f3c70>"
      ]
     },
     "metadata": {},
     "output_type": "display_data"
    }
   ],
   "source": [
    "df['locations'].value_counts().plot(kind='bar',x='locations', color='red')"
   ]
  },
  {
   "cell_type": "markdown",
   "metadata": {},
   "source": [
    "#### 2. Graph 2. Domain Plot"
   ]
  },
  {
   "cell_type": "code",
   "execution_count": 95,
   "metadata": {
    "collapsed": false
   },
   "outputs": [
    {
     "data": {
      "text/plain": [
       "<matplotlib.axes._subplots.AxesSubplot at 0x8a9ad30>"
      ]
     },
     "execution_count": 95,
     "metadata": {},
     "output_type": "execute_result"
    },
    {
     "data": {
      "image/png": "[encoded data removed]",
      "text/plain": [
       "<matplotlib.figure.Figure at 0x8a89490>"
      ]
     },
     "metadata": {},
     "output_type": "display_data"
    }
   ],
   "source": [
    "df['company_size(upper limit)'].value_counts().plot(kind='bar',x='company_type', color='orange')"
   ]
  },
  {
   "cell_type": "code",
   "execution_count": 98,
   "metadata": {
    "collapsed": false
   },
   "outputs": [
    {
     "data": {
      "text/plain": [
       "<matplotlib.axes._subplots.AxesSubplot at 0x8d97950>"
      ]
     },
     "execution_count": 98,
     "metadata": {},
     "output_type": "execute_result"
    },
    {
     "data": {
      "image/png": "[encoded data removed]",
      "text/plain": [
       "<matplotlib.figure.Figure at 0x8b12830>"
      ]
     },
     "metadata": {},
     "output_type": "display_data"
    }
   ],
   "source": [
    "df.groupby(\"locations\")['company_type'].head(5).value_counts().plot(kind='bar',x='company_type', color='green')"
   ]
  },
  {
   "cell_type": "code",
   "execution_count": null,
   "metadata": {
    "collapsed": true
   },
   "outputs": [],
   "source": []
  }
 ],
 "metadata": {
  "kernelspec": {
   "display_name": "Python 3",
   "language": "python",
   "name": "python3"
  },
  "language_info": {
   "codemirror_mode": {
    "name": "ipython",
    "version": 3
   },
   "file_extension": ".py",
   "mimetype": "text/x-python",
   "name": "python",
   "nbconvert_exporter": "python",
   "pygments_lexer": "ipython3",
   "version": "3.5.1"
  }
 },
 "nbformat": 4,
 "nbformat_minor": 0
}
