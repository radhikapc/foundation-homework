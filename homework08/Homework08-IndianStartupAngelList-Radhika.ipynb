{
 "cells": [
  {
   "cell_type": "code",
   "execution_count": 1,
   "metadata": {
    "collapsed": true
   },
   "outputs": [],
   "source": [
    "import pandas as pd\n",
    "import matplotlib.pyplot as plt\n",
    "%matplotlib inline"
   ]
  },
  {
   "cell_type": "markdown",
   "metadata": {},
   "source": [
    "### 1. Open your dataset up using pandas in a Jupyter notebook"
   ]
  },
  {
   "cell_type": "code",
   "execution_count": 7,
   "metadata": {
    "collapsed": false
   },
   "outputs": [],
   "source": [
    "df = pd.read_csv(\"India.csv\")"
   ]
  },
  {
   "cell_type": "code",
   "execution_count": 8,
   "metadata": {
    "collapsed": false
   },
   "outputs": [
    {
     "data": {
      "text/plain": [
       "Index(['id', 'name', 'company_type', 'locations', 'quality',\n",
       "       'company_size(upper limit)', 'follower_count', 'high_concept',\n",
       "       'markets', 'angellist_url'],\n",
       "      dtype='object')"
      ]
     },
     "execution_count": 8,
     "metadata": {},
     "output_type": "execute_result"
    }
   ],
   "source": [
    "df.columns"
   ]
  },
  {
   "cell_type": "markdown",
   "metadata": {},
   "source": [
    "### 2. Do a .head() to get a feel for your data"
   ]
  },
  {
   "cell_type": "code",
   "execution_count": 9,
   "metadata": {
    "collapsed": false
   },
   "outputs": [
    {
     "data": {
      "text/html": [
       "<div>\n",
       "<table border=\"1\" class=\"dataframe\">\n",
       "  <thead>\n",
       "    <tr style=\"text-align: right;\">\n",
       "      <th></th>\n",
       "      <th>id</th>\n",
       "      <th>name</th>\n",
       "      <th>company_type</th>\n",
       "      <th>locations</th>\n",
       "      <th>quality</th>\n",
       "      <th>company_size(upper limit)</th>\n",
       "      <th>follower_count</th>\n",
       "      <th>high_concept</th>\n",
       "      <th>markets</th>\n",
       "      <th>angellist_url</th>\n",
       "    </tr>\n",
       "  </thead>\n",
       "  <tbody>\n",
       "    <tr>\n",
       "      <th>0</th>\n",
       "      <td>1194302</td>\n",
       "      <td>Bhubaneswar Buzz</td>\n",
       "      <td>Marketing</td>\n",
       "      <td>Bhubaneswar</td>\n",
       "      <td>0</td>\n",
       "      <td>10</td>\n",
       "      <td>1</td>\n",
       "      <td>Social Media Marketing Startup with Odisha Focus</td>\n",
       "      <td>Social Media Marketing, Brand Marketing, Promo...</td>\n",
       "      <td>https://angel.co/bhubaneswar-buzz-1</td>\n",
       "    </tr>\n",
       "    <tr>\n",
       "      <th>1</th>\n",
       "      <td>1193791</td>\n",
       "      <td>Rice Bar</td>\n",
       "      <td>Food</td>\n",
       "      <td>Bangalore</td>\n",
       "      <td>0</td>\n",
       "      <td>10</td>\n",
       "      <td>1</td>\n",
       "      <td>Rice Bar ' An exotic Rice Adventure'</td>\n",
       "      <td>Food and Beverages, Specialty Foods, Organic Food</td>\n",
       "      <td>https://angel.co/rice-bar</td>\n",
       "    </tr>\n",
       "    <tr>\n",
       "      <th>2</th>\n",
       "      <td>1193420</td>\n",
       "      <td>vipra</td>\n",
       "      <td>Supply Chain</td>\n",
       "      <td>Bangalore</td>\n",
       "      <td>0</td>\n",
       "      <td>10</td>\n",
       "      <td>1</td>\n",
       "      <td>Creating an efficient supply chain for agricul...</td>\n",
       "      <td>Supply Chain Management</td>\n",
       "      <td>https://angel.co/vipra</td>\n",
       "    </tr>\n",
       "    <tr>\n",
       "      <th>3</th>\n",
       "      <td>1193385</td>\n",
       "      <td>Blackbuck Insights</td>\n",
       "      <td>Big Data</td>\n",
       "      <td>Chennai</td>\n",
       "      <td>0</td>\n",
       "      <td>10</td>\n",
       "      <td>3</td>\n",
       "      <td>Providing cost effective solutions using niche...</td>\n",
       "      <td>Business Intelligence, Big Data Analytics, Dat...</td>\n",
       "      <td>https://angel.co/blackbuck-insights</td>\n",
       "    </tr>\n",
       "    <tr>\n",
       "      <th>4</th>\n",
       "      <td>1193247</td>\n",
       "      <td>toto</td>\n",
       "      <td>Marketing</td>\n",
       "      <td>New Delhi</td>\n",
       "      <td>0</td>\n",
       "      <td>10</td>\n",
       "      <td>1</td>\n",
       "      <td>test</td>\n",
       "      <td>Private Social Networking</td>\n",
       "      <td>https://angel.co/toto-8</td>\n",
       "    </tr>\n",
       "  </tbody>\n",
       "</table>\n",
       "</div>"
      ],
      "text/plain": [
       "        id                name  company_type    locations  quality  \\\n",
       "0  1194302    Bhubaneswar Buzz     Marketing  Bhubaneswar        0   \n",
       "1  1193791            Rice Bar          Food    Bangalore        0   \n",
       "2  1193420               vipra  Supply Chain    Bangalore        0   \n",
       "3  1193385  Blackbuck Insights      Big Data      Chennai        0   \n",
       "4  1193247                toto     Marketing    New Delhi        0   \n",
       "\n",
       "   company_size(upper limit)  follower_count  \\\n",
       "0                         10               1   \n",
       "1                         10               1   \n",
       "2                         10               1   \n",
       "3                         10               3   \n",
       "4                         10               1   \n",
       "\n",
       "                                        high_concept  \\\n",
       "0   Social Media Marketing Startup with Odisha Focus   \n",
       "1               Rice Bar ' An exotic Rice Adventure'   \n",
       "2  Creating an efficient supply chain for agricul...   \n",
       "3  Providing cost effective solutions using niche...   \n",
       "4                                               test   \n",
       "\n",
       "                                             markets  \\\n",
       "0  Social Media Marketing, Brand Marketing, Promo...   \n",
       "1  Food and Beverages, Specialty Foods, Organic Food   \n",
       "2                            Supply Chain Management   \n",
       "3  Business Intelligence, Big Data Analytics, Dat...   \n",
       "4                          Private Social Networking   \n",
       "\n",
       "                         angellist_url  \n",
       "0  https://angel.co/bhubaneswar-buzz-1  \n",
       "1            https://angel.co/rice-bar  \n",
       "2               https://angel.co/vipra  \n",
       "3  https://angel.co/blackbuck-insights  \n",
       "4              https://angel.co/toto-8  "
      ]
     },
     "execution_count": 9,
     "metadata": {},
     "output_type": "execute_result"
    }
   ],
   "source": [
    "df.head()"
   ]
  },
  {
   "cell_type": "markdown",
   "metadata": {},
   "source": [
    "### 3. Write down 12 questions to ask your data, or 12 things to hunt for in the data"
   ]
  },
  {
   "cell_type": "markdown",
   "metadata": {},
   "source": [
    "1. Count the number of startups in each cities ?\n",
    "2. Find the city in which the highest number of startups in India.\n",
    "3. Find the domain in which the highest number of startups are from\n",
    "4. Find the domains in which the lowest number of startups are from\n",
    "5. How many startups are from the E-Commerce domain?\n",
    "6. How many startups are from media ?\n",
    "7. Count the number of startups with highest rating.\n",
    "8. Describe the company size of Bangalore-based startups\n",
    "9. Which company has the highest number of followers on Angel list ?\n",
    "10. Which company has the highest strength ?\n",
    "11. Count the strength of startups in Media domain\n",
    "12. What's the average size of a startup in India as given by this Angel list data set ?\n",
    "\n",
    "\n",
    "\n",
    " \n"
   ]
  },
  {
   "cell_type": "markdown",
   "metadata": {},
   "source": [
    "### 1. Count the number of startups in each cities ?"
   ]
  },
  {
   "cell_type": "code",
   "execution_count": 13,
   "metadata": {
    "collapsed": false
   },
   "outputs": [
    {
     "data": {
      "text/plain": [
       "Bangalore        30\n",
       "New Delhi        20\n",
       "Mumbai           14\n",
       "Pune              7\n",
       "Gurgaon           5\n",
       "Chennai           5\n",
       "India             3\n",
       "Noida             3\n",
       "Hyderabad         3\n",
       "Chandigarh        2\n",
       "Bhubaneswar       2\n",
       "Visakhapatnam     1\n",
       "Jaipur            1\n",
       "Delhi             1\n",
       "Ludhiana          1\n",
       "Kochi             1\n",
       "Bhopal            1\n",
       "Jodhpur           1\n",
       "Calcutta          1\n",
       "Name: locations, dtype: int64"
      ]
     },
     "execution_count": 13,
     "metadata": {},
     "output_type": "execute_result"
    }
   ],
   "source": [
    "df[\"locations\"].value_counts()"
   ]
  },
  {
   "cell_type": "markdown",
   "metadata": {},
   "source": [
    "### 2. Find the city in which the highest number of startups in India. "
   ]
  },
  {
   "cell_type": "code",
   "execution_count": 18,
   "metadata": {
    "collapsed": false
   },
   "outputs": [
    {
     "data": {
      "text/plain": [
       "Bangalore    30\n",
       "Name: locations, dtype: int64"
      ]
     },
     "execution_count": 18,
     "metadata": {},
     "output_type": "execute_result"
    }
   ],
   "source": [
    "df[\"locations\"].value_counts().head(1)"
   ]
  },
  {
   "cell_type": "markdown",
   "metadata": {},
   "source": [
    "### 3. Find the domain in which the highest number of startups are from"
   ]
  },
  {
   "cell_type": "code",
   "execution_count": 19,
   "metadata": {
    "collapsed": false
   },
   "outputs": [
    {
     "data": {
      "text/plain": [
       "E-Commerce               19\n",
       "Mobile                   10\n",
       "Marketing                10\n",
       "Healthcare Technology     5\n",
       "HR                        4\n",
       "Education                 4\n",
       "Food                      4\n",
       "Software                  4\n",
       "Travel and Tourism        4\n",
       "Web Development           4\n",
       "Lifestyle                 3\n",
       "Services                  3\n",
       "Finance                   3\n",
       "Logistics                 2\n",
       "Big Data                  2\n",
       "Agriculture               2\n",
       "AI                        2\n",
       "Housing                   2\n",
       "Automotive                2\n",
       "Games                     2\n",
       "Media                     2\n",
       "Pharmaceuticals           1\n",
       "Aerospace                 1\n",
       "Footwear                  1\n",
       "Supply Chain              1\n",
       "Legal Tech                1\n",
       "Energy                    1\n",
       "IT                        1\n",
       "Social Media              1\n",
       "UI Design                 1\n",
       "Name: company_type, dtype: int64"
      ]
     },
     "execution_count": 19,
     "metadata": {},
     "output_type": "execute_result"
    }
   ],
   "source": [
    "df['company_type'].value_counts()"
   ]
  },
  {
   "cell_type": "code",
   "execution_count": 20,
   "metadata": {
    "collapsed": false
   },
   "outputs": [
    {
     "data": {
      "text/plain": [
       "E-Commerce    19\n",
       "Name: company_type, dtype: int64"
      ]
     },
     "execution_count": 20,
     "metadata": {},
     "output_type": "execute_result"
    }
   ],
   "source": [
    "df['company_type'].value_counts().head(1)"
   ]
  },
  {
   "cell_type": "markdown",
   "metadata": {},
   "source": [
    "### 4. Find the domains in which the lowest number of startups are from"
   ]
  },
  {
   "cell_type": "code",
   "execution_count": 34,
   "metadata": {
    "collapsed": false
   },
   "outputs": [
    {
     "data": {
      "text/plain": [
       "E-Commerce               False\n",
       "Mobile                   False\n",
       "Marketing                False\n",
       "Healthcare Technology    False\n",
       "HR                       False\n",
       "Education                False\n",
       "Food                     False\n",
       "Software                 False\n",
       "Travel and Tourism       False\n",
       "Web Development          False\n",
       "Lifestyle                False\n",
       "Services                 False\n",
       "Finance                  False\n",
       "Logistics                False\n",
       "Big Data                 False\n",
       "Agriculture              False\n",
       "AI                       False\n",
       "Housing                  False\n",
       "Automotive               False\n",
       "Games                    False\n",
       "Media                    False\n",
       "Pharmaceuticals           True\n",
       "Aerospace                 True\n",
       "Footwear                  True\n",
       "Supply Chain              True\n",
       "Legal Tech                True\n",
       "Energy                    True\n",
       "IT                        True\n",
       "Social Media              True\n",
       "UI Design                 True\n",
       "Name: company_type, dtype: bool"
      ]
     },
     "execution_count": 34,
     "metadata": {},
     "output_type": "execute_result"
    }
   ],
   "source": [
    "df['company_type'].value_counts() == 1\n",
    "\n"
   ]
  },
  {
   "cell_type": "code",
   "execution_count": 36,
   "metadata": {
    "collapsed": false
   },
   "outputs": [
    {
     "data": {
      "text/plain": [
       "company_type        locations    \n",
       "AI                  Bangalore        2\n",
       "Aerospace           Bangalore        1\n",
       "Agriculture         Bangalore        1\n",
       "                    Pune             1\n",
       "Automotive          Bangalore        1\n",
       "                    New Delhi        1\n",
       "Big Data            Chennai          1\n",
       "                    Ludhiana         1\n",
       "E-Commerce          Bangalore        7\n",
       "                    New Delhi        3\n",
       "                    Chennai          2\n",
       "                    Mumbai           2\n",
       "                    Pune             2\n",
       "                    Bhopal           1\n",
       "                    Hyderabad        1\n",
       "                    Kochi            1\n",
       "Education           New Delhi        2\n",
       "                    Calcutta         1\n",
       "                    Hyderabad        1\n",
       "Energy              Bangalore        1\n",
       "Finance             Mumbai           2\n",
       "                    Gurgaon          1\n",
       "Food                Bangalore        1\n",
       "                    Hyderabad        1\n",
       "                    Mumbai           1\n",
       "                    New Delhi        1\n",
       "Footwear            Noida            1\n",
       "Games               Bangalore        1\n",
       "                    Noida            1\n",
       "HR                  New Delhi        2\n",
       "                                    ..\n",
       "Marketing           Gurgaon          1\n",
       "                    Mumbai           1\n",
       "                    Pune             1\n",
       "Media               New Delhi        1\n",
       "                    Visakhapatnam    1\n",
       "Mobile              Bangalore        3\n",
       "                    Mumbai           2\n",
       "                    Chennai          1\n",
       "                    Delhi            1\n",
       "                    Gurgaon          1\n",
       "                    India            1\n",
       "                    New Delhi        1\n",
       "Pharmaceuticals     New Delhi        1\n",
       "Services            Chennai          1\n",
       "                    India            1\n",
       "                    Mumbai           1\n",
       "Social Media        Jodhpur          1\n",
       "Software            Bangalore        2\n",
       "                    Gurgaon          1\n",
       "                    Pune             1\n",
       "Supply Chain        Bangalore        1\n",
       "Travel and Tourism  Bangalore        1\n",
       "                    India            1\n",
       "                    Mumbai           1\n",
       "                    Noida            1\n",
       "UI Design           Pune             1\n",
       "Web Development     Bangalore        1\n",
       "                    Chandigarh       1\n",
       "                    New Delhi        1\n",
       "                    Pune             1\n",
       "Name: locations, dtype: int64"
      ]
     },
     "execution_count": 36,
     "metadata": {},
     "output_type": "execute_result"
    }
   ],
   "source": [
    "df.groupby(\"company_type\")['locations'].value_counts()"
   ]
  },
  {
   "cell_type": "code",
   "execution_count": null,
   "metadata": {
    "collapsed": true
   },
   "outputs": [],
   "source": []
  }
 ],
 "metadata": {
  "kernelspec": {
   "display_name": "Python 3",
   "language": "python",
   "name": "python3"
  },
  "language_info": {
   "codemirror_mode": {
    "name": "ipython",
    "version": 3
   },
   "file_extension": ".py",
   "mimetype": "text/x-python",
   "name": "python",
   "nbconvert_exporter": "python",
   "pygments_lexer": "ipython3",
   "version": "3.5.1"
  }
 },
 "nbformat": 4,
 "nbformat_minor": 0
}
