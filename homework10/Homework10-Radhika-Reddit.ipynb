{
 "cells": [
  {
   "cell_type": "code",
   "execution_count": 4,
   "metadata": {
    "collapsed": false
   },
   "outputs": [],
   "source": [
    "import requests\n",
    "from bs4 import BeautifulSoup\n",
    "headers = {'User-Agent': 'Mozilla/5.0 (Macintosh; Intel Mac OS X 10_10_1) AppleWebKit/537.36 (KHTML, like Gecko) Chrome/39.0.2171.95 Safari/537.36'}\n",
    "response = requests.get(\"https://www.reddit.com/\", headers=headers)\n",
    "doc = BeautifulSoup(response.text, 'html.parser')"
   ]
  },
  {
   "cell_type": "code",
   "execution_count": 5,
   "metadata": {
    "collapsed": true
   },
   "outputs": [],
   "source": [
    "import pandas as pd"
   ]
  },
  {
   "cell_type": "code",
   "execution_count": 6,
   "metadata": {
    "collapsed": false
   },
   "outputs": [],
   "source": [
    "#doc"
   ]
  },
  {
   "cell_type": "markdown",
   "metadata": {},
   "source": [
    "#### The title of the post"
   ]
  },
  {
   "cell_type": "code",
   "execution_count": 7,
   "metadata": {
    "collapsed": false
   },
   "outputs": [
    {
     "data": {
      "text/plain": [
       "'PsBattle: This 48 Hour Film Contest Green Screen PosterBattle (i.redd.it)'"
      ]
     },
     "execution_count": 7,
     "metadata": {},
     "output_type": "execute_result"
    }
   ],
   "source": [
    "def title(my_dict):\n",
    "    title = doc.find_all(\"p\", { 'class': 'title'})\n",
    "    for i in title:\n",
    "        return (i.text.strip())\n",
    "title(doc)"
   ]
  },
  {
   "cell_type": "markdown",
   "metadata": {},
   "source": [
    "#### The number of votes it has (the number between the up and down arrows)"
   ]
  },
  {
   "cell_type": "code",
   "execution_count": 8,
   "metadata": {
    "collapsed": false,
    "scrolled": true
   },
   "outputs": [
    {
     "data": {
      "text/plain": [
       "0"
      ]
     },
     "execution_count": 8,
     "metadata": {},
     "output_type": "execute_result"
    }
   ],
   "source": [
    "def votes(my_dict):\n",
    "    voted = doc.find_all(\"div\", { 'class': 'score unvoted'})\n",
    "    for i in voted:\n",
    "        #print(i.text)\n",
    "        if i.text == \"•\":\n",
    "            return 0\n",
    "        else:\n",
    "            return (i.text.strip())\n",
    "votes(doc)"
   ]
  },
  {
   "cell_type": "code",
   "execution_count": 9,
   "metadata": {
    "collapsed": true
   },
   "outputs": [],
   "source": [
    "#### The number of comments it has"
   ]
  },
  {
   "cell_type": "code",
   "execution_count": 10,
   "metadata": {
    "collapsed": false
   },
   "outputs": [
    {
     "data": {
      "text/plain": [
       "'1 comment'"
      ]
     },
     "execution_count": 10,
     "metadata": {},
     "output_type": "execute_result"
    }
   ],
   "source": [
    "def comments(my_dict):\n",
    "    comm = doc.find_all(\"li\", { 'class': 'first'})\n",
    "    for i in comm:\n",
    "        if i.text == \"comment\":\n",
    "            return \"no comments\"\n",
    "        else:\n",
    "            return (i.text.strip())     \n",
    "comments(doc)"
   ]
  },
  {
   "cell_type": "code",
   "execution_count": 11,
   "metadata": {
    "collapsed": false
   },
   "outputs": [],
   "source": [
    "#comm = doc.find_all(\"li\", { 'class': 'first'})\n",
    "#for i in comm:\n",
    "        #if i.text == \"comment\":\n",
    "            #print(0)\n",
    "        #else:\n",
    "            #print(i.text)"
   ]
  },
  {
   "cell_type": "markdown",
   "metadata": {},
   "source": [
    "#### What subreddit it is from (e.g. /r/AskReddit, /r/todayilearned)"
   ]
  },
  {
   "cell_type": "code",
   "execution_count": 12,
   "metadata": {
    "collapsed": false
   },
   "outputs": [],
   "source": [
    "#sub = doc.find_all (\"p\", {'class': 'tagline'})\n",
    "#for i in sub:\n",
    "    #subred = doc.find_all(\"a\", {'class': 'subreddit hover may-blank'})\n",
    "    #for i in subred:\n",
    "        #print(i.text)"
   ]
  },
  {
   "cell_type": "code",
   "execution_count": 13,
   "metadata": {
    "collapsed": false
   },
   "outputs": [
    {
     "data": {
      "text/plain": [
       "'/r/photoshopbattles'"
      ]
     },
     "execution_count": 13,
     "metadata": {},
     "output_type": "execute_result"
    }
   ],
   "source": [
    "def subreddit(my_dict):\n",
    "    sub = doc.find_all (\"p\", {'class': 'tagline'})\n",
    "    for i in sub:\n",
    "        subred = doc.find_all(\"a\", {'class': 'subreddit hover may-blank'})\n",
    "        for i in subred:\n",
    "            return (i.text.strip())\n",
    "subreddit(doc)"
   ]
  },
  {
   "cell_type": "markdown",
   "metadata": {},
   "source": [
    "#### When it was posted (get a TIMESTAMP, e.g. 2016-06-22T12:33:58+00:00, not \"4 hours ago\")"
   ]
  },
  {
   "cell_type": "code",
   "execution_count": 14,
   "metadata": {
    "collapsed": false
   },
   "outputs": [
    {
     "data": {
      "text/plain": [
       "'2016-06-24T22:23:45+00:00'"
      ]
     },
     "execution_count": 14,
     "metadata": {},
     "output_type": "execute_result"
    }
   ],
   "source": [
    "def timestamp(my_dict):\n",
    "    sub = doc.find_all (\"p\", {'class': 'tagline'})\n",
    "    for i in sub:\n",
    "        time_tag = i.find('time')['datetime']\n",
    "        return time_tag\n",
    "timestamp(doc)    "
   ]
  },
  {
   "cell_type": "code",
   "execution_count": 15,
   "metadata": {
    "collapsed": false
   },
   "outputs": [],
   "source": [
    "#sub = doc.find_all (\"p\", {'class': 'tagline'})\n",
    "#for i in sub:\n",
    "   # time_tag = i.find('time')['datetime']\n",
    "    #print(time_tag)"
   ]
  },
  {
   "cell_type": "markdown",
   "metadata": {},
   "source": [
    "#### The URL to the post itself"
   ]
  },
  {
   "cell_type": "code",
   "execution_count": 16,
   "metadata": {
    "collapsed": false
   },
   "outputs": [
    {
     "data": {
      "text/plain": [
       "'https://i.redd.it/qra6g34qcb5x.jpg'"
      ]
     },
     "execution_count": 16,
     "metadata": {},
     "output_type": "execute_result"
    }
   ],
   "source": [
    "def url(my_dict):\n",
    "    url_all = doc.find_all (\"p\", {'class': 'title'})\n",
    "    for i in url_all:\n",
    "        url_tag = i.find('a')['href']\n",
    "        return url_tag\n",
    "url(doc)"
   ]
  },
  {
   "cell_type": "code",
   "execution_count": 17,
   "metadata": {
    "collapsed": false
   },
   "outputs": [],
   "source": [
    "#url = doc.find_all (\"p\", {'class': 'title'})\n",
    "#for i in url:\n",
    "    #url_tag = i.find('a')['href']\n",
    "    #print(url_tag)"
   ]
  },
  {
   "cell_type": "markdown",
   "metadata": {},
   "source": [
    "#### The URL of the thumbnail image associated with the post"
   ]
  },
  {
   "cell_type": "code",
   "execution_count": 18,
   "metadata": {
    "collapsed": false
   },
   "outputs": [
    {
     "data": {
      "text/plain": [
       "'//b.thumbs.redditmedia.com/g3ATLQjI5g-LVcwxVmnp3W6JiGHSdwD99sJjYcOXYSg.jpg'"
      ]
     },
     "execution_count": 18,
     "metadata": {},
     "output_type": "execute_result"
    }
   ],
   "source": [
    "def image(my_dict):\n",
    "    image = doc.find_all(\"a\", {'class': 'thumbnail may-blank '})\n",
    "    for i in image:\n",
    "        x = i.find('img')['src']\n",
    "        return x\n",
    "image(doc)  "
   ]
  },
  {
   "cell_type": "code",
   "execution_count": 19,
   "metadata": {
    "collapsed": false
   },
   "outputs": [],
   "source": [
    "#image = doc.find_all(\"a\", {'class': 'thumbnail may-blank '})\n",
    "#for i in image:\n",
    "    #x = i.find('img')['src']\n",
    "    #print(x)\n",
    "    "
   ]
  },
  {
   "cell_type": "markdown",
   "metadata": {},
   "source": [
    "### Creating a CSV"
   ]
  },
  {
   "cell_type": "code",
   "execution_count": 22,
   "metadata": {
    "collapsed": false
   },
   "outputs": [],
   "source": [
    "all_redit = []\n",
    "this_story = {}\n",
    "# Grab their headlines and bylines\n",
    "this_story['TITLE']= title(doc)\n",
    "this_story['Votes'] = votes(doc) \n",
    "this_story['Comments']= comments(doc) \n",
    "this_story['Subredit'] = subreddit(doc)\n",
    "this_story['Timestamp'] = timestamp(doc) \n",
    "this_story['URL'] = url(doc) \n",
    "this_story['URL of Thumbnail'] = image(doc)\n",
    "all_redit.append(this_story)"
   ]
  },
  {
   "cell_type": "code",
   "execution_count": 24,
   "metadata": {
    "collapsed": false
   },
   "outputs": [],
   "source": [
    "#all_redit"
   ]
  },
  {
   "cell_type": "code",
   "execution_count": null,
   "metadata": {
    "collapsed": false
   },
   "outputs": [],
   "source": [
    "redit_df = pd.DataFrame(all_redit)\n",
    "redit_df.head()"
   ]
  },
  {
   "cell_type": "code",
   "execution_count": null,
   "metadata": {
    "collapsed": true
   },
   "outputs": [],
   "source": [
    "redit_df.to_csv(\"redit-data.csv\")"
   ]
  },
  {
   "cell_type": "code",
   "execution_count": null,
   "metadata": {
    "collapsed": true
   },
   "outputs": [],
   "source": [
    "import time"
   ]
  },
  {
   "cell_type": "code",
   "execution_count": null,
   "metadata": {
    "collapsed": false
   },
   "outputs": [],
   "source": [
    "datestring = time.strftime(\"%Y-%m-%d-%H-%M\")\n",
    "datestring"
   ]
  },
  {
   "cell_type": "code",
   "execution_count": null,
   "metadata": {
    "collapsed": false
   },
   "outputs": [],
   "source": [
    "now = time.strftime(\"%B %d, %Y\")\n",
    "now"
   ]
  },
  {
   "cell_type": "code",
   "execution_count": null,
   "metadata": {
    "collapsed": true
   },
   "outputs": [],
   "source": [
    "filename = \"redit-data-\" + datestring + \".csv\"\n",
    "my_file = redit_df.to_csv(filename, index=False)"
   ]
  },
  {
   "cell_type": "code",
   "execution_count": null,
   "metadata": {
    "collapsed": true
   },
   "outputs": [],
   "source": [
    "key = 'key-f5edb244ca7303dc63f079a4cdb97f73'\n",
    "sandbox = 'sandbox3b984a674a954bcf8c5f2dca397bc3c1.mailgun.org'\n",
    "recipient = 'radhika.dwaraka@gmail.com'"
   ]
  },
  {
   "cell_type": "code",
   "execution_count": 27,
   "metadata": {
    "collapsed": false
   },
   "outputs": [
    {
     "ename": "FileNotFoundError",
     "evalue": "[Errno 2] No such file or directory: 'my_file'",
     "output_type": "error",
     "traceback": [
      "\u001b[1;31m---------------------------------------------------------------------------\u001b[0m",
      "\u001b[1;31mFileNotFoundError\u001b[0m                         Traceback (most recent call last)",
      "\u001b[1;32m<ipython-input-27-161f0098f9ba>\u001b[0m in \u001b[0;36m<module>\u001b[1;34m()\u001b[0m\n\u001b[0;32m      1\u001b[0m \u001b[0mrequest_url\u001b[0m \u001b[1;33m=\u001b[0m \u001b[1;34m'https://api.mailgun.net/v2/{0}/messages'\u001b[0m\u001b[1;33m.\u001b[0m\u001b[0mformat\u001b[0m\u001b[1;33m(\u001b[0m\u001b[0msandbox\u001b[0m\u001b[1;33m)\u001b[0m\u001b[1;33m\u001b[0m\u001b[0m\n\u001b[1;32m----> 2\u001b[1;33m request = requests.post(request_url, auth=('api', key), files=[(\"attachment\", open(\"my_file\"))], data={\n\u001b[0m\u001b[0;32m      3\u001b[0m     \u001b[1;34m'from'\u001b[0m\u001b[1;33m:\u001b[0m \u001b[1;34m'hello@example.com'\u001b[0m\u001b[1;33m,\u001b[0m\u001b[1;33m\u001b[0m\u001b[0m\n\u001b[0;32m      4\u001b[0m     \u001b[1;34m'to'\u001b[0m\u001b[1;33m:\u001b[0m \u001b[0mrecipient\u001b[0m\u001b[1;33m,\u001b[0m\u001b[1;33m\u001b[0m\u001b[0m\n\u001b[0;32m      5\u001b[0m     \u001b[1;34m'subject'\u001b[0m\u001b[1;33m:\u001b[0m \u001b[1;34m\"Reddit This Morning:\"\u001b[0m \u001b[1;33m+\u001b[0m \u001b[0mnow\u001b[0m\u001b[1;33m,\u001b[0m\u001b[1;33m\u001b[0m\u001b[0m\n",
      "\u001b[1;31mFileNotFoundError\u001b[0m: [Errno 2] No such file or directory: 'my_file'"
     ]
    }
   ],
   "source": [
    "request_url = 'https://api.mailgun.net/v2/{0}/messages'.format(sandbox)\n",
    "request = requests.post(request_url, auth=('api', key), files=[(\"attachment\", open(\"my_file\"))], data={\n",
    "    'from': 'radhika.dwaraka@gmail.com',\n",
    "    'to': recipient,\n",
    "    'subject': \"Reddit This Morning:\" + now,\n",
    "    'text': 'Reddit Updates from My Server',\n",
    "})\n",
    "print('Status: {0}'.format(request.status_code))\n",
    "print('Body:   {0}'.format(request.text))"
   ]
  },
  {
   "cell_type": "code",
   "execution_count": null,
   "metadata": {
    "collapsed": true
   },
   "outputs": [],
   "source": []
  }
 ],
 "metadata": {
  "kernelspec": {
   "display_name": "Python 3",
   "language": "python",
   "name": "python3"
  },
  "language_info": {
   "codemirror_mode": {
    "name": "ipython",
    "version": 3
   },
   "file_extension": ".py",
   "mimetype": "text/x-python",
   "name": "python",
   "nbconvert_exporter": "python",
   "pygments_lexer": "ipython3",
   "version": "3.5.1"
  }
 },
 "nbformat": 4,
 "nbformat_minor": 0
}
