{
 "cells": [
  {
   "cell_type": "markdown",
   "metadata": {},
   "source": [
    "### APIs/Data Structures\n",
    "\n",
    "#### Forecasts Part One: Getting data\n",
    "\n",
    "Using the Dark Sky Forecast API at https://developer.forecast.io/, generate a sentence that describes the weather that day.\n",
    "\n",
    "Right now it is TEMPERATURE degrees out and SUMMARY. Today will be TEMP_FEELING with a high of HIGH_TEMP and a low of LOW_TEMP. RAIN_WARNING."
   ]
  },
  {
   "cell_type": "code",
   "execution_count": 1,
   "metadata": {
    "collapsed": true
   },
   "outputs": [],
   "source": [
    "import requests"
   ]
  },
  {
   "cell_type": "code",
   "execution_count": 5,
   "metadata": {
    "collapsed": true
   },
   "outputs": [],
   "source": [
    "import dateutil.parser\n",
    "import datetime"
   ]
  },
  {
   "cell_type": "code",
   "execution_count": 2,
   "metadata": {
    "collapsed": true
   },
   "outputs": [],
   "source": [
    "response = requests.get('https://api.forecast.io/forecast/4da699cf85f9706ce50848a7e59591b7/40.712784,-74.005941')\n",
    "data = response.json()"
   ]
  },
  {
   "cell_type": "code",
   "execution_count": 54,
   "metadata": {
    "collapsed": false
   },
   "outputs": [],
   "source": [
    "#data\n"
   ]
  },
  {
   "cell_type": "code",
   "execution_count": 55,
   "metadata": {
    "collapsed": false
   },
   "outputs": [],
   "source": [
    "#data.keys()"
   ]
  },
  {
   "cell_type": "code",
   "execution_count": 56,
   "metadata": {
    "collapsed": false
   },
   "outputs": [],
   "source": [
    "#data_list = data['daily']['data']\n",
    "\n",
    "#for i in data_list:\n",
    "    #print(i)"
   ]
  },
  {
   "cell_type": "code",
   "execution_count": 57,
   "metadata": {
    "collapsed": false
   },
   "outputs": [],
   "source": [
    "#data['currently']['temperature']"
   ]
  },
  {
   "cell_type": "code",
   "execution_count": 43,
   "metadata": {
    "collapsed": false
   },
   "outputs": [
    {
     "data": {
      "text/plain": [
       "'63.2'"
      ]
     },
     "execution_count": 43,
     "metadata": {},
     "output_type": "execute_result"
    }
   ],
   "source": [
    "def temp(my_dict):\n",
    "    temperature = my_dict['currently']['temperature']\n",
    "    temper = str(temperature)\n",
    "    return temper\n",
    "\n",
    "temp(data)"
   ]
  },
  {
   "cell_type": "code",
   "execution_count": 18,
   "metadata": {
    "collapsed": false
   },
   "outputs": [
    {
     "data": {
      "text/plain": [
       "'partly cloudy'"
      ]
     },
     "execution_count": 18,
     "metadata": {},
     "output_type": "execute_result"
    }
   ],
   "source": [
    "def summ(my_dict):\n",
    "    summary = my_dict['currently']['summary']\n",
    "    l = summary.lower()\n",
    "    return l\n",
    "\n",
    "summ(data)"
   ]
  },
  {
   "cell_type": "code",
   "execution_count": 44,
   "metadata": {
    "collapsed": false
   },
   "outputs": [
    {
     "data": {
      "text/plain": [
       "'66.12'"
      ]
     },
     "execution_count": 44,
     "metadata": {},
     "output_type": "execute_result"
    }
   ],
   "source": [
    "def high_temp(my_dict):\n",
    "    TempMax = data['daily']['data']\n",
    "    for i in TempMax:\n",
    "        h_temp = str(i['temperatureMax'])\n",
    "        return h_temp\n",
    "high_temp(data)"
   ]
  },
  {
   "cell_type": "code",
   "execution_count": 20,
   "metadata": {
    "collapsed": false
   },
   "outputs": [
    {
     "data": {
      "text/plain": [
       "'warm'"
      ]
     },
     "execution_count": 20,
     "metadata": {},
     "output_type": "execute_result"
    }
   ],
   "source": [
    "def temp_feel(my_dict):\n",
    "    TemMax = data['daily']['data']\n",
    "    for i in TemMax:\n",
    "        hi_temp = i['temperatureMax']\n",
    "        if hi_temp > 80:\n",
    "            return \"high\"\n",
    "        if hi_temp > 70:\n",
    "            return \"moderate\"\n",
    "        if hi_temp > 50:\n",
    "            return \"warm\"\n",
    "        if hi_temp > 30:\n",
    "            return \"cool\"\n",
    "        if hi_temp < 30:\n",
    "            return \"cold\"\n",
    "temp_feel(data)"
   ]
  },
  {
   "cell_type": "code",
   "execution_count": 45,
   "metadata": {
    "collapsed": false
   },
   "outputs": [
    {
     "data": {
      "text/plain": [
       "'54.22'"
      ]
     },
     "execution_count": 45,
     "metadata": {},
     "output_type": "execute_result"
    }
   ],
   "source": [
    "def low_temp(my_dict):\n",
    "    TempMin = data['daily']['data']\n",
    "    for i in TempMin:\n",
    "        l_temp = str(i['temperatureMin'])\n",
    "        return l_temp\n",
    "low_temp(data)"
   ]
  },
  {
   "cell_type": "code",
   "execution_count": 52,
   "metadata": {
    "collapsed": false
   },
   "outputs": [
    {
     "data": {
      "text/plain": [
       "'Very light rain!'"
      ]
     },
     "execution_count": 52,
     "metadata": {},
     "output_type": "execute_result"
    }
   ],
   "source": [
    "def rain_warning(my_dict):\n",
    "    data_list = data['daily']['data']\n",
    "\n",
    "    for i in data_list:\n",
    "        rain_prob = float(i['precipIntensity'])\n",
    "        #print(type(rain_prob))\n",
    "        if rain_prob > 0.002:\n",
    "            return \"Very light rain!\"\n",
    "        if rain_prob > 0.017:\n",
    "            return \"Light rain, you may bring your umbrella\"\n",
    "        if rain_prob > 0.1:\n",
    "            return \"Moderate rain, you need an umbrella!\"\n",
    "        if rain_prob > 0.4:\n",
    "            return \"Heavy rain, don't miss your umbrella\"\n",
    "rain_warning(data)"
   ]
  },
  {
   "cell_type": "code",
   "execution_count": 53,
   "metadata": {
    "collapsed": false
   },
   "outputs": [
    {
     "data": {
      "text/plain": [
       "'Right now it is 63.2 degrees out and partly cloudy. Today will be warm with a high temperature of 66.12 and a low temperature of 54.22.Very light rain!'"
      ]
     },
     "execution_count": 53,
     "metadata": {},
     "output_type": "execute_result"
    }
   ],
   "source": [
    "def eq_to_sentence(my_dict):\n",
    "    return \"Right now it is \" + temp(my_dict) + \" degrees out and \" + summ(my_dict) + \". Today will be \" + temp_feel(my_dict) + \" with a high temperature of \" + high_temp(my_dict) + \" and a low temperature of \" + low_temp(my_dict) + \".\" + rain_warning(my_dict)\n",
    "eq_to_sentence(data)"
   ]
  },
  {
   "cell_type": "code",
   "execution_count": 58,
   "metadata": {
    "collapsed": true
   },
   "outputs": [],
   "source": [
    "import requests"
   ]
  },
  {
   "cell_type": "code",
   "execution_count": 59,
   "metadata": {
    "collapsed": true
   },
   "outputs": [],
   "source": [
    "key = 'key-f5edb244ca7303dc63f079a4cdb97f73'\n",
    "sandbox = 'sandbox3b984a674a954bcf8c5f2dca397bc3c1.mailgun.org'\n",
    "recipient = 'radhika.dwaraka@gmail.com'\n"
   ]
  },
  {
   "cell_type": "code",
   "execution_count": 68,
   "metadata": {
    "collapsed": false
   },
   "outputs": [
    {
     "name": "stdout",
     "output_type": "stream",
     "text": [
      "Status: 200\n",
      "Body:   {\n",
      "  \"id\": \"<20160622194851.10177.69645.71D405A2@sandbox3b984a674a954bcf8c5f2dca397bc3c1.mailgun.org>\",\n",
      "  \"message\": \"Queued. Thank you.\"\n",
      "}\n"
     ]
    }
   ],
   "source": [
    "request_url = 'https://api.mailgun.net/v2/{0}/messages'.format(sandbox)\n",
    "request = requests.post(request_url, auth=('api', key), data={\n",
    "    'from': 'hello@example.com',\n",
    "    'to': recipient,\n",
    "    'subject': \"Today's Weather forecast\",\n",
    "    'text': 'Hello from My Server'\n",
    "})\n",
    "print('Status: {0}'.format(request.status_code))\n",
    "print('Body:   {0}'.format(request.text))"
   ]
  },
  {
   "cell_type": "code",
   "execution_count": 69,
   "metadata": {
    "collapsed": false
   },
   "outputs": [
    {
     "name": "stdout",
     "output_type": "stream",
     "text": [
      "Status: 200\n",
      "Body:   {\n",
      "  \"items\": [\n",
      "    {\n",
      "      \"tags\": [], \n",
      "      \"envelope\": {\n",
      "        \"transport\": \"smtp\", \n",
      "        \"sender\": \"postmaster@sandbox3b984a674a954bcf8c5f2dca397bc3c1.mailgun.org\", \n",
      "        \"sending-ip\": \"209.61.151.224\", \n",
      "        \"targets\": \"radhika.dwaraka@gmail.com\"\n",
      "      }, \n",
      "      \"storage\": {\n",
      "        \"url\": \"https://api.mailgun.net/v2/domains/sandbox3b984a674a954bcf8c5f2dca397bc3c1.mailgun.org/messages/eyJwIjpmYWxzZSwiayI6ImNjNDM4ZGRjLTcxZjctNGFjYy1iYjRiLTRhNDc4OWRjYjZjZCIsInMiOiI0OTIwYzE4MWY4IiwiYyI6InNhaWFkIn0=\", \n",
      "        \"key\": \"eyJwIjpmYWxzZSwiayI6ImNjNDM4ZGRjLTcxZjctNGFjYy1iYjRiLTRhNDc4OWRjYjZjZCIsInMiOiI0OTIwYzE4MWY4IiwiYyI6InNhaWFkIn0=\"\n",
      "      }, \n",
      "      \"recipient-domain\": \"gmail.com\", \n",
      "      \"id\": \"l4euw2p9RdO7xv7XWpkszw\", \n",
      "      \"campaigns\": [], \n",
      "      \"user-variables\": {}, \n",
      "      \"flags\": {\n",
      "        \"is-routed\": null, \n",
      "        \"is-authenticated\": true, \n",
      "        \"is-system-test\": false, \n",
      "        \"is-test-mode\": false\n",
      "      }, \n",
      "      \"log-level\": \"info\", \n",
      "      \"timestamp\": 1466624932.120251, \n",
      "      \"message\": {\n",
      "        \"headers\": {\n",
      "          \"to\": \"radhika.dwaraka@gmail.com\", \n",
      "          \"message-id\": \"20160622194851.10177.69645.71D405A2@sandbox3b984a674a954bcf8c5f2dca397bc3c1.mailgun.org\", \n",
      "          \"from\": \"hello@example.com\", \n",
      "          \"subject\": \"Hello\"\n",
      "        }, \n",
      "        \"attachments\": [], \n",
      "        \"recipients\": [\n",
      "          \"radhika.dwaraka@gmail.com\"\n",
      "        ], \n",
      "        \"size\": 525\n",
      "      }, \n",
      "      \"recipient\": \"radhika.dwaraka@gmail.com\", \n",
      "      \"event\": \"delivered\", \n",
      "      \"delivery-status\": {\n",
      "        \"tls\": true, \n",
      "        \"mx-host\": \"gmail-smtp-in.l.google.com\", \n",
      "        \"code\": 0, \n",
      "        \"description\": null, \n",
      "        \"session-seconds\": 0.312575101852417, \n",
      "        \"message\": \"\", \n",
      "        \"certificate-verified\": true\n",
      "      }\n",
      "    }, \n",
      "    {\n",
      "      \"tags\": [], \n",
      "      \"timestamp\": 1466624931.748481, \n",
      "      \"storage\": {\n",
      "        \"url\": \"https://api.mailgun.net/v2/domains/sandbox3b984a674a954bcf8c5f2dca397bc3c1.mailgun.org/messages/eyJwIjpmYWxzZSwiayI6ImNjNDM4ZGRjLTcxZjctNGFjYy1iYjRiLTRhNDc4OWRjYjZjZCIsInMiOiI0OTIwYzE4MWY4IiwiYyI6InNhaWFkIn0=\", \n",
      "        \"key\": \"eyJwIjpmYWxzZSwiayI6ImNjNDM4ZGRjLTcxZjctNGFjYy1iYjRiLTRhNDc4OWRjYjZjZCIsInMiOiI0OTIwYzE4MWY4IiwiYyI6InNhaWFkIn0=\"\n",
      "      }, \n",
      "      \"envelope\": {\n",
      "        \"sender\": \"postmaster@sandbox3b984a674a954bcf8c5f2dca397bc3c1.mailgun.org\", \n",
      "        \"transport\": \"smtp\", \n",
      "        \"targets\": \"radhika.dwaraka@gmail.com\"\n",
      "      }, \n",
      "      \"recipient-domain\": \"gmail.com\", \n",
      "      \"method\": \"http\", \n",
      "      \"campaigns\": [], \n",
      "      \"user-variables\": {}, \n",
      "      \"flags\": {\n",
      "        \"is-routed\": null, \n",
      "        \"is-authenticated\": true, \n",
      "        \"is-system-test\": false, \n",
      "        \"is-test-mode\": false\n",
      "      }, \n",
      "      \"log-level\": \"info\", \n",
      "      \"id\": \"x3SClcdGS5-4YO72676yVg\", \n",
      "      \"message\": {\n",
      "        \"headers\": {\n",
      "          \"to\": \"radhika.dwaraka@gmail.com\", \n",
      "          \"message-id\": \"20160622194851.10177.69645.71D405A2@sandbox3b984a674a954bcf8c5f2dca397bc3c1.mailgun.org\", \n",
      "          \"from\": \"hello@example.com\", \n",
      "          \"subject\": \"Hello\"\n",
      "        }, \n",
      "        \"attachments\": [], \n",
      "        \"recipients\": [\n",
      "          \"radhika.dwaraka@gmail.com\"\n",
      "        ], \n",
      "        \"size\": 366\n",
      "      }, \n",
      "      \"recipient\": \"radhika.dwaraka@gmail.com\", \n",
      "      \"event\": \"accepted\"\n",
      "    }, \n",
      "    {\n",
      "      \"tags\": [], \n",
      "      \"envelope\": {\n",
      "        \"transport\": \"smtp\", \n",
      "        \"sender\": \"postmaster@sandbox3b984a674a954bcf8c5f2dca397bc3c1.mailgun.org\", \n",
      "        \"sending-ip\": \"209.61.151.224\", \n",
      "        \"targets\": \"radhika.dwaraka@gmail.com\"\n",
      "      }, \n",
      "      \"storage\": {\n",
      "        \"url\": \"https://api.mailgun.net/v2/domains/sandbox3b984a674a954bcf8c5f2dca397bc3c1.mailgun.org/messages/eyJwIjpmYWxzZSwiayI6IjE2OTlhMTA0LTMwMmYtNDFlNC1hZDFkLWE3MmQxZmFjZTJjYSIsInMiOiIwZTNkNjViOWQ4IiwiYyI6InNiaWFkIn0=\", \n",
      "        \"key\": \"eyJwIjpmYWxzZSwiayI6IjE2OTlhMTA0LTMwMmYtNDFlNC1hZDFkLWE3MmQxZmFjZTJjYSIsInMiOiIwZTNkNjViOWQ4IiwiYyI6InNiaWFkIn0=\"\n",
      "      }, \n",
      "      \"recipient-domain\": \"gmail.com\", \n",
      "      \"id\": \"wgGbCIyKTHqyyT-ExLhs5w\", \n",
      "      \"campaigns\": [], \n",
      "      \"user-variables\": {}, \n",
      "      \"flags\": {\n",
      "        \"is-routed\": null, \n",
      "        \"is-authenticated\": true, \n",
      "        \"is-system-test\": false, \n",
      "        \"is-test-mode\": false\n",
      "      }, \n",
      "      \"log-level\": \"info\", \n",
      "      \"timestamp\": 1466624611.617065, \n",
      "      \"message\": {\n",
      "        \"headers\": {\n",
      "          \"to\": \"radhika.dwaraka@gmail.com\", \n",
      "          \"message-id\": \"20160622194329.32620.56772.B68A8B1F@sandbox3b984a674a954bcf8c5f2dca397bc3c1.mailgun.org\", \n",
      "          \"from\": \"hello@example.com\", \n",
      "          \"subject\": \"Hello\"\n",
      "        }, \n",
      "        \"attachments\": [], \n",
      "        \"recipients\": [\n",
      "          \"radhika.dwaraka@gmail.com\"\n",
      "        ], \n",
      "        \"size\": 523\n",
      "      }, \n",
      "      \"recipient\": \"radhika.dwaraka@gmail.com\", \n",
      "      \"event\": \"delivered\", \n",
      "      \"delivery-status\": {\n",
      "        \"tls\": true, \n",
      "        \"mx-host\": \"gmail-smtp-in.l.google.com\", \n",
      "        \"code\": 0, \n",
      "        \"description\": null, \n",
      "        \"session-seconds\": 0.6009008884429932, \n",
      "        \"message\": \"\", \n",
      "        \"certificate-verified\": true\n",
      "      }\n",
      "    }, \n",
      "    {\n",
      "      \"tags\": [], \n",
      "      \"timestamp\": 1466624609.974216, \n",
      "      \"storage\": {\n",
      "        \"url\": \"https://api.mailgun.net/v2/domains/sandbox3b984a674a954bcf8c5f2dca397bc3c1.mailgun.org/messages/eyJwIjpmYWxzZSwiayI6IjE2OTlhMTA0LTMwMmYtNDFlNC1hZDFkLWE3MmQxZmFjZTJjYSIsInMiOiIwZTNkNjViOWQ4IiwiYyI6InNiaWFkIn0=\", \n",
      "        \"key\": \"eyJwIjpmYWxzZSwiayI6IjE2OTlhMTA0LTMwMmYtNDFlNC1hZDFkLWE3MmQxZmFjZTJjYSIsInMiOiIwZTNkNjViOWQ4IiwiYyI6InNiaWFkIn0=\"\n",
      "      }, \n",
      "      \"envelope\": {\n",
      "        \"sender\": \"postmaster@sandbox3b984a674a954bcf8c5f2dca397bc3c1.mailgun.org\", \n",
      "        \"transport\": \"smtp\", \n",
      "        \"targets\": \"radhika.dwaraka@gmail.com\"\n",
      "      }, \n",
      "      \"recipient-domain\": \"gmail.com\", \n",
      "      \"method\": \"http\", \n",
      "      \"campaigns\": [], \n",
      "      \"user-variables\": {}, \n",
      "      \"flags\": {\n",
      "        \"is-routed\": null, \n",
      "        \"is-authenticated\": true, \n",
      "        \"is-system-test\": false, \n",
      "        \"is-test-mode\": false\n",
      "      }, \n",
      "      \"log-level\": \"info\", \n",
      "      \"id\": \"jYX1uRpERO2rdA861d_zWQ\", \n",
      "      \"message\": {\n",
      "        \"headers\": {\n",
      "          \"to\": \"radhika.dwaraka@gmail.com\", \n",
      "          \"message-id\": \"20160622194329.32620.56772.B68A8B1F@sandbox3b984a674a954bcf8c5f2dca397bc3c1.mailgun.org\", \n",
      "          \"from\": \"hello@example.com\", \n",
      "          \"subject\": \"Hello\"\n",
      "        }, \n",
      "        \"attachments\": [], \n",
      "        \"recipients\": [\n",
      "          \"radhika.dwaraka@gmail.com\"\n",
      "        ], \n",
      "        \"size\": 364\n",
      "      }, \n",
      "      \"recipient\": \"radhika.dwaraka@gmail.com\", \n",
      "      \"event\": \"accepted\"\n",
      "    }\n",
      "  ], \n",
      "  \"paging\": {\n",
      "    \"next\": \"https://api.mailgun.net/v2/sandbox3b984a674a954bcf8c5f2dca397bc3c1.mailgun.org/events/W3siYiI6ICIyMDE2LTA2LTIyVDE5OjQ5OjE0LjgyOSswMDowMCIsICJlIjogIjIwMTYtMDYtMjBUMTk6NDk6MTQuODI5KzAwOjAwIn0sIHsiYiI6ICIyMDE2LTA2LTIyVDE5OjQzOjI5Ljk3NCswMDowMCIsICJlIjogIjIwMTYtMDYtMjBUMTk6NDk6MTQuODI5KzAwOjAwIn0sIFsiZiJdLCBudWxsLCBbWyJhY2NvdW50LmlkIiwgIjU3NmFkMzM0MDQ1Y2E0NmNmMGY0YmE5MSJdLCBbImRvbWFpbi5uYW1lIiwgInNhbmRib3gzYjk4NGE2NzRhOTU0YmNmOGM1ZjJkY2EzOTdiYzNjMS5tYWlsZ3VuLm9yZyJdXSwgNSwgIm1lc3NhZ2UjallYMXVScEVSTzJyZEE4NjFkX3pXUSJd\", \n",
      "    \"last\": \"https://api.mailgun.net/v2/sandbox3b984a674a954bcf8c5f2dca397bc3c1.mailgun.org/events/W3siYiI6ICIyMDE2LTA2LTIyVDE5OjQ5OjE0LjgyOSswMDowMCIsICJlIjogIjIwMTYtMDYtMjBUMTk6NDk6MTQuODI5KzAwOjAwIn0sIHsiYiI6ICIyMDE2LTA2LTIwVDE5OjQ5OjE0LjgyOSswMDowMCIsICJlIjogIjIwMTYtMDYtMjJUMTk6NDk6MTQuODI5KzAwOjAwIn0sIFsicCIsICJmIl0sIG51bGwsIFtbImFjY291bnQuaWQiLCAiNTc2YWQzMzQwNDVjYTQ2Y2YwZjRiYTkxIl0sIFsiZG9tYWluLm5hbWUiLCAic2FuZGJveDNiOTg0YTY3NGE5NTRiY2Y4YzVmMmRjYTM5N2JjM2MxLm1haWxndW4ub3JnIl1dLCA1LCBudWxsXQ==\", \n",
      "    \"first\": \"https://api.mailgun.net/v2/sandbox3b984a674a954bcf8c5f2dca397bc3c1.mailgun.org/events/W3siYiI6ICIyMDE2LTA2LTIyVDE5OjQ5OjE0LjgyOSswMDowMCIsICJlIjogIjIwMTYtMDYtMjBUMTk6NDk6MTQuODI5KzAwOjAwIn0sIHsiYiI6ICIyMDE2LTA2LTIyVDE5OjQ5OjE0LjgyOSswMDowMCIsICJlIjogIjIwMTYtMDYtMjBUMTk6NDk6MTQuODI5KzAwOjAwIn0sIFsiZiJdLCBudWxsLCBbWyJhY2NvdW50LmlkIiwgIjU3NmFkMzM0MDQ1Y2E0NmNmMGY0YmE5MSJdLCBbImRvbWFpbi5uYW1lIiwgInNhbmRib3gzYjk4NGE2NzRhOTU0YmNmOGM1ZjJkY2EzOTdiYzNjMS5tYWlsZ3VuLm9yZyJdXSwgNSwgbnVsbF0=\", \n",
      "    \"previous\": \"https://api.mailgun.net/v2/sandbox3b984a674a954bcf8c5f2dca397bc3c1.mailgun.org/events/W3siYiI6ICIyMDE2LTA2LTIyVDE5OjQ5OjE0LjgyOSswMDowMCIsICJlIjogIjIwMTYtMDYtMjBUMTk6NDk6MTQuODI5KzAwOjAwIn0sIHsiYiI6ICIyMDE2LTA2LTIyVDE5OjQ4OjUyLjEyMCswMDowMCIsICJlIjogIjIwMTYtMDYtMjJUMTk6NDk6MTQuODMwKzAwOjAwIn0sIFsicCIsICJmIl0sIG51bGwsIFtbImFjY291bnQuaWQiLCAiNTc2YWQzMzQwNDVjYTQ2Y2YwZjRiYTkxIl0sIFsiZG9tYWluLm5hbWUiLCAic2FuZGJveDNiOTg0YTY3NGE5NTRiY2Y4YzVmMmRjYTM5N2JjM2MxLm1haWxndW4ub3JnIl1dLCA1LCAibWVzc2FnZSNsNGV1dzJwOVJkTzd4djdYV3Brc3p3Il0=\"\n",
      "  }\n",
      "}\n"
     ]
    }
   ],
   "source": [
    "request_url = 'https://api.mailgun.net/v2/{0}/events'.format(sandbox)\n",
    "request = requests.get(request_url, auth=('api', key), params={'limit': 5})\n",
    "\n",
    "print('Status: {0}'.format(request.status_code))\n",
    "print('Body:   {0}'.format(request.text))\n"
   ]
  },
  {
   "cell_type": "code",
   "execution_count": null,
   "metadata": {
    "collapsed": true
   },
   "outputs": [],
   "source": []
  }
 ],
 "metadata": {
  "kernelspec": {
   "display_name": "Python 3",
   "language": "python",
   "name": "python3"
  },
  "language_info": {
   "codemirror_mode": {
    "name": "ipython",
    "version": 3
   },
   "file_extension": ".py",
   "mimetype": "text/x-python",
   "name": "python",
   "nbconvert_exporter": "python",
   "pygments_lexer": "ipython3",
   "version": "3.5.1"
  }
 },
 "nbformat": 4,
 "nbformat_minor": 0
}
