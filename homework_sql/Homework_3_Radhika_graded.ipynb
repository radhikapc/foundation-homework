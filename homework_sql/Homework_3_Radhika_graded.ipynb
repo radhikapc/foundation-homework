{
 "cells": [
  {
   "cell_type": "markdown",
   "metadata": {},
   "source": [
    "### Grade: 9 / 9 -- great job! "
   ]
  },
  {
   "cell_type": "markdown",
   "metadata": {},
   "source": [
    "# Homework assignment #3\n",
    "\n",
    "These problem sets focus on using the Beautiful Soup library to scrape web pages.\n",
    "\n",
    "## Problem Set #1: Basic scraping\n",
    "\n",
    "I've made a web page for you to scrape. It's available [here](http://static.decontextualize.com/widgets2016.html). The page concerns the catalog of a famous [widget](http://en.wikipedia.org/wiki/Widget) company. You'll be answering several questions about this web page. In the cell below, I've written some code so that you end up with a variable called `html_str` that contains the HTML source code of the page, and a variable `document` that stores a Beautiful Soup object."
   ]
  },
  {
   "cell_type": "code",
   "execution_count": 18,
   "metadata": {
    "collapsed": false
   },
   "outputs": [],
   "source": [
    "from bs4 import BeautifulSoup\n",
    "from urllib.request import urlopen\n",
    "html_str = urlopen(\"http://static.decontextualize.com/widgets2016.html\").read()\n",
    "document = BeautifulSoup(html_str, \"html.parser\")"
   ]
  },
  {
   "cell_type": "markdown",
   "metadata": {},
   "source": [
    "Now, in the cell below, use Beautiful Soup to write an expression that evaluates to the number of `<h3>` tags contained in `widgets2016.html`."
   ]
  },
  {
   "cell_type": "code",
   "execution_count": 19,
   "metadata": {
    "collapsed": false
   },
   "outputs": [
    {
     "name": "stdout",
     "output_type": "stream",
     "text": [
      "4\n"
     ]
    }
   ],
   "source": [
    "h3_tags = document.find_all('h3')\n",
    "count = 0\n",
    "for i in h3_tags:\n",
    "    count = count + 1\n",
    "print(count)"
   ]
  },
  {
   "cell_type": "markdown",
   "metadata": {},
   "source": [
    "Now, in the cell below, write an expression or series of statements that displays the telephone number beneath the \"Widget Catalog\" header."
   ]
  },
  {
   "cell_type": "code",
   "execution_count": 3,
   "metadata": {
    "collapsed": false
   },
   "outputs": [
    {
     "name": "stdout",
     "output_type": "stream",
     "text": [
      "212-555-9912\n"
     ]
    }
   ],
   "source": [
    "x= document.find('a', {'class': 'tel'})\n",
    "print(x.string)"
   ]
  },
  {
   "cell_type": "markdown",
   "metadata": {},
   "source": [
    "In the cell below, use Beautiful Soup to write some code that prints the names of all the widgets on the page. After your code has executed, `widget_names` should evaluate to a list that looks like this (though not necessarily in this order):\n",
    "\n",
    "```\n",
    "Skinner Widget\n",
    "Widget For Furtiveness\n",
    "Widget For Strawman\n",
    "Jittery Widget\n",
    "Silver Widget\n",
    "Divided Widget\n",
    "Manicurist Widget\n",
    "Infinite Widget\n",
    "Yellow-Tipped Widget\n",
    "Unshakable Widget\n",
    "Self-Knowledge Widget\n",
    "Widget For Cinema\n",
    "```"
   ]
  },
  {
   "cell_type": "code",
   "execution_count": 4,
   "metadata": {
    "collapsed": false
   },
   "outputs": [
    {
     "name": "stdout",
     "output_type": "stream",
     "text": [
      "Skinner Widget\n",
      "Widget For Furtiveness\n",
      "Widget For Strawman\n",
      "Jittery Widget\n",
      "Silver Widget\n",
      "Divided Widget\n",
      "Manicurist Widget\n",
      "Infinite Widget\n",
      "Yellow-Tipped Widget\n",
      "Unshakable Widget\n",
      "Self-Knowledge Widget\n",
      "Widget For Cinema\n"
     ]
    }
   ],
   "source": [
    "names = document.find_all('td', {'class': 'wname'})\n",
    "    \n",
    "for i in names:\n",
    "    print(i.string)"
   ]
  },
  {
   "cell_type": "markdown",
   "metadata": {},
   "source": [
    "## Problem set #2: Widget dictionaries\n",
    "\n",
    "For this problem set, we'll continue to use the HTML page from the previous problem set. In the cell below, I've made an empty list and assigned it to a variable called `widgets`. Write code that populates this list with dictionaries, one dictionary per widget in the source file. The keys of each dictionary should be `partno`, `wname`, `price`, and `quantity`, and the value for each of the keys should be the value for the corresponding column for each row. After executing the cell, your list should look something like this:\n",
    "\n",
    "```\n",
    "[{'partno': 'C1-9476',\n",
    "  'price': '$2.70',\n",
    "  'quantity': u'512',\n",
    "  'wname': 'Skinner Widget'},\n",
    " {'partno': 'JDJ-32/V',\n",
    "  'price': '$9.36',\n",
    "  'quantity': '967',\n",
    "  'wname': u'Widget For Furtiveness'},\n",
    "  ...several items omitted...\n",
    " {'partno': '5B-941/F',\n",
    "  'price': '$13.26',\n",
    "  'quantity': '919',\n",
    "  'wname': 'Widget For Cinema'}]\n",
    "```\n",
    "\n",
    "And this expression:\n",
    "\n",
    "    widgets[5]['partno']\n",
    "    \n",
    "... should evaluate to:\n",
    "\n",
    "    LH-74/O\n",
    "    "
   ]
  },
  {
   "cell_type": "code",
   "execution_count": 5,
   "metadata": {
    "collapsed": false
   },
   "outputs": [
    {
     "name": "stdout",
     "output_type": "stream",
     "text": [
      "[{'quantity': '512', 'price': '$2.70', 'wname': 'Skinner Widget', 'partno': 'C1-9476'}, {'quantity': '967', 'price': '$9.36', 'wname': 'Widget For Furtiveness', 'partno': 'JDJ-32/V'}, {'quantity': '787', 'price': '$5.17', 'wname': 'Widget For Strawman', 'partno': 'YP4-325/J'}, {'quantity': '895', 'price': '$12.39', 'wname': 'Jittery Widget', 'partno': 'ZZ-274'}, {'quantity': '309', 'price': '$14.31', 'wname': 'Silver Widget', 'partno': 'QO-794'}, {'quantity': '981', 'price': '$6.79', 'wname': 'Divided Widget', 'partno': 'LH-74/O'}, {'quantity': '441', 'price': '$8.97', 'wname': 'Manicurist Widget', 'partno': 'VK-486'}, {'quantity': '320', 'price': '$11.73', 'wname': 'Infinite Widget', 'partno': 'R4K-990'}, {'quantity': '948', 'price': '$2.35', 'wname': 'Yellow-Tipped Widget', 'partno': 'MZ-556/B'}, {'quantity': '59', 'price': '$3.76', 'wname': 'Unshakable Widget', 'partno': 'QV-730'}, {'quantity': '790', 'price': '$7.11', 'wname': 'Self-Knowledge Widget', 'partno': 'T1-9731'}, {'quantity': '919', 'price': '$13.26', 'wname': 'Widget For Cinema', 'partno': '5B-941/F'}]\n",
      "LH-74/O\n"
     ]
    }
   ],
   "source": [
    "widgets = []\n",
    "\n",
    "all_tab = document.find_all('tr', {'class': 'winfo'})\n",
    "\n",
    "for item in all_tab:\n",
    "    part_no = item.find('td', {'class': 'partno'})\n",
    "    price_no = item.find('td', {'class': 'price'})\n",
    "    quant = item.find('td', {'class': 'quantity'})\n",
    "    name = item.find('td', {'class': 'wname'})\n",
    "    wid_map = {'partno': part_no.string, 'price': price_no.string, 'quantity': quant.string , 'wname': name.string}\n",
    "    widgets.append(wid_map)\n",
    "        \n",
    "    \n",
    "print(widgets)\n",
    "print(widgets[5]['partno'])"
   ]
  },
  {
   "cell_type": "markdown",
   "metadata": {},
   "source": [
    "In the cell below, duplicate your code from the previous question. Modify the code to ensure that the values for `price` and `quantity` in each dictionary are floating-point numbers and integers, respectively. I.e., after executing the cell, your code should display something like this:\n",
    "\n",
    "    [{'partno': 'C1-9476',\n",
    "      'price': 2.7,\n",
    "      'quantity': 512,\n",
    "      'widgetname': 'Skinner Widget'},\n",
    "     {'partno': 'JDJ-32/V',\n",
    "      'price': 9.36,\n",
    "      'quantity': 967,\n",
    "      'widgetname': 'Widget For Furtiveness'},\n",
    "     ... some items omitted ...\n",
    "     {'partno': '5B-941/F',\n",
    "      'price': 13.26,\n",
    "      'quantity': 919,\n",
    "      'widgetname': 'Widget For Cinema'}]\n",
    "\n",
    "(Hint: Use the `float()` and `int()` functions. You may need to use string slices to convert the `price` field to a floating-point number.)"
   ]
  },
  {
   "cell_type": "code",
   "execution_count": 6,
   "metadata": {
    "collapsed": false
   },
   "outputs": [
    {
     "name": "stdout",
     "output_type": "stream",
     "text": [
      "[{'quantity': 512, 'price': 2.7, 'wname': 'Skinner Widget', 'partno': 'C1-9476'}, {'quantity': 967, 'price': 9.36, 'wname': 'Widget For Furtiveness', 'partno': 'JDJ-32/V'}, {'quantity': 787, 'price': 5.17, 'wname': 'Widget For Strawman', 'partno': 'YP4-325/J'}, {'quantity': 895, 'price': 12.3, 'wname': 'Jittery Widget', 'partno': 'ZZ-274'}, {'quantity': 309, 'price': 14.3, 'wname': 'Silver Widget', 'partno': 'QO-794'}, {'quantity': 981, 'price': 6.79, 'wname': 'Divided Widget', 'partno': 'LH-74/O'}, {'quantity': 441, 'price': 8.97, 'wname': 'Manicurist Widget', 'partno': 'VK-486'}, {'quantity': 320, 'price': 11.7, 'wname': 'Infinite Widget', 'partno': 'R4K-990'}, {'quantity': 948, 'price': 2.35, 'wname': 'Yellow-Tipped Widget', 'partno': 'MZ-556/B'}, {'quantity': 59, 'price': 3.76, 'wname': 'Unshakable Widget', 'partno': 'QV-730'}, {'quantity': 790, 'price': 7.11, 'wname': 'Self-Knowledge Widget', 'partno': 'T1-9731'}, {'quantity': 919, 'price': 13.2, 'wname': 'Widget For Cinema', 'partno': '5B-941/F'}]\n",
      "LH-74/O\n"
     ]
    }
   ],
   "source": [
    "widgets = []\n",
    "\n",
    "all_tab = document.find_all('tr', {'class': 'winfo'})\n",
    "\n",
    "for item in all_tab:\n",
    "    part_no = item.find('td', {'class': 'partno'})\n",
    "    price_no = item.find('td', {'class': 'price'})\n",
    "    quant = item.find('td', {'class': 'quantity'})\n",
    "    name = item.find('td', {'class': 'wname'})\n",
    "    wid_map = {'partno': part_no.string, 'price': float((price_no.string)[1:5]), 'quantity': int(quant.string), 'wname': name.string}\n",
    "    widgets.append(wid_map)\n",
    "        \n",
    "    \n",
    "print(widgets)\n",
    "print(widgets[5]['partno'])"
   ]
  },
  {
   "cell_type": "markdown",
   "metadata": {},
   "source": [
    "Great! I hope you're having fun. In the cell below, write an expression or series of statements that uses the `widgets` list created in the cell above to calculate the total number of widgets that the factory has in its warehouse.\n",
    "\n",
    "Expected output: `7928`"
   ]
  },
  {
   "cell_type": "code",
   "execution_count": 7,
   "metadata": {
    "collapsed": false
   },
   "outputs": [
    {
     "name": "stdout",
     "output_type": "stream",
     "text": [
      "7928\n"
     ]
    }
   ],
   "source": [
    "quant = 0\n",
    "\n",
    "for i in widgets:\n",
    "    quant = quant + i['quantity']\n",
    "print(quant)"
   ]
  },
  {
   "cell_type": "markdown",
   "metadata": {},
   "source": [
    "In the cell below, write some Python code that prints the names of widgets whose price is above $9.30.\n",
    "\n",
    "Expected output:\n",
    "\n",
    "```\n",
    "Widget For Furtiveness\n",
    "Jittery Widget\n",
    "Silver Widget\n",
    "Infinite Widget\n",
    "Widget For Cinema\n",
    "```"
   ]
  },
  {
   "cell_type": "code",
   "execution_count": 8,
   "metadata": {
    "collapsed": false
   },
   "outputs": [
    {
     "name": "stdout",
     "output_type": "stream",
     "text": [
      "Widget For Furtiveness\n",
      "Jittery Widget\n",
      "Silver Widget\n",
      "Infinite Widget\n",
      "Widget For Cinema\n"
     ]
    }
   ],
   "source": [
    "for i in widgets:\n",
    "    if i['price'] > 9.30:\n",
    "        print(i['wname'])"
   ]
  },
  {
   "cell_type": "markdown",
   "metadata": {},
   "source": [
    "## Problem set #3: Sibling rivalries\n",
    "\n",
    "In the following problem set, you will yet again be working with the data in `widgets2016.html`. In order to accomplish the tasks in this problem set, you'll need to learn about Beautiful Soup's `.find_next_sibling()` method. Here's some information about that method, cribbed from the notes:\n",
    "\n",
    "Often, the tags we're looking for don't have a distinguishing characteristic, like a class attribute, that allows us to find them using `.find()` and `.find_all()`, and the tags also aren't in a parent-child relationship. This can be tricky! For example, take the following HTML snippet, (which I've assigned to a string called `example_html`):"
   ]
  },
  {
   "cell_type": "code",
   "execution_count": 13,
   "metadata": {
    "collapsed": false
   },
   "outputs": [],
   "source": [
    "example_html = \"\"\"\n",
    "<h2>Camembert</h2>\n",
    "<p>A soft cheese made in the Camembert region of France.</p>\n",
    "\n",
    "<h2>Cheddar</h2>\n",
    "<p>A yellow cheese made in the Cheddar region of... France, probably, idk whatevs.</p>\n",
    "\"\"\""
   ]
  },
  {
   "cell_type": "markdown",
   "metadata": {},
   "source": [
    "If our task was to create a dictionary that maps the name of the cheese to the description that follows in the `<p>` tag directly afterward, we'd be out of luck. Fortunately, Beautiful Soup has a `.find_next_sibling()` method, which allows us to search for the next tag that is a sibling of the tag you're calling it on (i.e., the two tags share a parent), that also matches particular criteria. So, for example, to accomplish the task outlined above:"
   ]
  },
  {
   "cell_type": "code",
   "execution_count": 14,
   "metadata": {
    "collapsed": false
   },
   "outputs": [
    {
     "data": {
      "text/plain": [
       "{'Camembert': 'A soft cheese made in the Camembert region of France.',\n",
       " 'Cheddar': 'A yellow cheese made in the Cheddar region of... France, probably, idk whatevs.'}"
      ]
     },
     "execution_count": 14,
     "metadata": {},
     "output_type": "execute_result"
    }
   ],
   "source": [
    "example_doc = BeautifulSoup(example_html, \"html.parser\")\n",
    "cheese_dict = {}\n",
    "for h2_tag in example_doc.find_all('h2'):\n",
    "    cheese_name = h2_tag.string\n",
    "    cheese_desc_tag = h2_tag.find_next_sibling('p')\n",
    "    cheese_dict[cheese_name] = cheese_desc_tag.string\n",
    "\n",
    "cheese_dict"
   ]
  },
  {
   "cell_type": "markdown",
   "metadata": {},
   "source": [
    "With that knowledge in mind, let's go back to our widgets. In the cell below, write code that uses Beautiful Soup, and in particular the `.find_next_sibling()` method, to print the part numbers of the widgets that are in the table *just beneath* the header \"Hallowed Widgets.\"\n",
    "\n",
    "Expected output:\n",
    "\n",
    "```\n",
    "MZ-556/B\n",
    "QV-730\n",
    "T1-9731\n",
    "5B-941/F\n",
    "```"
   ]
  },
  {
   "cell_type": "code",
   "execution_count": 20,
   "metadata": {
    "collapsed": false
   },
   "outputs": [
    {
     "name": "stdout",
     "output_type": "stream",
     "text": [
      "MZ-556/B\n",
      "QV-730\n",
      "T1-9731\n",
      "5B-941/F\n"
     ]
    }
   ],
   "source": [
    "from urllib.request import urlopen\n",
    "url = \"http://static.decontextualize.com/widgets2016.html\"\n",
    "widget_html = urlopen(url).read()\n",
    "document = BeautifulSoup(widget_html, \"html.parser\")\n",
    "\n",
    "h3_tags = document.find_all('h3')\n",
    "for i in h3_tags:\n",
    "    if i.string == \"Hallowed widgets\":\n",
    "        wid_table = i.find_next_sibling('table', {'class': 'widgetlist'})\n",
    "        all_part_no = wid_table.find_all('td', {'class': 'partno'})\n",
    "        for i in all_part_no:\n",
    "            print(i.string)\n",
    "\n"
   ]
  },
  {
   "cell_type": "markdown",
   "metadata": {},
   "source": [
    "Okay, now, the final task. If you can accomplish this, you are truly an expert web scraper. I'll have little web scraper certificates made up and I'll give you one, if you manage to do this thing. And I know you can do it!\n",
    "\n",
    "In the cell below, I've created a variable `category_counts` and assigned to it an empty dictionary. Write code to populate this dictionary so that its keys are \"categories\" of widgets (e.g., the contents of the `<h3>` tags on the page: \"Forensic Widgets\", \"Mood widgets\", \"Hallowed Widgets\") and the value for each key is the number of widgets that occur in that category. I.e., after your code has been executed, the dictionary `category_counts` should look like this:\n",
    "\n",
    "```\n",
    "{'Forensic Widgets': 3,\n",
    " 'Hallowed widgets': 4,\n",
    " 'Mood widgets': 2,\n",
    " 'Wondrous widgets': 3}\n",
    "```"
   ]
  },
  {
   "cell_type": "code",
   "execution_count": 25,
   "metadata": {
    "collapsed": false
   },
   "outputs": [
    {
     "data": {
      "text/plain": [
       "{'Forensic Widgets': 3,\n",
       " 'Hallowed widgets': 4,\n",
       " 'Mood widgets': 2,\n",
       " 'Wondrous widgets': 3}"
      ]
     },
     "execution_count": 25,
     "metadata": {},
     "output_type": "execute_result"
    }
   ],
   "source": [
    "category_counts = {}\n",
    "\n",
    "couny = 0 # TA-COMMENT: I don't think you end up using this variable! \n",
    "h3_tags = document.find_all('h3')\n",
    "for i in h3_tags:\n",
    "    wid_name = i.string\n",
    "    wid_table = i.find_next_sibling('table', {'class': 'widgetlist'})\n",
    "    all_part_no = wid_table.find_all('td', {'class': 'partno'})\n",
    "    \n",
    "    category_counts[wid_name]= len(all_part_no)\n",
    "                  \n",
    "category_counts"
   ]
  },
  {
   "cell_type": "markdown",
   "metadata": {},
   "source": [
    "Congratulations! You're done."
   ]
  }
 ],
 "metadata": {
  "kernelspec": {
   "display_name": "Python 3",
   "language": "python",
   "name": "python3"
  },
  "language_info": {
   "codemirror_mode": {
    "name": "ipython",
    "version": 3
   },
   "file_extension": ".py",
   "mimetype": "text/x-python",
   "name": "python",
   "nbconvert_exporter": "python",
   "pygments_lexer": "ipython3",
   "version": "3.5.0"
  }
 },
 "nbformat": 4,
 "nbformat_minor": 0
}
