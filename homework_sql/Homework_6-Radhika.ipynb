{
 "cells": [
  {
   "cell_type": "markdown",
   "metadata": {},
   "source": [
    "# Homework 6: Web Applications\n",
    "\n",
    "For this homework, you're going to write a web API for the lake data in the MONDIAL database. (Make sure you've imported the data as originally outlined in [our week 1 tutorial](https://github.com/ledeprogram/data-and-databases/blob/master/SQL_notes.md).)\n",
    "\n",
    "The API should perform the following tasks:\n",
    "\n",
    "* A request to `/lakes` should return a JSON list of dictionaries, with the information from the `name`, `elevation`, `area` and `type` fields from the `lake` table in MONDIAL.\n",
    "* The API should recognize the query string parameter `sort`. When left blank or set to `name`, the results should be sorted by the name of the lake (in alphabetical order). When set to `area` or `elevation`, the results should be sorted by the requested field, in *descending* order.\n",
    "* The API should recognize the query string parameter `type`. When specified, the results should *only* include rows that have the specified value in the `type` field.\n",
    "* You should be able to use *both* the `sort` and `type` parameters in any request.\n",
    "\n",
    "This notebook contains only *test requests to your API*. Write the API as a standalone Python program, start the program and then run the code in the cells below to ensure that your API produces the expected output. When you're done, paste the source code in the final cell (so we can check your work, if needed).\n",
    "\n",
    "Hints when writing your API code:\n",
    "\n",
    "* You'll need to construct the SQL query as a string, piece by piece. This will likely involve a somewhat messy tangle of `if` statements. Lean into the messy tangle.\n",
    "* Make sure to use parameter placeholders (%s) in the query.\n",
    "* If you're getting SQL errors, print out your SQL statement in the request handler function so you can debug it. (When you use `print()` in Flask, the results will display in your terminal window.)\n",
    "* When in doubt, return to the test code. Examine it carefully and make sure you know exactly what it's trying to do.\n",
    "\n",
    "## Problem set #1: A list of lakes\n",
    "\n",
    "Your API should return a JSON list of dictionaries (objects). Use the code below to determine what the keys of the dictionaries should be. (For brevity, this example only prints out the first ten records, but of course your API should return all of them.)\n",
    "\n",
    "Expected output:\n",
    "\n",
    "    143 lakes\n",
    "    Ammersee - elevation: 533 m / area: 46 km^2 / type: None\n",
    "    Arresoe - elevation: None m / area: 40 km^2 / type: None\n",
    "    Atlin Lake - elevation: 668 m / area: 798 km^2 / type: None\n",
    "    Balaton - elevation: 104 m / area: 594 km^2 / type: None\n",
    "    Barrage de Mbakaou - elevation: None m / area: None km^2 / type: dam\n",
    "    Bodensee - elevation: 395 m / area: 538 km^2 / type: None\n",
    "    Brienzersee - elevation: 564 m / area: 29 km^2 / type: None\n",
    "    Caspian Sea - elevation: -28 m / area: 386400 km^2 / type: salt\n",
    "    Chad Lake - elevation: 250 m / area: 23000 km^2 / type: salt\n",
    "    Chew Bahir - elevation: 520 m / area: 800 km^2 / type: salt"
   ]
  },
  {
   "cell_type": "code",
   "execution_count": null,
   "metadata": {
    "collapsed": false
   },
   "outputs": [],
   "source": [
    "import requests\n",
    "data = requests.get('http://localhost:5000/lakes').json()\n",
    "print(len(data), \"lakes\")\n",
    "for item in data[:10]:\n",
    "    print(item['name'], \"- elevation:\", item['elevation'], \"m / area:\", item['area'], \"km^2 / type:\", item['type'])"
   ]
  },
  {
   "cell_type": "markdown",
   "metadata": {},
   "source": [
    "## Problem set #2: Lakes of a certain type\n",
    "\n",
    "The following code fetches all lakes of type `salt` and finds their average area and elevation.\n",
    "\n",
    "Expected output:\n",
    "\n",
    "    average area: 18880\n",
    "    average elevation: 970"
   ]
  },
  {
   "cell_type": "code",
   "execution_count": null,
   "metadata": {
    "collapsed": false
   },
   "outputs": [],
   "source": [
    "import requests\n",
    "data = requests.get('http://localhost:5000/lakes?type=salt').json()\n",
    "avg_area = sum([x['area'] for x in data if x['area'] is not None]) / len(data)\n",
    "avg_elev = sum([x['elevation'] for x in data if x['elevation'] is not None]) / len(data)\n",
    "print(\"average area:\", int(avg_area))\n",
    "print(\"average elevation:\", int(avg_elev))"
   ]
  },
  {
   "cell_type": "markdown",
   "metadata": {},
   "source": [
    "## Problem set #3: Lakes in order\n",
    "\n",
    "The following code fetches lakes in reverse order by their elevation and prints out the name of the first fifteen, excluding lakes with an empty elevation field.\n",
    "\n",
    "Expected output:\n",
    "\n",
    "    * Licancabur Crater Lake\n",
    "    * Nam Co\n",
    "    * Lago Junin\n",
    "    * Lake Titicaca\n",
    "    * Poopo\n",
    "    * Salar de Uyuni\n",
    "    * Koli Sarez\n",
    "    * Lake Irazu\n",
    "    * Qinghai Lake\n",
    "    * Segara Anak\n",
    "    * Lake Tahoe\n",
    "    * Crater Lake\n",
    "    * Lake Tana\n",
    "    * Lake Van\n",
    "    * Issyk-Kul"
   ]
  },
  {
   "cell_type": "code",
   "execution_count": null,
   "metadata": {
    "collapsed": false
   },
   "outputs": [],
   "source": [
    "import requests\n",
    "data = requests.get('http://localhost:5000/lakes?sort=elevation').json()\n",
    "for item in [x['name'] for x in data if x['elevation'] is not None][:15]:\n",
    "    print(\"*\", item)"
   ]
  },
  {
   "cell_type": "markdown",
   "metadata": {},
   "source": [
    "## Problem set #4: Order and type\n",
    "\n",
    "The following code prints the names of the largest caldera lakes, ordered in reverse order by area.\n",
    "\n",
    "Expected output:\n",
    "\n",
    "    * Lake Nyos\n",
    "    * Lake Toba\n",
    "    * Lago Trasimeno\n",
    "    * Lago di Bolsena\n",
    "    * Lago di Bracciano\n",
    "    * Crater Lake\n",
    "    * Segara Anak\n",
    "    * Laacher Maar"
   ]
  },
  {
   "cell_type": "code",
   "execution_count": null,
   "metadata": {
    "collapsed": false
   },
   "outputs": [],
   "source": [
    "import requests\n",
    "data = requests.get('http://localhost:5000/lakes?sort=area&type=caldera').json()\n",
    "for item in data:\n",
    "    print(\"*\", item['name'])"
   ]
  },
  {
   "cell_type": "markdown",
   "metadata": {},
   "source": [
    "## Problem set #5: Error handling\n",
    "\n",
    "Your API should work fine even when faced with potential error-causing inputs. For example, the expected output for this statement is an empty list (`[]`), *not* every row in the table."
   ]
  },
  {
   "cell_type": "code",
   "execution_count": 43,
   "metadata": {
    "collapsed": false
   },
   "outputs": [
    {
     "data": {
      "text/plain": [
       "[]"
      ]
     },
     "execution_count": 43,
     "metadata": {},
     "output_type": "execute_result"
    }
   ],
   "source": [
    "import requests\n",
    "data = requests.get('http://localhost:5000/lakes', params={'type': \"' OR true; --\"}).json()\n",
    "data"
   ]
  },
  {
   "cell_type": "markdown",
   "metadata": {},
   "source": [
    "Specifying a field other than `name`, `area` or `elevation` for the `sort` parameter should fail silently, defaulting to sorting alphabetically. Expected output: `['Ammersee', 'Arresoe', 'Atlin Lake', 'Balaton', 'Barrage de Mbakaou']\n",
    "`"
   ]
  },
  {
   "cell_type": "code",
   "execution_count": 46,
   "metadata": {
    "collapsed": false
   },
   "outputs": [
    {
     "data": {
      "text/plain": [
       "['Ammersee', 'Arresoe', 'Atlin Lake', 'Balaton', 'Barrage de Mbakaou']"
      ]
     },
     "execution_count": 46,
     "metadata": {},
     "output_type": "execute_result"
    }
   ],
   "source": [
    "import requests\n",
    "data = requests.get('http://localhost:5000/lakes', params={'sort': \"florb\"}).json()\n",
    "[x['name'] for x in data[:5]]"
   ]
  },
  {
   "cell_type": "markdown",
   "metadata": {},
   "source": [
    "## Paste your code\n",
    "\n",
    "Please paste the code for your entire Flask application in the cell below, in case we want to take a look when grading or debugging your assignment."
   ]
  },
  {
   "cell_type": "code",
   "execution_count": 58,
   "metadata": {
    "collapsed": true
   },
   "outputs": [],
   "source": [
    "conn.rollback()"
   ]
  },
  {
   "cell_type": "code",
   "execution_count": null,
   "metadata": {
    "collapsed": false
   },
   "outputs": [
    {
     "name": "stdout",
     "output_type": "stream",
     "text": [
      "{'type': 'salt', 'area': 10582, 'name': 'Salar de Uyuni', 'elevation': 3650.0}\n",
      "{'type': 'salt', 'area': 4583, 'name': 'Qinghai Lake', 'elevation': 3195.0}\n",
      "{'type': 'salt', 'area': 487, 'name': 'Pyramid Lake', 'elevation': 1155.0}\n",
      "{'type': 'salt', 'area': 1340, 'name': 'Poopo', 'elevation': 3686.0}\n",
      "{'type': 'salt', 'area': 18428, 'name': 'Ozero Balchash', 'elevation': 342.0}\n",
      "{'type': 'salt', 'area': 17160, 'name': 'Ozero Aral', 'elevation': 31.0}\n",
      "{'type': 'salt', 'area': 1855, 'name': 'Nam Co', 'elevation': 4718.0}\n",
      "{'type': 'salt', 'area': 5000, 'name': 'Lop Nor', 'elevation': 780.0}\n",
      "{'type': 'salt', 'area': 3740, 'name': 'Lake Van', 'elevation': 1719.0}\n",
      "{'type': 'salt', 'area': 5470, 'name': 'Lake Urmia', 'elevation': 1280.0}\n",
      "{'type': 'salt', 'area': 6405, 'name': 'Lake Turkana', 'elevation': 375.0}\n",
      "{'type': 'salt', 'area': 5760, 'name': 'Lake Rukwa', 'elevation': 800.0}\n",
      "{'type': 'salt', 'area': 1040, 'name': 'Lake Natron', 'elevation': 600.0}\n",
      "{'type': 'salt', 'area': 9500, 'name': 'Lake Eyre', 'elevation': -17.0}\n",
      "{'type': 'salt', 'area': 1050, 'name': 'Lake Eyasi', 'elevation': 1030.0}\n",
      "{'type': 'salt', 'area': 687, 'name': 'Lake Chilwa', 'elevation': 474.0}\n",
      "{'type': 'salt', 'area': 320, 'name': 'Lake Abbe', 'elevation': 243.0}\n",
      "{'type': 'salt', 'area': 1285, 'name': 'Lake Abaya', 'elevation': 619.0}\n",
      "{'type': 'salt', 'area': 5770, 'name': 'Laguna Mar Chiquita', 'elevation': 71.0}\n",
      "{'type': 'salt', 'area': 54, 'name': 'Lac Assal', 'elevation': -155.0}\n",
      "{'type': 'salt', 'area': 6236, 'name': 'Issyk-Kul', 'elevation': 1609.0}\n",
      "{'type': 'salt', 'area': 1600, 'name': 'Hamun e Jaz Murian', 'elevation': 500.0}\n",
      "{'type': 'salt', 'area': 4400, 'name': 'Great Salt Lake', 'elevation': 1279.0}\n",
      "{'type': 'salt', 'area': 6133, 'name': 'Etoscha Salt Pan', 'elevation': 1000.0}\n",
      "{'type': 'salt', 'area': 41650, 'name': 'Dead Sea', 'elevation': -422.0}\n",
      "{'type': 'salt', 'area': 1800, 'name': 'Daryacheh ye Namak', 'elevation': 790.0}\n",
      "{'type': 'salt', 'area': 800, 'name': 'Chew Bahir', 'elevation': 520.0}\n",
      "{'type': 'salt', 'area': 23000, 'name': 'Chad Lake', 'elevation': 250.0}\n",
      "{'type': 'salt', 'area': 386400, 'name': 'Caspian Sea', 'elevation': -28.0}\n",
      "{'type': 'impact', 'area': 290, 'name': 'Siljan', 'elevation': 161.0}\n",
      "{'type': 'impact', 'area': 1942, 'name': 'Lake Manicouagan', 'elevation': 350.0}\n",
      "{'type': 'impact', 'area': 49, 'name': 'Lake Bosumtwi', 'elevation': 107.0}\n"
     ]
    }
   ],
   "source": [
    "\n",
    "\n",
    "from flask import Flask, request, jsonify\n",
    "from decimal import Decimal\n",
    "import pg8000\n",
    "\n",
    "app = Flask(__name__)\n",
    "conn = pg8000.connect(user=\"postgres\",password=\"password\", database=\"mondial\")\n",
    "@app.route(\"/lakes\")\n",
    "\n",
    "def get_lakes():\n",
    "    sorting = request.args.get('sort', 'name')       \n",
    "    get_type = request.args.get('type', 0)\n",
    "    \n",
    "    cursor = conn.cursor()\n",
    "    \n",
    "    sort_by = \"ORDER BY name\"\n",
    "    if sorting=='area':\n",
    "        sort_by = \"ORDER BY area DESC\"\n",
    "    elif sorting=='elevation':\n",
    "        sort_by = \"ORDER BY elevation DESC\"\n",
    "    elif sorting=='name':\n",
    "        sort_by = \"ORDER BY name DESC\"\n",
    " \n",
    "    if get_type:\n",
    "        cursor.execute(\"SELECT name, area, elevation, type FROM lake WHERE type=%s \" + sort_by, [get_type])\n",
    "    else:\n",
    "        cursor.execute(\"SELECT name, area, elevation, type FROM lake \" + sort_by)\n",
    "     \n",
    "    def decimal_to_int(x):\n",
    "        if isinstance(x, decimal.Decimal):\n",
    "            return int(x)\n",
    "        else:\n",
    "            return None\n",
    "    \n",
    "    output = []\n",
    "    for item in cursor.fetchall():\n",
    "        try:\n",
    "            dictionary = {'name':item[0],'area': int(item[1]),'elevation':float(item[2]), 'type':item[3]}\n",
    "            print(dictionary)\n",
    "            output.append(\n",
    "                dictionary\n",
    "            )\n",
    "            \n",
    "        except:\n",
    "            pass\n",
    "    return jsonify(output)\n",
    "                           \n",
    "app.run(port=5004)"
   ]
  },
  {
   "cell_type": "markdown",
   "metadata": {},
   "source": [
    "##### The API should recognize the query string parameter type. When specified, the results should only include rows that have the specified value in the type field."
   ]
  },
  {
   "cell_type": "code",
   "execution_count": 36,
   "metadata": {
    "collapsed": true
   },
   "outputs": [],
   "source": [
    "conn.rollback()"
   ]
  },
  {
   "cell_type": "code",
   "execution_count": null,
   "metadata": {
    "collapsed": true
   },
   "outputs": [],
   "source": []
  }
 ],
 "metadata": {
  "kernelspec": {
   "display_name": "Python 3",
   "language": "python",
   "name": "python3"
  },
  "language_info": {
   "codemirror_mode": {
    "name": "ipython",
    "version": 3
   },
   "file_extension": ".py",
   "mimetype": "text/x-python",
   "name": "python",
   "nbconvert_exporter": "python",
   "pygments_lexer": "ipython3",
   "version": "3.5.1"
  }
 },
 "nbformat": 4,
 "nbformat_minor": 0
}
