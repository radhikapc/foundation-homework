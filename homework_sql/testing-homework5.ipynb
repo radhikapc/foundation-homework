{
 "cells": [
  {
   "cell_type": "code",
   "execution_count": 1,
   "metadata": {
    "collapsed": true
   },
   "outputs": [],
   "source": [
    "from bs4 import BeautifulSoup\n",
    "from urllib.request import urlopen\n",
    "html = urlopen(\"http://static.decontextualize.com/cats.html\").read()\n",
    "document = BeautifulSoup(html, \"html.parser\")"
   ]
  },
  {
   "cell_type": "code",
   "execution_count": 2,
   "metadata": {
    "collapsed": false
   },
   "outputs": [
    {
     "data": {
      "text/plain": [
       "[{'name': 'Hang In There', 'zip': '11237'},\n",
       " {'name': 'Independent Claws', 'zip': '11201'},\n",
       " {'name': 'Paws and Play', 'zip': '11215'},\n",
       " {'name': 'Tall Tails', 'zip': '11222'},\n",
       " {'name': 'Cats Meow', 'zip': '11231'}]"
      ]
     },
     "execution_count": 2,
     "metadata": {},
     "output_type": "execute_result"
    }
   ],
   "source": [
    "cafe_list = list()\n",
    "cafe_table = document.find('table', {'class': 'cafe-list'})\n",
    "tbody = cafe_table.find('tbody')\n",
    "for tr_tag in tbody.find_all('tr'):\n",
    "    name = tr_tag.find('td', {'class': 'name'})\n",
    "    text_name = name.text\n",
    "    zip = tr_tag.find('td', {'class': 'zip'})\n",
    "    text_zip = zip.text\n",
    "    cat_dict = {'name': text_name, 'zip': text_zip}\n",
    "    cafe_list.append(cat_dict)\n",
    "cafe_list"
   ]
  },
  {
   "cell_type": "code",
   "execution_count": 3,
   "metadata": {
    "collapsed": false
   },
   "outputs": [
    {
     "data": {
      "text/plain": [
       "[{'birthdate': '2015-05-20',\n",
       "  'color': 'black',\n",
       "  'locations': [['Paws and Play', 'Independent Claws*']],\n",
       "  'name': 'Sylvester',\n",
       "  'pattern': 'colorpoint',\n",
       "  'weight': '10.46'},\n",
       " {'birthdate': '2000-01-03',\n",
       "  'color': 'cinnamon',\n",
       "  'locations': [['Independent Claws*']],\n",
       "  'name': 'Jasper',\n",
       "  'pattern': 'solid',\n",
       "  'weight': '8.06'},\n",
       " {'birthdate': '2006-02-27',\n",
       "  'color': 'brown',\n",
       "  'locations': [['Independent Claws*']],\n",
       "  'name': 'Luna',\n",
       "  'pattern': 'tortoiseshell',\n",
       "  'weight': '10.88'},\n",
       " {'birthdate': '2015-08-13',\n",
       "  'color': 'white',\n",
       "  'locations': [['Tall Tails*', 'Hang In There']],\n",
       "  'name': 'Georges',\n",
       "  'pattern': 'tabby',\n",
       "  'weight': '9.40'},\n",
       " {'birthdate': '2003-09-13',\n",
       "  'color': 'red',\n",
       "  'locations': [['Paws and Play*']],\n",
       "  'name': 'Millie',\n",
       "  'pattern': 'bicolor',\n",
       "  'weight': '9.27'},\n",
       " {'birthdate': '2009-07-30',\n",
       "  'color': 'cream',\n",
       "  'locations': [['Hang In There*']],\n",
       "  'name': 'Lisa',\n",
       "  'pattern': 'colorpoint',\n",
       "  'weight': '8.84'},\n",
       " {'birthdate': '2011-12-15',\n",
       "  'color': 'cream',\n",
       "  'locations': [['Hang In There*', 'Cats Meow', 'Tall Tails']],\n",
       "  'name': 'Oscar',\n",
       "  'pattern': 'solid',\n",
       "  'weight': '8.44'},\n",
       " {'birthdate': '2015-12-30',\n",
       "  'color': 'lilac',\n",
       "  'locations': [['Paws and Play*', 'Cats Meow']],\n",
       "  'name': 'Scaredy',\n",
       "  'pattern': 'tabby',\n",
       "  'weight': '8.83'},\n",
       " {'birthdate': '2013-10-16',\n",
       "  'color': 'blue',\n",
       "  'locations': [['Independent Claws', 'Paws and Play*']],\n",
       "  'name': 'Charlotte',\n",
       "  'pattern': 'tabby',\n",
       "  'weight': '9.54'},\n",
       " {'birthdate': '2011-02-07',\n",
       "  'color': 'white',\n",
       "  'locations': [['Independent Claws*', 'Hang In There']],\n",
       "  'name': 'Whiskers',\n",
       "  'pattern': 'colorpoint',\n",
       "  'weight': '9.47'},\n",
       " {'birthdate': '2007-05-28',\n",
       "  'color': 'lilac',\n",
       "  'locations': [['Independent Claws', 'Cats Meow*', 'Paws and Play']],\n",
       "  'name': 'Patches',\n",
       "  'pattern': 'colorpoint',\n",
       "  'weight': '10.12'},\n",
       " {'birthdate': '1998-12-01',\n",
       "  'color': 'black',\n",
       "  'locations': [['Independent Claws', 'Paws and Play*']],\n",
       "  'name': 'Charly',\n",
       "  'pattern': 'bicolor',\n",
       "  'weight': '9.20'},\n",
       " {'birthdate': '2013-04-09',\n",
       "  'color': 'black',\n",
       "  'locations': [['Hang In There', 'Tall Tails*']],\n",
       "  'name': 'Mimi',\n",
       "  'pattern': 'solid',\n",
       "  'weight': '9.19'},\n",
       " {'birthdate': '2000-06-28',\n",
       "  'color': 'black',\n",
       "  'locations': [['Hang In There*']],\n",
       "  'name': 'Samantha',\n",
       "  'pattern': 'solid',\n",
       "  'weight': '7.49'},\n",
       " {'birthdate': '2014-08-16',\n",
       "  'color': 'fawn',\n",
       "  'locations': [['Independent Claws*', 'Paws and Play']],\n",
       "  'name': 'Bella',\n",
       "  'pattern': 'solid',\n",
       "  'weight': '10.47'},\n",
       " {'birthdate': '2009-01-28',\n",
       "  'color': 'cinnamon',\n",
       "  'locations': [['Tall Tails*']],\n",
       "  'name': 'Angel',\n",
       "  'pattern': 'tortoiseshell',\n",
       "  'weight': '9.72'},\n",
       " {'birthdate': '2015-12-16',\n",
       "  'color': 'cinnamon',\n",
       "  'locations': [['Paws and Play*']],\n",
       "  'name': 'Garfield',\n",
       "  'pattern': 'calico',\n",
       "  'weight': '7.18'},\n",
       " {'birthdate': '1997-06-12',\n",
       "  'color': 'red',\n",
       "  'locations': [['Paws and Play*', 'Tall Tails']],\n",
       "  'name': 'Oliver',\n",
       "  'pattern': 'bicolor',\n",
       "  'weight': '9.44'},\n",
       " {'birthdate': '2010-12-22',\n",
       "  'color': 'red',\n",
       "  'locations': [['Hang In There', 'Independent Claws*']],\n",
       "  'name': 'Moritz',\n",
       "  'pattern': 'tortoiseshell',\n",
       "  'weight': '10.10'},\n",
       " {'birthdate': '2009-01-10',\n",
       "  'color': 'cream',\n",
       "  'locations': [['Cats Meow', 'Independent Claws*', 'Tall Tails']],\n",
       "  'name': 'Stevens',\n",
       "  'pattern': 'bicolor',\n",
       "  'weight': '8.12'},\n",
       " {'birthdate': '2010-11-30',\n",
       "  'color': 'cinnamon',\n",
       "  'locations': [['Independent Claws*']],\n",
       "  'name': 'Sassy',\n",
       "  'pattern': 'solid',\n",
       "  'weight': '8.67'},\n",
       " {'birthdate': '2003-04-14',\n",
       "  'color': 'red',\n",
       "  'locations': [['Hang In There*', 'Tall Tails']],\n",
       "  'name': 'Lily',\n",
       "  'pattern': 'bicolor',\n",
       "  'weight': '10.01'},\n",
       " {'birthdate': '2014-05-15',\n",
       "  'color': 'blue',\n",
       "  'locations': [['Paws and Play*', 'Independent Claws', 'Tall Tails']],\n",
       "  'name': \"O'Malley\",\n",
       "  'pattern': 'tortoiseshell',\n",
       "  'weight': '8.86'},\n",
       " {'birthdate': '2009-01-18',\n",
       "  'color': 'cinnamon',\n",
       "  'locations': [['Tall Tails*']],\n",
       "  'name': 'Maru',\n",
       "  'pattern': 'bicolor',\n",
       "  'weight': '10.09'},\n",
       " {'birthdate': '2004-03-04',\n",
       "  'color': 'lilac',\n",
       "  'locations': [['Tall Tails', 'Hang In There', 'Cats Meow*']],\n",
       "  'name': 'Oreo',\n",
       "  'pattern': 'bicolor',\n",
       "  'weight': '10.76'},\n",
       " {'birthdate': '2005-05-17',\n",
       "  'color': 'brown',\n",
       "  'locations': [['Cats Meow', 'Paws and Play', 'Tall Tails*']],\n",
       "  'name': 'Molly',\n",
       "  'pattern': 'colorpoint',\n",
       "  'weight': '9.58'},\n",
       " {'birthdate': '2007-06-25',\n",
       "  'color': 'brown',\n",
       "  'locations': [['Hang In There', 'Independent Claws', 'Cats Meow*']],\n",
       "  'name': 'Minette',\n",
       "  'pattern': 'calico',\n",
       "  'weight': '8.84'},\n",
       " {'birthdate': '2011-02-20',\n",
       "  'color': 'red',\n",
       "  'locations': [['Paws and Play*']],\n",
       "  'name': 'Smudge',\n",
       "  'pattern': 'colorpoint',\n",
       "  'weight': '12.00'},\n",
       " {'birthdate': '2007-12-02',\n",
       "  'color': 'black',\n",
       "  'locations': [['Cats Meow', 'Hang In There', 'Independent Claws*']],\n",
       "  'name': 'Jack',\n",
       "  'pattern': 'colorpoint',\n",
       "  'weight': '9.92'},\n",
       " {'birthdate': '2009-05-06',\n",
       "  'color': 'red',\n",
       "  'locations': [['Paws and Play*']],\n",
       "  'name': 'Lolcat',\n",
       "  'pattern': 'bicolor',\n",
       "  'weight': '8.88'},\n",
       " {'birthdate': '1998-07-18',\n",
       "  'color': 'cinnamon',\n",
       "  'locations': [['Independent Claws*']],\n",
       "  'name': 'Diana',\n",
       "  'pattern': 'colorpoint',\n",
       "  'weight': '7.81'},\n",
       " {'birthdate': '1997-11-29',\n",
       "  'color': 'brown',\n",
       "  'locations': [['Tall Tails*']],\n",
       "  'name': 'Minka',\n",
       "  'pattern': 'tabby',\n",
       "  'weight': '9.37'},\n",
       " {'birthdate': '1997-03-09',\n",
       "  'color': 'lilac',\n",
       "  'locations': [['Independent Claws', 'Cats Meow', 'Hang In There*']],\n",
       "  'name': 'Carlos',\n",
       "  'pattern': 'tabby',\n",
       "  'weight': '9.92'},\n",
       " {'birthdate': '1998-03-24',\n",
       "  'color': 'cinnamon',\n",
       "  'locations': [['Tall Tails', 'Independent Claws', 'Hang In There*']],\n",
       "  'name': 'Roquefort',\n",
       "  'pattern': 'colorpoint',\n",
       "  'weight': '9.73'},\n",
       " {'birthdate': '2005-12-25',\n",
       "  'color': 'brown',\n",
       "  'locations': [['Independent Claws', 'Paws and Play*']],\n",
       "  'name': 'Chanel',\n",
       "  'pattern': 'tabby',\n",
       "  'weight': '9.04'},\n",
       " {'birthdate': '2003-12-07',\n",
       "  'color': 'black',\n",
       "  'locations': [['Hang In There*', 'Independent Claws']],\n",
       "  'name': 'Jiji',\n",
       "  'pattern': 'tabby',\n",
       "  'weight': '10.35'},\n",
       " {'birthdate': '1997-01-04',\n",
       "  'color': 'fawn',\n",
       "  'locations': [['Paws and Play*', 'Cats Meow']],\n",
       "  'name': 'Poppy',\n",
       "  'pattern': 'calico',\n",
       "  'weight': '9.89'},\n",
       " {'birthdate': '2010-10-30',\n",
       "  'color': 'cinnamon',\n",
       "  'locations': [['Tall Tails*']],\n",
       "  'name': 'Berlioz',\n",
       "  'pattern': 'colorpoint',\n",
       "  'weight': '11.37'},\n",
       " {'birthdate': '2010-02-26',\n",
       "  'color': 'fawn',\n",
       "  'locations': [['Hang In There', 'Tall Tails', 'Independent Claws*']],\n",
       "  'name': 'Max',\n",
       "  'pattern': 'colorpoint',\n",
       "  'weight': '8.72'},\n",
       " {'birthdate': '1999-01-09',\n",
       "  'color': 'white',\n",
       "  'locations': [['Cats Meow*', 'Independent Claws', 'Tall Tails']],\n",
       "  'name': 'Lafayette',\n",
       "  'pattern': 'tortoiseshell',\n",
       "  'weight': '9.30'}]"
      ]
     },
     "execution_count": 3,
     "metadata": {},
     "output_type": "execute_result"
    }
   ],
   "source": [
    "cat_list = list()\n",
    "cat_table = document.find('table', {'class': 'cat-list'})\n",
    "tbody = cat_table.find('tbody')\n",
    "for tr_tag in tbody.find_all('tr'):\n",
    "    cat_dict = {}\n",
    "    bday = tr_tag.find('td', {'class': 'birthdate'})\n",
    "    bday_t = bday.string\n",
    "    color = tr_tag.find('td', {'class': 'color'})\n",
    "    color_t = color.string\n",
    "    loc = []\n",
    "    location = tr_tag.find('td', {'class': 'locations'})\n",
    "    locations = location.string.split(', ')\n",
    "    loc.append(locations)\n",
    "    name = tr_tag.find('td', {'class': 'name'})\n",
    "    name_t = name.string\n",
    "    pattern = tr_tag.find('td', {'class': 'pattern'})\n",
    "    pattern_t = pattern.string\n",
    "    weight = tr_tag.find('td', {'class': 'weight'})\n",
    "    weight_t = weight.string\n",
    "    cat_dict.update({'birthdate': bday_t, 'color': color_t, 'locations': loc, 'name': name_t, 'pattern': pattern_t, 'weight': weight_t})\n",
    "    cat_list.append(cat_dict)\n",
    "cat_list"
   ]
  },
  {
   "cell_type": "code",
   "execution_count": 4,
   "metadata": {
    "collapsed": true
   },
   "outputs": [],
   "source": [
    "import pg8000\n",
    "conn = pg8000.connect(user='postgres', password='password', database=\"test\")"
   ]
  },
  {
   "cell_type": "code",
   "execution_count": 5,
   "metadata": {
    "collapsed": true
   },
   "outputs": [],
   "source": [
    "cursor = conn.cursor()\n",
    "cursor.execute(\"\"\"\n",
    "CREATE TABLE cafe (\n",
    "  id serial,\n",
    "  name varchar(40),\n",
    "  zip varchar(5)\n",
    ")\n",
    "\"\"\")\n",
    "\n",
    "cursor.execute(\"\"\"\n",
    "CREATE TABLE cat (\n",
    "   id serial,\n",
    "   name varchar(60),\n",
    "   birthdate varchar(40),\n",
    "   weight numeric,\n",
    "   color varchar(40),\n",
    "   pattern varchar(40)   \n",
    ")\n",
    "\"\"\")\n",
    "\n",
    "cursor.execute(\"\"\"\n",
    "CREATE TABLE cat_cafe (\n",
    "   cat_id int,\n",
    "   cafe_id int,\n",
    "   active boolean\n",
    ")\n",
    "\"\"\")\n",
    "conn.commit()"
   ]
  },
  {
   "cell_type": "code",
   "execution_count": 6,
   "metadata": {
    "collapsed": true
   },
   "outputs": [],
   "source": [
    "cafe_name_id_map = {}\n",
    "for item in cafe_list:\n",
    "    cursor.execute(\"INSERT INTO cafe (name, zip) VALUES (%s, %s) RETURNING id\",\n",
    "                  [str(item['name']), str(item['zip'])])\n",
    "    rowid = cursor.fetchone()[0]\n",
    "    cafe_name_id_map[str(item['name'])] = rowid\n",
    "conn.commit()"
   ]
  },
  {
   "cell_type": "code",
   "execution_count": 7,
   "metadata": {
    "collapsed": false
   },
   "outputs": [
    {
     "data": {
      "text/plain": [
       "{'Cats Meow': 5,\n",
       " 'Hang In There': 1,\n",
       " 'Independent Claws': 2,\n",
       " 'Paws and Play': 3,\n",
       " 'Tall Tails': 4}"
      ]
     },
     "execution_count": 7,
     "metadata": {},
     "output_type": "execute_result"
    }
   ],
   "source": [
    "cafe_name_id_map"
   ]
  },
  {
   "cell_type": "code",
   "execution_count": 8,
   "metadata": {
    "collapsed": true
   },
   "outputs": [],
   "source": [
    "cat_name_id_map = {}\n",
    "for cat in cat_list:\n",
    "    cursor.execute(\"INSERT INTO cat(name, birthdate, weight, color, pattern) VALUES (%s, %s, %s, %s, %s) RETURNING id\", [str(cat['name']), str(cat['birthdate']), str(cat['weight']), str(cat['color']), str(cat['pattern'])])\n",
    "    catrowid = cursor.fetchone()[0]\n",
    "    cat_name_id_map[str(cat['name'])] = catrowid\n",
    "conn.commit()"
   ]
  },
  {
   "cell_type": "code",
   "execution_count": 27,
   "metadata": {
    "collapsed": true
   },
   "outputs": [],
   "source": [
    "conn.rollback()"
   ]
  },
  {
   "cell_type": "code",
   "execution_count": 9,
   "metadata": {
    "collapsed": false
   },
   "outputs": [
    {
     "data": {
      "text/plain": [
       "{'Angel': 16,\n",
       " 'Bella': 15,\n",
       " 'Berlioz': 38,\n",
       " 'Carlos': 33,\n",
       " 'Chanel': 35,\n",
       " 'Charlotte': 9,\n",
       " 'Charly': 12,\n",
       " 'Diana': 31,\n",
       " 'Garfield': 17,\n",
       " 'Georges': 4,\n",
       " 'Jack': 29,\n",
       " 'Jasper': 2,\n",
       " 'Jiji': 36,\n",
       " 'Lafayette': 40,\n",
       " 'Lily': 22,\n",
       " 'Lisa': 6,\n",
       " 'Lolcat': 30,\n",
       " 'Luna': 3,\n",
       " 'Maru': 24,\n",
       " 'Max': 39,\n",
       " 'Millie': 5,\n",
       " 'Mimi': 13,\n",
       " 'Minette': 27,\n",
       " 'Minka': 32,\n",
       " 'Molly': 26,\n",
       " 'Moritz': 19,\n",
       " \"O'Malley\": 23,\n",
       " 'Oliver': 18,\n",
       " 'Oreo': 25,\n",
       " 'Oscar': 7,\n",
       " 'Patches': 11,\n",
       " 'Poppy': 37,\n",
       " 'Roquefort': 34,\n",
       " 'Samantha': 14,\n",
       " 'Sassy': 21,\n",
       " 'Scaredy': 8,\n",
       " 'Smudge': 28,\n",
       " 'Stevens': 20,\n",
       " 'Sylvester': 1,\n",
       " 'Whiskers': 10}"
      ]
     },
     "execution_count": 9,
     "metadata": {},
     "output_type": "execute_result"
    }
   ],
   "source": [
    "cat_name_id_map"
   ]
  },
  {
   "cell_type": "code",
   "execution_count": 30,
   "metadata": {
    "collapsed": false
   },
   "outputs": [],
   "source": [
    "for cat in cat_list:\n",
    "    cat_id = cat_name_id_map[cat['name']]\n",
    "    for loc in cat['locations']:\n",
    "        #print(loc)\n",
    "        for i in loc:\n",
    "            if \"*\" in i:\n",
    "                #print(i)\n",
    "                active = True\n",
    "                cafe_id = cafe_name_id_map[i[:-1]]\n",
    "                cursor.execute(\"INSERT INTO cat_cafe(cafe_id, cat_id, active) VALUES (%s, %s, %s)\", [cafe_id, cat_id, active])\n",
    "            else:\n",
    "                active = False \n",
    "                cafe_id = cafe_name_id_map[i]\n",
    "                cursor.execute(\"INSERT INTO cat_cafe(cafe_id, cat_id, active) VALUES (%s, %s, %s)\", [cafe_id, cat_id, active])\n",
    "conn.commit()   "
   ]
  },
  {
   "cell_type": "code",
   "execution_count": null,
   "metadata": {
    "collapsed": true
   },
   "outputs": [],
   "source": []
  }
 ],
 "metadata": {
  "kernelspec": {
   "display_name": "Python 3",
   "language": "python",
   "name": "python3"
  },
  "language_info": {
   "codemirror_mode": {
    "name": "ipython",
    "version": 3
   },
   "file_extension": ".py",
   "mimetype": "text/x-python",
   "name": "python",
   "nbconvert_exporter": "python",
   "pygments_lexer": "ipython3",
   "version": "3.5.1"
  }
 },
 "nbformat": 4,
 "nbformat_minor": 0
}
