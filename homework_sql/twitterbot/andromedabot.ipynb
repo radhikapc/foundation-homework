{
 "cells": [
  {
   "cell_type": "code",
   "execution_count": 5,
   "metadata": {
    "collapsed": true
   },
   "outputs": [],
   "source": [
    "api_key = \"my key\"\n",
    "api_secret = \"my secret\""
   ]
  },
  {
   "cell_type": "code",
   "execution_count": 2,
   "metadata": {
    "collapsed": false
   },
   "outputs": [
    {
     "name": "stdout",
     "output_type": "stream",
     "text": [
      "Requirement already satisfied (use --upgrade to upgrade): twython in c:\\users\\radhika\\appdata\\local\\programs\\python\\python35-32\\lib\\site-packages\n",
      "Requirement already satisfied (use --upgrade to upgrade): requests>=2.1.0 in c:\\users\\radhika\\appdata\\local\\programs\\python\\python35-32\\lib\\site-packages (from twython)\n",
      "Requirement already satisfied (use --upgrade to upgrade): requests_oauthlib>=0.4.0 in c:\\users\\radhika\\appdata\\local\\programs\\python\\python35-32\\lib\\site-packages (from twython)\n",
      "Requirement already satisfied (use --upgrade to upgrade): oauthlib>=0.6.2 in c:\\users\\radhika\\appdata\\local\\programs\\python\\python35-32\\lib\\site-packages (from requests_oauthlib>=0.4.0->twython)\n"
     ]
    }
   ],
   "source": [
    "!pip3 install twython"
   ]
  },
  {
   "cell_type": "code",
   "execution_count": 7,
   "metadata": {
    "collapsed": false
   },
   "outputs": [
    {
     "name": "stdout",
     "output_type": "stream",
     "text": [
      "Log into Twitter as the user you want to authorize and visit this URL:\n",
      "\thttps://api.twitter.com/oauth/authenticate?oauth_token=EcOZWwAAAAAAwA4cAAABVdBc8k8\n"
     ]
    }
   ],
   "source": [
    "twitter = twython.Twython(api_key, api_secret)\n",
    "auth = twitter.get_authentication_tokens()\n",
    "print(\"Log into Twitter as the user you want to authorize and visit this URL:\")\n",
    "print(\"\\t\" + auth['auth_url'])"
   ]
  },
  {
   "cell_type": "code",
   "execution_count": 8,
   "metadata": {
    "collapsed": false
   },
   "outputs": [
    {
     "name": "stdout",
     "output_type": "stream",
     "text": [
      "your access token: 733731514526142466-06kcSBZvovHcpOvNqQfb9SrebkRiRFm\n",
      "your token secret: sAuJ5XFiiIQiq4ofCSgtOOZ4PS38J0vIA2A22AH1yOy5k\n"
     ]
    }
   ],
   "source": [
    "\n",
    "pin = \"0494636\"\n",
    "\n",
    "twitter = twython.Twython(api_key, api_secret, auth['oauth_token'], auth['oauth_token_secret'])\n",
    "tokens = twitter.get_authorized_tokens(pin)\n",
    "\n",
    "new_access_token = tokens['oauth_token']\n",
    "new_token_secret = tokens['oauth_token_secret']\n",
    "print(\"your access token:\", new_access_token)\n",
    "print(\"your token secret:\", new_token_secret)"
   ]
  },
  {
   "cell_type": "code",
   "execution_count": 9,
   "metadata": {
    "collapsed": true
   },
   "outputs": [],
   "source": [
    "twitter = twython.Twython(api_key, api_secret, new_access_token, new_token_secret)"
   ]
  },
  {
   "cell_type": "code",
   "execution_count": 10,
   "metadata": {
    "collapsed": false
   },
   "outputs": [
    {
     "data": {
      "text/plain": [
       "{'contributors': None,\n",
       " 'coordinates': None,\n",
       " 'created_at': 'Sat Jul 09 15:55:35 +0000 2016',\n",
       " 'entities': {'hashtags': [], 'symbols': [], 'urls': [], 'user_mentions': []},\n",
       " 'favorite_count': 0,\n",
       " 'favorited': False,\n",
       " 'geo': None,\n",
       " 'id': 751807018944561152,\n",
       " 'id_str': '751807018944561152',\n",
       " 'in_reply_to_screen_name': None,\n",
       " 'in_reply_to_status_id': None,\n",
       " 'in_reply_to_status_id_str': None,\n",
       " 'in_reply_to_user_id': None,\n",
       " 'in_reply_to_user_id_str': None,\n",
       " 'is_quote_status': False,\n",
       " 'lang': 'en',\n",
       " 'place': None,\n",
       " 'retweet_count': 0,\n",
       " 'retweeted': False,\n",
       " 'source': '<a href=\"https://twitter.com/radhika_lede\" rel=\"nofollow\">andromedabot</a>',\n",
       " 'text': \"hi there, I am testing my cute little Twitter Bot, how's it going :-)\",\n",
       " 'truncated': False,\n",
       " 'user': {'contributors_enabled': False,\n",
       "  'created_at': 'Fri May 20 18:49:59 +0000 2016',\n",
       "  'default_profile': True,\n",
       "  'default_profile_image': False,\n",
       "  'description': 'My_Bot@ColumbiaLedeProgram',\n",
       "  'entities': {'description': {'urls': []}},\n",
       "  'favourites_count': 0,\n",
       "  'follow_request_sent': False,\n",
       "  'followers_count': 1,\n",
       "  'following': False,\n",
       "  'friends_count': 7,\n",
       "  'geo_enabled': False,\n",
       "  'has_extended_profile': False,\n",
       "  'id': 733731514526142466,\n",
       "  'id_str': '733731514526142466',\n",
       "  'is_translation_enabled': False,\n",
       "  'is_translator': False,\n",
       "  'lang': 'en',\n",
       "  'listed_count': 0,\n",
       "  'location': '',\n",
       "  'name': 'My_Lede_Bot',\n",
       "  'notifications': False,\n",
       "  'profile_background_color': 'F5F8FA',\n",
       "  'profile_background_image_url': None,\n",
       "  'profile_background_image_url_https': None,\n",
       "  'profile_background_tile': False,\n",
       "  'profile_image_url': 'http://pbs.twimg.com/profile_images/750333936543395840/rt8ruH8U_normal.jpg',\n",
       "  'profile_image_url_https': 'https://pbs.twimg.com/profile_images/750333936543395840/rt8ruH8U_normal.jpg',\n",
       "  'profile_link_color': '2B7BB9',\n",
       "  'profile_sidebar_border_color': 'C0DEED',\n",
       "  'profile_sidebar_fill_color': 'DDEEF6',\n",
       "  'profile_text_color': '333333',\n",
       "  'profile_use_background_image': True,\n",
       "  'protected': False,\n",
       "  'screen_name': 'radhika_lede',\n",
       "  'statuses_count': 6,\n",
       "  'time_zone': None,\n",
       "  'url': None,\n",
       "  'utc_offset': None,\n",
       "  'verified': False}}"
      ]
     },
     "execution_count": 10,
     "metadata": {},
     "output_type": "execute_result"
    }
   ],
   "source": [
    "twitter.update_status(status=\"hi there, I am testing my cute little Twitter Bot, how's it going :-)\")"
   ]
  },
  {
   "cell_type": "code",
   "execution_count": 48,
   "metadata": {
    "collapsed": false
   },
   "outputs": [],
   "source": [
    "# setting up the Planet Database on Postgres\n",
    "import pg8000\n",
    "\n",
    "lakes = []\n",
    "\n",
    "conn = pg8000.connect(user='postgres', password='password', database='andromedabot')\n",
    "cursor = conn.cursor()\n",
    "cursor.execute(\"\"\"\n",
    "CREATE TABLE solarsystem (\n",
    "   name varchar(80),\n",
    "   radius varchar(80),\n",
    "   art_distance varchar(80),\n",
    "   distance varchar(80),\n",
    "   flattening varchar(80),\n",
    "   tilt varchar(80),\n",
    "   tilt_x varchar(80),\n",
    "   tilt_y varchar(80),\n",
    "   tilt_z varchar(80),\n",
    "   rotperiod varchar(80),\n",
    "   eccentricity varchar(80),\n",
    "   orbitperiod varchar(80),\n",
    "   texture varchar(80),\n",
    "   color varchar(80)\n",
    "\n",
    ")\n",
    "\"\"\")\n",
    "conn.commit()"
   ]
  },
  {
   "cell_type": "code",
   "execution_count": 51,
   "metadata": {
    "collapsed": true
   },
   "outputs": [],
   "source": [
    "conn.rollback()"
   ]
  },
  {
   "cell_type": "code",
   "execution_count": 49,
   "metadata": {
    "collapsed": false
   },
   "outputs": [],
   "source": [
    "cursor.execute(\"COPY solarsystem(name,radius,art_distance,distance,flattening,tilt,tilt_x,tilt_y,tilt_z,rotperiod,eccentricity,orbitperiod,texture,color) FROM '/Users/Radhika/Downloads/planets.csv' DELIMITER ',' CSV\")\n",
    "conn.commit()"
   ]
  },
  {
   "cell_type": "code",
   "execution_count": 52,
   "metadata": {
    "collapsed": false
   },
   "outputs": [
    {
     "data": {
      "text/plain": [
       "6"
      ]
     },
     "execution_count": 52,
     "metadata": {},
     "output_type": "execute_result"
    }
   ],
   "source": [
    "import pg8000\n",
    "\n",
    "solar_sys = []\n",
    "\n",
    "conn = pg8000.connect(user='postgres', password='password', database='andromedabot')\n",
    "cursor = conn.cursor()\n",
    "cursor.execute(\"SELECT name, radius, distance, tilt, rotperiod, orbitperiod FROM solarsystem\")\n",
    "for row in cursor.fetchall():\n",
    "    solar = {'name': row[0], 'radius':row[1], 'distance': row[2], 'tilt': row[3], 'rotperiod': row[4], 'orbitperiod': row[5]}\n",
    "    solar_sys.append(solar)\n",
    "len(solar)"
   ]
  },
  {
   "cell_type": "code",
   "execution_count": 53,
   "metadata": {
    "collapsed": true
   },
   "outputs": [],
   "source": [
    "sentences = {\n",
    "    'radius': 'The radius of Planet {} is {} kilometers.',\n",
    "    'distance': 'The distance of Planet {} from Sun is {} kilometers.',\n",
    "    'tilt': 'The tilt angle to orbit plane of Planet {} is {} degrees.',\n",
    "    'rotperiod': 'The rotation period of Planet {} is {} days.',\n",
    "    'orbitperiod': 'The orbital period of Planet {} is {} days.'\n",
    "    \n",
    "}"
   ]
  },
  {
   "cell_type": "code",
   "execution_count": 70,
   "metadata": {
    "collapsed": false
   },
   "outputs": [
    {
     "name": "stdout",
     "output_type": "stream",
     "text": [
      "The radius of Planet Earth is 6378 kilometers.\n",
      "The rotation period of Planet Earth is 0.99726968 days.\n",
      "The orbital period of Planet Jupiter is 4332.59 days.\n",
      "The distance of Planet Mercury from Sun is 57909050 kilometers.\n",
      "The rotation period of Planet Uranus is 0.71833 days.\n",
      "The distance of Planet Venus from Sun is 108208000 kilometers.\n",
      "The distance of Planet Jupiter from Sun is 778547200 kilometers.\n",
      "The radius of Planet Mars is 3396 kilometers.\n",
      "The orbital period of Planet Earth is 365.256363004 days.\n",
      "The orbital period of Planet Mercury is 87.9691 days.\n"
     ]
    }
   ],
   "source": [
    "import random\n",
    "def random_planet_sentence(solar_sys, sentences):\n",
    "    planet = random.choice(solar_sys)\n",
    "    possible_keys = [k for k, v in planet.items() if k != 'name']\n",
    "    col = random.choice(possible_keys)\n",
    "    sentence_template = sentences[col]\n",
    "    output = sentence_template.format(planet['name'], planet[col])\n",
    "    return output\n",
    "    \n",
    "for i in range(10):\n",
    "    print(random_planet_sentence(solar_sys, sentences))"
   ]
  },
  {
   "cell_type": "code",
   "execution_count": 85,
   "metadata": {
    "collapsed": false
   },
   "outputs": [
    {
     "data": {
      "text/plain": [
       "{'contributors': None,\n",
       " 'coordinates': None,\n",
       " 'created_at': 'Sat Jul 09 21:19:57 +0000 2016',\n",
       " 'entities': {'hashtags': [], 'symbols': [], 'urls': [], 'user_mentions': []},\n",
       " 'favorite_count': 0,\n",
       " 'favorited': False,\n",
       " 'geo': None,\n",
       " 'id': 751888647977312256,\n",
       " 'id_str': '751888647977312256',\n",
       " 'in_reply_to_screen_name': None,\n",
       " 'in_reply_to_status_id': None,\n",
       " 'in_reply_to_status_id_str': None,\n",
       " 'in_reply_to_user_id': None,\n",
       " 'in_reply_to_user_id_str': None,\n",
       " 'is_quote_status': False,\n",
       " 'lang': 'en',\n",
       " 'place': None,\n",
       " 'retweet_count': 0,\n",
       " 'retweeted': False,\n",
       " 'source': '<a href=\"https://twitter.com/radhika_lede\" rel=\"nofollow\">andromedabot</a>',\n",
       " 'text': 'The orbital period of Planet Jupiter is 4332.59 days. Wow!',\n",
       " 'truncated': False,\n",
       " 'user': {'contributors_enabled': False,\n",
       "  'created_at': 'Fri May 20 18:49:59 +0000 2016',\n",
       "  'default_profile': True,\n",
       "  'default_profile_image': False,\n",
       "  'description': 'My_Bot@ColumbiaLedeProgram',\n",
       "  'entities': {'description': {'urls': []}},\n",
       "  'favourites_count': 0,\n",
       "  'follow_request_sent': False,\n",
       "  'followers_count': 1,\n",
       "  'following': False,\n",
       "  'friends_count': 6,\n",
       "  'geo_enabled': False,\n",
       "  'has_extended_profile': False,\n",
       "  'id': 733731514526142466,\n",
       "  'id_str': '733731514526142466',\n",
       "  'is_translation_enabled': False,\n",
       "  'is_translator': False,\n",
       "  'lang': 'en',\n",
       "  'listed_count': 0,\n",
       "  'location': '',\n",
       "  'name': 'My_Lede_Bot',\n",
       "  'notifications': False,\n",
       "  'profile_background_color': 'F5F8FA',\n",
       "  'profile_background_image_url': None,\n",
       "  'profile_background_image_url_https': None,\n",
       "  'profile_background_tile': False,\n",
       "  'profile_image_url': 'http://pbs.twimg.com/profile_images/750333936543395840/rt8ruH8U_normal.jpg',\n",
       "  'profile_image_url_https': 'https://pbs.twimg.com/profile_images/750333936543395840/rt8ruH8U_normal.jpg',\n",
       "  'profile_link_color': '2B7BB9',\n",
       "  'profile_sidebar_border_color': 'C0DEED',\n",
       "  'profile_sidebar_fill_color': 'DDEEF6',\n",
       "  'profile_text_color': '333333',\n",
       "  'profile_use_background_image': True,\n",
       "  'protected': False,\n",
       "  'screen_name': 'LedeGalaxy',\n",
       "  'statuses_count': 20,\n",
       "  'time_zone': 'Pacific Time (US & Canada)',\n",
       "  'url': None,\n",
       "  'utc_offset': -25200,\n",
       "  'verified': False}}"
      ]
     },
     "execution_count": 85,
     "metadata": {},
     "output_type": "execute_result"
    }
   ],
   "source": [
    "flare = [\"Wow!\", \"Cool, huh?\", \"Now you know.\", \"See\", \"Neat-o!!\"]\n",
    "output = random_planet_sentence(solar_sys, sentences) + \" \" + random.choice(flare)\n",
    "twitter.update_status(status=output)"
   ]
  },
  {
   "cell_type": "code",
   "execution_count": null,
   "metadata": {
    "collapsed": true
   },
   "outputs": [],
   "source": []
  },
  {
   "cell_type": "code",
   "execution_count": null,
   "metadata": {
    "collapsed": true
   },
   "outputs": [],
   "source": []
  }
 ],
 "metadata": {
  "kernelspec": {
   "display_name": "Python 3",
   "language": "python",
   "name": "python3"
  },
  "language_info": {
   "codemirror_mode": {
    "name": "ipython",
    "version": 3
   },
   "file_extension": ".py",
   "mimetype": "text/x-python",
   "name": "python",
   "nbconvert_exporter": "python",
   "pygments_lexer": "ipython3",
   "version": "3.5.1"
  }
 },
 "nbformat": 4,
 "nbformat_minor": 0
}
